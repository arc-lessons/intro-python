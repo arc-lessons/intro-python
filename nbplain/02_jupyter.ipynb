{
 "cells": [
  {
   "cell_type": "markdown",
   "metadata": {},
   "source": [
    "# Jupyter Notebooks"
   ]
  },
  {
   "cell_type": "markdown",
   "metadata": {},
   "source": [
    "## Overview:\n",
    "- **Teaching:** 10 min\n",
    "- **Exercises:** 10 min\n",
    "\n",
    "**Questions**\n",
    "* What is a Jupyter notebook?\n",
    "* Why should I use one?\n",
    "\n",
    "**Objectives**\n",
    "* Create a Jupyter notebook\n",
    "* Enter code into the notebook\n",
    "* Augment the code with a description in markdown"
   ]
  },
  {
   "cell_type": "markdown",
   "metadata": {},
   "source": [
    "You should have a Python 3 notebook open, if not take a look at the setup page (the previous page in the schedule)."
   ]
  },
  {
   "cell_type": "markdown",
   "metadata": {},
   "source": [
    "## Info: Trying things out\n",
    "In this lesson you can have a Python 3 jupyter notebook open to try out any of the commands you see here and reproduce the results."
   ]
  },
  {
   "cell_type": "markdown",
   "metadata": {},
   "source": [
    "## Python in notebooks\n",
    "\n",
    "Jupyter provides a nice web-based interface to Python. In the below cells you can type a line of Python. For example, here we type in\n",
    "\n",
    "```python\n",
    "a = 5\n",
    "```\n",
    "\n",
    "When we press `SHIFT+Return` this Python line is interpreted interactively"
   ]
  },
  {
   "cell_type": "code",
   "execution_count": 1,
   "metadata": {},
   "outputs": [],
   "source": [
    "a = 5"
   ]
  },
  {
   "cell_type": "markdown",
   "metadata": {},
   "source": [
    "To see that this has worked, let's print the value of `a`"
   ]
  },
  {
   "cell_type": "code",
   "execution_count": 2,
   "metadata": {},
   "outputs": [
    {
     "name": "stdout",
     "output_type": "stream",
     "text": [
      "5\n"
     ]
    }
   ],
   "source": [
    "print(a)"
   ]
  },
  {
   "cell_type": "markdown",
   "metadata": {},
   "source": [
    "You can type whatever Python you want, and it will be evaluated interactively. For example..."
   ]
  },
  {
   "cell_type": "code",
   "execution_count": 3,
   "metadata": {},
   "outputs": [],
   "source": [
    "b = 10"
   ]
  },
  {
   "cell_type": "code",
   "execution_count": 4,
   "metadata": {},
   "outputs": [
    {
     "name": "stdout",
     "output_type": "stream",
     "text": [
      "15\n"
     ]
    }
   ],
   "source": [
    "print(a + b)"
   ]
  },
  {
   "cell_type": "markdown",
   "metadata": {},
   "source": [
    "One of the cool things about a Jupyter Python notebook is that you can edit the above cells and re-execute them. For example, change the value of `b` above and re-execute the lines [3] and [4] (by selecting the cell and pressing `SHIFT+Return`."
   ]
  },
  {
   "cell_type": "markdown",
   "metadata": {},
   "source": [
    "## Info: Out of order execution\n",
    "The ability to go back and change only small snippets of code is very useful, but also very dangerous form a coding point of view. If you edit a code cell and don't run _all_ the code cells after it, then any cell that isn't re-executed is still using the old code. Jupyter allows you to keep track of this by numbering its input, `In [3]` for instance means this block was executed third.\n",
    "\n",
    "If you get in a complete mess you can also clear all output, without removing the input and re-execute the code blocks in order.\n",
    "\n",
    "For your learning we would recommend during this course that you never go back and change anything.  Just re-write the code in the next cell.  This way you will have a record of everything you have done, examples of common mistakes which you can refer back to in order to reinforce your learning."
   ]
  },
  {
   "cell_type": "markdown",
   "metadata": {},
   "source": [
    "## Exercise: Hello Notebook!\n",
    "\n",
    "Use the cells in your notebook to type into the three Python lines\n",
    "\n",
    "```python\n",
    "a = \"Hello\"\n",
    "b = \"Notebook!\"\n",
    "print(a,b)\n",
    "```\n",
    "\n",
    "Execute the cells. This should print out `Hello Notebook!`.\n",
    "\n",
    "Now go back and change the values of `a` and `b` to `Goodbye` and `Everyone`. Re-execute your cells. This should now print out `Goodbye Everyone`."
   ]
  },
  {
   "cell_type": "markdown",
   "metadata": {},
   "source": [
    "## Solution: Hello Notebook!\n",
    "Type the lines of the exercise into the empty cells. Ensure that any cells you use are code cells and not markdown cells."
   ]
  },
  {
   "cell_type": "markdown",
   "metadata": {},
   "source": [
    "## Markdown in notebooks\n",
    "\n",
    "Another useful feature is that you can mix documentation into your notebook. Do this by selecting a **cell** from the menu bar and using the dropdown menu (on the toolbar at the top) to change the cell type to markdown. You can now add documentation, using [markdown](https://github.com/adam-p/markdown-here/wiki/Markdown-Cheatsheet) formatting. For example, use the hash symbol for headers.\n",
    "\n",
    "Typing\n",
    "\n",
    "```brainfuck\n",
    "# This is a big header\n",
    "\n",
    "## This is a subheading\n",
    "\n",
    "### This is a sub-sub-heading\n",
    "```\n",
    "and pressing `Shift + Return` results in:\n",
    "\n",
    "# This is a big header\n",
    "\n",
    "## This is a subheading\n",
    "\n",
    "### This is a sub-sub-heading"
   ]
  },
  {
   "cell_type": "markdown",
   "metadata": {},
   "source": [
    "You can add in hyperlinks using square brackets and round brackets. For example\n",
    "\n",
    "```brainfuck\n",
    "[link to github](https://github.com)\n",
    "```\n",
    "produces:\n",
    "\n",
    "[link to github](https://github.com)"
   ]
  },
  {
   "cell_type": "markdown",
   "metadata": {},
   "source": [
    "## Exercise: Mastering markdown\n",
    "\n",
    "Now change the type of the cell in your notebook to markdown. Type in some markdown in the cell and experiment with adding in headings and hyperlinks. Take a look through the [markdown cheat sheet](https://github.com/adam-p/markdown-here/wiki/Markdown-Cheatsheet) and see if you can add bullet point lists, images, or code blocks to your cell."
   ]
  },
  {
   "cell_type": "markdown",
   "metadata": {},
   "source": [
    "## Solution: Mastering markdown\n",
    "You can achieve everything in the exercise with the following code:\n",
    "\n",
    "```brainfuck\n",
    "### Level 3 Heading\n",
    "[hyperlink](https://www.google.co.uk)\n",
    "\n",
    "* bullet\n",
    "* point\n",
    "* list\n",
    "\n",
    "![](./path/to/image.png)\n",
    "\n",
    "code `keyword`\n",
    "```\n",
    "\n",
    "```python\n",
    "# block of code with python syntax highlighting\n",
    "for k in range(10):\n",
    "    print(k, 'Hello World!')\n",
    "```\n",
    "\n",
    "The final code block is displayed using three backticks ```` ``` ```` , but we use markdown to produce this material, so we can't show all the possible syntax here!"
   ]
  },
  {
   "cell_type": "markdown",
   "metadata": {},
   "source": [
    "## Key Points:\n",
    "* Jupyter notebooks allow you to write any Python code into a web interface.\n",
    "* Cell contents can be easily modified.\n",
    "* You need to be wary of out of order execution.\n",
    "* Markdown is useful for explaining what the code does and presenting your work."
   ]
  }
 ],
 "metadata": {
  "kernelspec": {
   "display_name": "Python 3",
   "language": "python",
   "name": "python3"
  },
  "language_info": {
   "codemirror_mode": {
    "name": "ipython",
    "version": 3
   },
   "file_extension": ".py",
   "mimetype": "text/x-python",
   "name": "python",
   "nbconvert_exporter": "python",
   "pygments_lexer": "ipython3",
   "version": "3.7.4"
  }
 },
 "nbformat": 4,
 "nbformat_minor": 2
}
