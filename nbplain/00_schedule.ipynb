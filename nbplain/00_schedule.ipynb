{
 "cells": [
  {
   "cell_type": "markdown",
   "metadata": {
    "slideshow": {
     "slide_type": "slide"
    }
   },
   "source": [
    "# Introduction to Python\n",
    "\n",
    "The best way to learn how to program is to do something useful, so this introduction to Python is built around a common scientific task: data analysis.\n",
    "\n",
    "Our real goal isn’t to just to teach Python, but to teach you the basic concepts that all programming depends on. We use Python in our lessons because:\n",
    "\n",
    "- we have to use something for examples\n",
    "- it’s free, well-documented, and runs almost everywhere\n",
    "- it has a large (and growing) user base among scientists\n",
    "- experience shows that it’s easier for novices to pick up than most other languages.\n",
    "\n",
    "But the two most important things are to use whatever language your colleagues are using, so that you can share your work with them easily, and to use that language well.\n"
   ]
  },
  {
   "cell_type": "markdown",
   "metadata": {
    "slideshow": {
     "slide_type": "slide"
    }
   },
   "source": [
    "## Prerequisites:\n",
    "\n",
    "In order to complete the tutorial you should be familiar with:\n",
    "- The linux command line"
   ]
  },
  {
   "cell_type": "markdown",
   "metadata": {
    "slideshow": {
     "slide_type": "slide"
    }
   },
   "source": [
    "## Schedule:\n",
    "Approximate timings for the lesson:\n",
    "\n",
    "| Time | Episode | Description |\n",
    "|---|---|---|\n",
    "| 0:00 | [Setup](./00_setup.ipynb) | Get set(up) |\n",
    "| 0:10 | [Getting Started with Python](./01_episode.ipynb) | Some first programs |\n",
    "| 0:30 | [Variables and Assignment](./02_episode.ipynb) | How do we store and access data? |\n",
    "| 0:50 | [Jupyter Notebooks](./02_jupyter.ipynb) | What's in a Jupyter notebook? |\n",
    "| 1:05 | [Datatypes and Conversion](./03_episode.ipynb) | How does python store data? |\n",
    "| 1:35 | [Lists](./04_episode.ipynb) | How can we store lists of data? |\n",
    "| 1:55 | [Looping](./05_episode.ipynb) | How do we efficiently access data stored in lists? |\n",
    "| 2:25 | [Making Choices](./06_episode.ipynb) | If then what or else |\n",
    "| 3:00 | [Creating Functions](./07_episode.ipynb) | Functions contain modular blocks of code for reuse |\n",
    "| 4:00 | [Libraries](./08_episode.ipynb) | Avoid reinventing the wheel |\n",
    "| 4:20 | [Reading Data](./09_episode.ipynb) | How do we read data into python? |\n",
    "| 5:00 | [Command-Line Programs](./10_episode.ipynb) | Combine all we've learnt to write useful programs |"
   ]
  }
 ],
 "metadata": {
  "celltoolbar": "Slideshow",
  "kernelspec": {
   "display_name": "Python 3",
   "language": "python",
   "name": "python3"
  },
  "language_info": {
   "codemirror_mode": {
    "name": "ipython",
    "version": 3
   },
   "file_extension": ".py",
   "mimetype": "text/x-python",
   "name": "python",
   "nbconvert_exporter": "python",
   "pygments_lexer": "ipython3",
   "version": "3.8.3"
  }
 },
 "nbformat": 4,
 "nbformat_minor": 2
}
