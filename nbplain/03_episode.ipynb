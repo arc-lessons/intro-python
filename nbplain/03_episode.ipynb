{
 "cells": [
  {
   "cell_type": "markdown",
   "metadata": {
    "slideshow": {
     "slide_type": "slide"
    }
   },
   "source": [
    "# Datatypes and Conversion"
   ]
  },
  {
   "cell_type": "markdown",
   "metadata": {
    "slideshow": {
     "slide_type": "slide"
    }
   },
   "source": [
    "## Overview:\n",
    "- **Teaching:** 10 min\n",
    "- **Exercises:** 5 min\n",
    "\n",
    "**Questions**\n",
    "- Why are there different types of values a computer can store?\n",
    "- What kind data types do programs store?\n",
    "- How can I convert one type to another?\n",
    "\n",
    "**Objectives**\n",
    "- Explain key differences between integers and floating point numbers.\n",
    "- Explain key differences between numbers and character strings.\n",
    "- Understand how to assign a value so it has the correct type.\n",
    "- Use built-in functions to convert between integers, floating point numbers, and strings."
   ]
  },
  {
   "cell_type": "markdown",
   "metadata": {
    "slideshow": {
     "slide_type": "slide"
    }
   },
   "source": [
    "# Every value has a type\n",
    "\n",
    "So far we have introduced different types of values.  Before we go any further we will explore this a little more to ensure that we are clear about differences between the types of values and the variables where they are stored.\n",
    "\n",
    "- Every value in a program has a specific type.\n",
    "- Integer (int): represents positive or negative whole numbers like 3 or -512.\n",
    "- Floating point number (float): represents real numbers like 3.14159 or -2.5.\n",
    "- Character string, usually called a string, (str): \"some text\".\n",
    "  - Written in either single quotes or double quotes (as long as they match).\n",
    "  - The quote marks aren’t printed when the string is displayed with `print()`."
   ]
  },
  {
   "cell_type": "markdown",
   "metadata": {
    "slideshow": {
     "slide_type": "slide"
    }
   },
   "source": [
    "## The `type` function\n",
    "\n",
    "We will use the function `type` to identify how Python stores the following values."
   ]
  },
  {
   "cell_type": "code",
   "execution_count": 1,
   "metadata": {
    "slideshow": {
     "slide_type": "subslide"
    }
   },
   "outputs": [
    {
     "name": "stdout",
     "output_type": "stream",
     "text": [
      "<class 'int'>\n"
     ]
    }
   ],
   "source": [
    "print(type(24))"
   ]
  },
  {
   "cell_type": "markdown",
   "metadata": {
    "slideshow": {
     "slide_type": "subslide"
    }
   },
   "source": [
    "`24` is recognised as a value of type `'int'`, where `'int'` as we might expect is short for `integer`."
   ]
  },
  {
   "cell_type": "code",
   "execution_count": 2,
   "metadata": {
    "slideshow": {
     "slide_type": "subslide"
    }
   },
   "outputs": [
    {
     "name": "stdout",
     "output_type": "stream",
     "text": [
      "<class 'float'>\n"
     ]
    }
   ],
   "source": [
    "print(type(70.0))"
   ]
  },
  {
   "cell_type": "markdown",
   "metadata": {
    "slideshow": {
     "slide_type": "subslide"
    }
   },
   "source": [
    "`70.0` is a `'float'`. Finally:"
   ]
  },
  {
   "cell_type": "code",
   "execution_count": 3,
   "metadata": {
    "slideshow": {
     "slide_type": "subslide"
    }
   },
   "outputs": [
    {
     "name": "stdout",
     "output_type": "stream",
     "text": [
      "<class 'str'>\n"
     ]
    }
   ],
   "source": [
    "print(type(\"James\"))"
   ]
  },
  {
   "cell_type": "markdown",
   "metadata": {
    "slideshow": {
     "slide_type": "slide"
    }
   },
   "source": [
    "## What about variables?\n",
    "\n",
    "Hopefully there are no surprises in the types that Python assigns to the values above, but what about variables.  Let's try run `type` on a new variable, `changeling`:"
   ]
  },
  {
   "cell_type": "code",
   "execution_count": 4,
   "metadata": {
    "slideshow": {
     "slide_type": "subslide"
    }
   },
   "outputs": [
    {
     "ename": "NameError",
     "evalue": "name 'changeling' is not defined",
     "output_type": "error",
     "traceback": [
      "\u001b[0;31m---------------------------------------------------------------------------\u001b[0m",
      "\u001b[0;31mNameError\u001b[0m                                 Traceback (most recent call last)",
      "\u001b[0;32m<ipython-input-4-e94e480168f6>\u001b[0m in \u001b[0;36m<module>\u001b[0;34m\u001b[0m\n\u001b[0;32m----> 1\u001b[0;31m \u001b[0mprint\u001b[0m\u001b[0;34m(\u001b[0m\u001b[0mtype\u001b[0m\u001b[0;34m(\u001b[0m\u001b[0mchangeling\u001b[0m\u001b[0;34m)\u001b[0m\u001b[0;34m)\u001b[0m\u001b[0;34m\u001b[0m\u001b[0m\n\u001b[0m",
      "\u001b[0;31mNameError\u001b[0m: name 'changeling' is not defined"
     ]
    }
   ],
   "source": [
    "print(type(changeling))"
   ]
  },
  {
   "cell_type": "markdown",
   "metadata": {
    "slideshow": {
     "slide_type": "subslide"
    }
   },
   "source": [
    "As we found out at the end of the last episode, we cannot use a variable before it has been assigned a value.  So let's assign a series of values and repeat:"
   ]
  },
  {
   "cell_type": "code",
   "execution_count": 1,
   "metadata": {
    "slideshow": {
     "slide_type": "slide"
    }
   },
   "outputs": [
    {
     "name": "stdout",
     "output_type": "stream",
     "text": [
      "<class 'int'>\n"
     ]
    }
   ],
   "source": [
    "changeling = 24\n",
    "print(type(changeling))"
   ]
  },
  {
   "cell_type": "code",
   "execution_count": 2,
   "metadata": {
    "slideshow": {
     "slide_type": "subslide"
    }
   },
   "outputs": [
    {
     "name": "stdout",
     "output_type": "stream",
     "text": [
      "<class 'float'>\n"
     ]
    }
   ],
   "source": [
    "changeling = 70.0\n",
    "print(type(changeling))"
   ]
  },
  {
   "cell_type": "code",
   "execution_count": 3,
   "metadata": {
    "slideshow": {
     "slide_type": "subslide"
    }
   },
   "outputs": [
    {
     "name": "stdout",
     "output_type": "stream",
     "text": [
      "<class 'str'>\n"
     ]
    }
   ],
   "source": [
    "changeling = \"James\"\n",
    "print(type(changeling))"
   ]
  },
  {
   "cell_type": "markdown",
   "metadata": {
    "slideshow": {
     "slide_type": "subslide"
    }
   },
   "source": [
    "We can see that in Python variables do not have a well defined type but are mutable, depending upon the value stored in them"
   ]
  },
  {
   "cell_type": "markdown",
   "metadata": {
    "slideshow": {
     "slide_type": "slide"
    }
   },
   "source": [
    "## Value types determine what operations are allowed\n",
    "\n",
    "The `type` of values determines what can be done with them for instance we have already seen that we can happily perform calculations e.g.:"
   ]
  },
  {
   "cell_type": "code",
   "execution_count": 4,
   "metadata": {
    "slideshow": {
     "slide_type": "subslide"
    }
   },
   "outputs": [
    {
     "name": "stdout",
     "output_type": "stream",
     "text": [
      "2\n"
     ]
    }
   ],
   "source": [
    "print(5-3)"
   ]
  },
  {
   "cell_type": "markdown",
   "metadata": {
    "slideshow": {
     "slide_type": "subslide"
    }
   },
   "source": [
    "We have also seen that if we mix `integers` and `floats`, Python is able to work out what to do:"
   ]
  },
  {
   "cell_type": "code",
   "execution_count": 5,
   "metadata": {
    "slideshow": {
     "slide_type": "subslide"
    }
   },
   "outputs": [
    {
     "name": "stdout",
     "output_type": "stream",
     "text": [
      "5.5\n"
     ]
    }
   ],
   "source": [
    "print(2+3.5)"
   ]
  },
  {
   "cell_type": "markdown",
   "metadata": {
    "slideshow": {
     "slide_type": "slide"
    }
   },
   "source": [
    "Because `integers` and `floats` are ways of representing numbers mathematical operations involving their values are well defined."
   ]
  },
  {
   "cell_type": "markdown",
   "metadata": {
    "slideshow": {
     "slide_type": "slide"
    }
   },
   "source": [
    "## Exercise: What about the following?\n",
    "\n",
    "Think about what would happen if you tried the following and then see if you can understand the output.\n",
    "\n",
    "1. `print(1+\"2\")`\n",
    "2. `print(\"Hello\"-\"world\")`"
   ]
  },
  {
   "cell_type": "markdown",
   "metadata": {
    "slideshow": {
     "slide_type": "slide"
    }
   },
   "source": [
    "## Exercise: Now try these:\n",
    "\n",
    "1. `print(\"Hello\"+\"world\")`\n",
    "2. `print(\"Hello\"*3)`"
   ]
  },
  {
   "cell_type": "markdown",
   "metadata": {
    "slideshow": {
     "slide_type": "slide"
    }
   },
   "source": [
    "## Exercise: Choosing the type of value.\n",
    "\n",
    "In the previous episode we used\n",
    "```python\n",
    "age = 36\n",
    "name = \"James\"\n",
    "print(name, \"is\", age, \"years old\")\n",
    "```\n",
    "What would happen if we had instead used\n",
    "```python\n",
    "age = \"36\"\n",
    "name = \"James\"\n",
    "print(name, \"is\", age, \"years old\")\n",
    "```\n",
    "Think about why we would choose to specify age as an `integer` (or `float`) rather than a `string`."
   ]
  },
  {
   "cell_type": "markdown",
   "metadata": {
    "slideshow": {
     "slide_type": "slide"
    }
   },
   "source": [
    "## Changing the type of a value\n",
    "\n",
    "As well as using the function `type` to retrieve the type of a value there are also a set of functions which can be used to change the type of a value.  These functions take the form of the value types `int()`, `float()` and `str()`"
   ]
  },
  {
   "cell_type": "code",
   "execution_count": 6,
   "metadata": {
    "slideshow": {
     "slide_type": "subslide"
    }
   },
   "outputs": [
    {
     "name": "stdout",
     "output_type": "stream",
     "text": [
      "String: 2 Integer: 2 Float: 2.0\n"
     ]
    }
   ],
   "source": [
    "print(\"String:\",\"2\", \"Integer:\", int(\"2\"), \"Float:\", float(\"2\")) # Take the string \"2\", convert it to a integer, a float and print all three cases"
   ]
  },
  {
   "cell_type": "code",
   "execution_count": 7,
   "metadata": {
    "slideshow": {
     "slide_type": "subslide"
    }
   },
   "outputs": [
    {
     "name": "stdout",
     "output_type": "stream",
     "text": [
      "Float 2.5 String: 2.5 Integer: 2\n"
     ]
    }
   ],
   "source": [
    "\n",
    "print(\"Float\", 2.5, \"String:\", str(2.5), \"Integer:\", int(2.5))   # Take the float 2.5, convert it to a string, an integer and print all three cases"
   ]
  },
  {
   "cell_type": "markdown",
   "metadata": {
    "slideshow": {
     "slide_type": "slide"
    }
   },
   "source": [
    "So if we return to the earlier exercise where we tried the command `print(1+\"2\")` we now know that in order to perform the integer calculation `1+2` we need to convert the second value `\"2\"` to integer in order for the code to be valid:"
   ]
  },
  {
   "cell_type": "code",
   "execution_count": 8,
   "metadata": {
    "slideshow": {
     "slide_type": "subslide"
    }
   },
   "outputs": [
    {
     "name": "stdout",
     "output_type": "stream",
     "text": [
      "3\n"
     ]
    }
   ],
   "source": [
    "print(1 + int(\"2\")) "
   ]
  },
  {
   "cell_type": "markdown",
   "metadata": {
    "slideshow": {
     "slide_type": "subslide"
    }
   },
   "source": [
    "Alternatively it may have been our intentions to 'add' or combine the two `strings` `\"1\"` and `\"2\"` in which case we would instead need:"
   ]
  },
  {
   "cell_type": "code",
   "execution_count": 10,
   "metadata": {
    "slideshow": {
     "slide_type": "subslide"
    }
   },
   "outputs": [
    {
     "name": "stdout",
     "output_type": "stream",
     "text": [
      "12\n"
     ]
    }
   ],
   "source": [
    "print(str(1)+\"2\")"
   ]
  },
  {
   "cell_type": "markdown",
   "metadata": {
    "slideshow": {
     "slide_type": "slide"
    }
   },
   "source": [
    "## What about a variables type?\n",
    "\n",
    "So far we have used the functions `str`, `int` and `float`, to change the type of values.  How does running these commands on a variable affect the type of the value assigned to them?  When can investigate this with the following:"
   ]
  },
  {
   "cell_type": "code",
   "execution_count": 11,
   "metadata": {
    "slideshow": {
     "slide_type": "subslide"
    }
   },
   "outputs": [
    {
     "name": "stdout",
     "output_type": "stream",
     "text": [
      "2\n",
      "22222\n",
      "2.0\n",
      "22222\n"
     ]
    }
   ],
   "source": [
    "my_variable = \"2\"               # First we assign the value, string \"2\", to the variable my_variable\n",
    "print(my_variable)              # Print the variable\n",
    "print(my_variable*5)            # Verify that the variable is a string but testing the behaviour with `*`\n",
    "print( float(my_variable) )     # Convert the value in variable to a float and print it\n",
    "print(my_variable*5)            # Verify what the variable type is now by testing the behaviour with `*`"
   ]
  },
  {
   "cell_type": "markdown",
   "metadata": {
    "slideshow": {
     "slide_type": "subslide"
    }
   },
   "source": [
    "We see that this has not changed the type of the value stored in `my_variable`.  The commands only change the `type` of the value at that point in the code.  For example if we have the string `\"2\"`, running `int(\"2\")` does not change the fact that `\"2\"` is a string."
   ]
  },
  {
   "cell_type": "markdown",
   "metadata": {
    "slideshow": {
     "slide_type": "slide"
    }
   },
   "source": [
    "If we want the conversion to be reflected in the value stored in a variable, we must reassign the variable:"
   ]
  },
  {
   "cell_type": "code",
   "execution_count": 12,
   "metadata": {
    "slideshow": {
     "slide_type": "slide"
    }
   },
   "outputs": [
    {
     "name": "stdout",
     "output_type": "stream",
     "text": [
      "2\n",
      "22222\n",
      "2.0\n",
      "10.0\n"
     ]
    }
   ],
   "source": [
    "my_variable = \"2\"                   # First we assign the value, string \"2\", to the variable my_variable\n",
    "print(my_variable)                  # Print the variable\n",
    "print(my_variable*5)                # Verify that the variable is a string but testing the behaviour with `*`\n",
    "print( float(my_variable) )         # Convert the value in variable to a float and print it\n",
    "my_variable = float(my_variable)    # Now we explicitly reassign the my_variable\n",
    "print(my_variable*5)                # Verify what the variable type is now by testing the behaviour with `*`"
   ]
  },
  {
   "cell_type": "markdown",
   "metadata": {
    "slideshow": {
     "slide_type": "subslide"
    }
   },
   "source": [
    "We can now see that the variable has been explicitly reassigned to the value converted to a float, and this has been verified by checking that `*` now performs the numerical operation we expect rather than the repeating the string multiple times."
   ]
  },
  {
   "cell_type": "markdown",
   "metadata": {
    "slideshow": {
     "slide_type": "slide"
    }
   },
   "source": [
    "## Exercise: Decimals and fractions\n",
    "\n",
    "What type of values are the following and how can you find out?\n",
    "\n",
    "1. 3.4\n",
    "2. 1/3\n",
    "3. 4/4\n",
    "\n",
    "[Solution]()"
   ]
  },
  {
   "cell_type": "markdown",
   "metadata": {
    "slideshow": {
     "slide_type": "slide"
    }
   },
   "source": [
    "## Solution: Decimals and fractions\n",
    "\n",
    "1.  `print(type(3.4))`<br>\n",
    "    `<class 'float'>`\n",
    "2.  `print(type(1/3))`<br>\n",
    "    `<class 'float'>`\n",
    "3.  `print(type(4/4))`<br>\n",
    "    `<class 'float'>`"
   ]
  },
  {
   "cell_type": "markdown",
   "metadata": {
    "slideshow": {
     "slide_type": "slide"
    }
   },
   "source": [
    "## Exercise: Choose a Type\n",
    "\n",
    "What type of value (integer, floating point number, or character string) would you use to represent each of the following? Try to come up with more than one good answer for each problem. For example, in # 1, when would counting days with a floating point variable make more sense than using an integer?\n",
    "\n",
    "1. Number of days since the start of the year.\n",
    "2. Time elapsed from the start of the year until now in days.\n",
    "3. Serial number of a piece of lab equipment.\n",
    "4. A lab specimen’s age\n",
    "5. Current population of a city.\n",
    "6. Average population of a city over time.\n",
    "\n",
    "[Solution]()"
   ]
  },
  {
   "cell_type": "markdown",
   "metadata": {
    "slideshow": {
     "slide_type": "slide"
    }
   },
   "source": [
    "## Solution: Choose a Type\n",
    "\n",
    "Possible answers to the questions are:\n",
    "\n",
    "1. Integer, since the number of days would lie between 1 and 365.\n",
    "2. Floating point, since fractional days are required\n",
    "3. Character string if serial number contains letters and numbers, otherwise integer if the serial number consists only of numerals\n",
    "4. This will vary! How do you define a specimen’s age? whole days since collection (integer)? date and time (string)? Number of seconds since creation (integer/float)\n",
    "5. Choose floating point to represent population as large aggreates (eg millions), or integer to represent population in units of individuals.\n",
    "6. Floating point number, since an average is likely to have a fractional part."
   ]
  },
  {
   "cell_type": "markdown",
   "metadata": {
    "slideshow": {
     "slide_type": "slide"
    }
   },
   "source": [
    "## Exercise: Values and types\n",
    "\n",
    "What will be the value and type resulting from the following.  Trying working them out first then try the for yourself.\n",
    "1. 3.25 + 4\n",
    "2. 4 + 3.25\n",
    "3. int(4/3)\n",
    "4. int(\"3.4\")\n",
    "5. int(float(\"3.4\"))\n",
    "6. int(3.99)\n",
    "7. float(\"Hello world!\")\n",
    "\n",
    "[Solution]()"
   ]
  },
  {
   "cell_type": "markdown",
   "metadata": {
    "slideshow": {
     "slide_type": "slide"
    }
   },
   "source": [
    "## Solution: Values and types\n",
    "\n",
    "1. `7.25`, `float`\n",
    "2. `7.25`, `float`, (In Python 3 the whole calculation is treated as floating point irrespective of the order of the values)\n",
    "3. `1`, `int`, the calculation is performed as floating point (in Python 3) and then converted to an `integer`\n",
    "4. `ValueError: invalid literal for int() with base 10: '3.4'` <br>\n",
    "   Python is unable to convert from a `string` to `integer` unless the `string` is an 'integer'.\n",
    "5. `3`, `int` <br>\n",
    "   But it can convert first to a `float` and then to an `integer`.\n",
    "6. `3`, `int` <br>\n",
    "   When converting to an integer Python does not 'round the value to the nearest integer but effectively ignores the fractional/decimal part\n",
    "7. `ValueError: could not convert string to float: 'Hello World!'`"
   ]
  },
  {
   "cell_type": "markdown",
   "metadata": {
    "slideshow": {
     "slide_type": "slide"
    }
   },
   "source": [
    "## Exercise: Calculating with variables with different types\n",
    "\n",
    "Which of the following will print 2.0? Note: there may be more than one right answer.\n",
    "\n",
    "```python\n",
    "first = 1.0\n",
    "second = \"1\"\n",
    "third = \"1.1\"\n",
    "```\n",
    "\n",
    "1. `first + float(second)`\n",
    "2. `float(second) + float(third)`\n",
    "3. `first + int(third)`\n",
    "4. `first + int(float(third))`\n",
    "5. `int(first) + int(float(third))`\n",
    "6. `2.0 * second`\n",
    "\n",
    "[Solution]()"
   ]
  },
  {
   "cell_type": "markdown",
   "metadata": {
    "slideshow": {
     "slide_type": "slide"
    }
   },
   "source": [
    "## Solution: Calculating with variables with different types\n",
    "\n",
    "1 and 4 give the result 2.0.  The complete results should be:\n",
    "\n",
    "1. `2.0`\n",
    "2. `2.1`\n",
    "3. `ValueError: invalid literal for int() with base 10: '1.1'`\n",
    "4. `2.0`\n",
    "5. `2`\n",
    "6. `TypeError: can't multiply sequence by non-int of type 'float'`"
   ]
  },
  {
   "cell_type": "markdown",
   "metadata": {
    "slideshow": {
     "slide_type": "slide"
    }
   },
   "source": [
    "## Exercise: Division Types\n",
    "\n",
    "In Python 3, we have seen how the `/` operator performs floating-point division, even if the values that it operates on are `integers`, these are first converted to `floats`. If we want to explicitly tell Python 3 to perform an integer calculation, the `//` operator performs integer (whole-number) floor division, and the `%` (or modulo) operator calculates and returns the remainder from integer division.  Try the following:\n",
    "\n",
    "```python\n",
    "print('5 // 3:', 5//3)\n",
    "print('5 / 3:', 5/3)\n",
    "print('5 % 3:', 5%3)\n",
    "```\n",
    "\n",
    "Once again try to work out what the result, and its type are likely to be before running the code."
   ]
  },
  {
   "cell_type": "markdown",
   "metadata": {
    "slideshow": {
     "slide_type": "slide"
    }
   },
   "source": [
    "## Key Points:\n",
    "- Every value has a type.\n",
    "- In Python you can use the built-in function `type` to find the type of a value.\n",
    "- The `type` controls what operations can be done on values.\n",
    "- Strings can be added and multiplied.\n",
    "- Must convert numbers to strings or vice versa when operating on them.\n",
    "- In Python you can mix integers and floats freely in operations.\n",
    "- Variables only change value when something is assigned to them."
   ]
  }
 ],
 "metadata": {
  "celltoolbar": "Slideshow",
  "kernelspec": {
   "display_name": "Python 3",
   "language": "python",
   "name": "python3"
  },
  "language_info": {
   "codemirror_mode": {
    "name": "ipython",
    "version": 3
   },
   "file_extension": ".py",
   "mimetype": "text/x-python",
   "name": "python",
   "nbconvert_exporter": "python",
   "pygments_lexer": "ipython3",
   "version": "3.7.4"
  }
 },
 "nbformat": 4,
 "nbformat_minor": 2
}
