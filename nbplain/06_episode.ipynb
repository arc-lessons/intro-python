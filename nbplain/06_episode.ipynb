{
  "cells": [
    {
      "metadata": {
        "slideshow": {
          "slide_type": "slide"
        }
      },
      "cell_type": "markdown",
      "source": "# Making Choices"
    },
    {
      "metadata": {
        "slideshow": {
          "slide_type": "slide"
        }
      },
      "cell_type": "markdown",
      "source": "## Overview\n- **Teaching:** 10 min\n- **Exercises:** 10 min\n\n**Questions**\n- How can programs do different things based on values?\n\n**Objectives**\n- Understand the structure of conditional statements\n- Understand the flow of `if`, `elif` and `else` branches\n- Correctly evaulate logical expressions containing `and` and/or `or`"
    },
    {
      "metadata": {
        "slideshow": {
          "slide_type": "slide"
        }
      },
      "cell_type": "markdown",
      "source": "In our last episode we looked at loops, one of the fundamental building blocks of programming, because they allow us repeat tasks many times.  We now look at on of the other main building blocks, conditional statemnts, which allow us to make choices.\n\nIn Python we can make our programs take different actions, depending on conditions using an `if` statement:"
    },
    {
      "metadata": {
        "slideshow": {
          "slide_type": "subslide"
        },
        "trusted": false
      },
      "cell_type": "code",
      "source": "num = 37\nif num > 100:\n    print(num, \"is bigger than 100\")\nelse: \n    print(num, \"is smaller than 100\")\nprint(\"Done\")",
      "execution_count": 1,
      "outputs": [
        {
          "name": "stdout",
          "output_type": "stream",
          "text": "37 is smaller than 100\nDone\n"
        }
      ]
    },
    {
      "metadata": {
        "slideshow": {
          "slide_type": "slide"
        }
      },
      "cell_type": "markdown",
      "source": "The following decision diagram helps to understand what is happening:\n\n![Decision Flow Diagram](../images/python-flowchart-conditional.png)\n\nWe enter the section of code at the top and arrive at the diamond, where the program checks whether the value in variable `num` is greater than 100.  If the condition is `True` the program takes the left branch, and if the condition is `False` it takes the right branch.  Once the conditional is finished to two branches come back together.\n\nThe `else` branch can be omitted as in:"
    },
    {
      "metadata": {
        "slideshow": {
          "slide_type": "slide"
        },
        "trusted": false
      },
      "cell_type": "code",
      "source": "num = 163\nif num > 100:\n    print(num, \"is bigger than 100\")\nprint(\"Done\")",
      "execution_count": 2,
      "outputs": [
        {
          "name": "stdout",
          "output_type": "stream",
          "text": "163 is bigger than 100\nDone\n"
        }
      ]
    },
    {
      "metadata": {
        "slideshow": {
          "slide_type": "subslide"
        }
      },
      "cell_type": "markdown",
      "source": "Or we can have additional `elif` branches:"
    },
    {
      "metadata": {
        "slideshow": {
          "slide_type": "subslide"
        },
        "trusted": false
      },
      "cell_type": "code",
      "source": "num = 42\nif num > 100:\n    print(num, \"is bigger than 100\")\nelif num == 42:\n    print(num, \"is the Answer to the Ultimate Question of Life, the Universe and Everything\")    \nelse: \n    print(num, \"is smaller than 100\")\nprint(\"Done\")",
      "execution_count": 3,
      "outputs": [
        {
          "name": "stdout",
          "output_type": "stream",
          "text": "42 is the Answer to the Ultimate Question of Life, the Universe and Everything\nDone\n"
        }
      ]
    },
    {
      "metadata": {
        "slideshow": {
          "slide_type": "slide"
        }
      },
      "cell_type": "markdown",
      "source": "## Information: The structure of conditionals\n\nLet's look at this in more detail:\n\n1. The structure of a conditional statement begins with an `if` statement.\n2. Then we have the **condition** which typically makes a comparison between two values, in our example, the value stored in `num` and the value `100`\n3. The condition is that the first value should be greater, `>`, than the second value.\n4. If the condition is `True` we execute the **body** that follows.\n\nAn `elif` statement is essentially the same as an `if` statement except that it can only follow an `if`, or another `elif`.  It has a separate condition and also causes the **body** following it to be executed if the condition is `True`.\nAn `else` statement allows us to execute a further **body** of code if none of the preceeding conditions are `True`.\n\nIn Python, similar to what we saw in loops, the statements `if`, `elif` and `else`, must be followed by a colon ':' and the **body** of code following them must be indented."
    },
    {
      "metadata": {
        "slideshow": {
          "slide_type": "slide"
        }
      },
      "cell_type": "markdown",
      "source": "## Pin: True and False\n`True` and `False` are special words in Python called booleans, which represent truth values. A statement such as `1 < 0` returns the value `False`, while `-1 < 0` returns the value `True`."
    },
    {
      "metadata": {
        "slideshow": {
          "slide_type": "subslide"
        }
      },
      "cell_type": "markdown",
      "source": "## Pin: Conditional Operators:\n\nIn Python we can use the following conditional operators:\n\n| Operator | Operation |\n|-|-|\n| > | Greater than |\n|>= | Greater than or equal to|\n| == | Equal to |\n| <= | Less than or equal to |\n| < | Less than |\n\nNote that the operator for `is equal to` is **two** equal signs `==`."
    },
    {
      "metadata": {
        "slideshow": {
          "slide_type": "slide"
        }
      },
      "cell_type": "markdown",
      "source": "## Boolean Operators\n\nWe can combine conditional statements using the Boolean operators, `and` and `or`.  If we use these it is useful to put the conditional components is parentheses (brackets) so that our intention is clear:"
    },
    {
      "metadata": {
        "slideshow": {
          "slide_type": "subslide"
        },
        "trusted": false
      },
      "cell_type": "code",
      "source": "if (1 > 0) and (-1 > 0):\n    print('both parts are true')\nelse:\n    print('at least one part is false')",
      "execution_count": 4,
      "outputs": [
        {
          "name": "stdout",
          "output_type": "stream",
          "text": "at least one part is false\n"
        }
      ]
    },
    {
      "metadata": {
        "slideshow": {
          "slide_type": "subslide"
        },
        "trusted": false
      },
      "cell_type": "code",
      "source": "if (1 < 0) or (-1 < 0):\n    print('at least one test is true')",
      "execution_count": 5,
      "outputs": [
        {
          "name": "stdout",
          "output_type": "stream",
          "text": "at least one test is true\n"
        }
      ]
    },
    {
      "metadata": {
        "slideshow": {
          "slide_type": "slide"
        }
      },
      "cell_type": "markdown",
      "source": "We can also use the `not` operator to invert the condition:"
    },
    {
      "metadata": {
        "slideshow": {
          "slide_type": "subslide"
        },
        "trusted": false
      },
      "cell_type": "code",
      "source": "if not( (1 > 0) and (-1 < 0) ):\n    print('not (both parts are true)')\nelse:\n    print('false that not (both parts are true)')",
      "execution_count": 6,
      "outputs": [
        {
          "name": "stdout",
          "output_type": "stream",
          "text": "false that not (both parts are true)\n"
        }
      ]
    },
    {
      "metadata": {
        "slideshow": {
          "slide_type": "slide"
        }
      },
      "cell_type": "markdown",
      "source": "## Exercise: How many paths?\n\nConsider this code:\n```python\nif 4 > 4:\n    print('A')\nelif 4 == 4:\n    print('B')\nelif 4 <= 4:\n    print('C')\n```\nWhich of the following would be printed if you were to run this code? Why did you pick this answer?\n\n1. A\n2. B\n3. C\n4. B and C"
    },
    {
      "metadata": {
        "slideshow": {
          "slide_type": "slide"
        }
      },
      "cell_type": "markdown",
      "source": "## Solution: How many paths?\n\nThe answer is B.  The condition `4 > 4` evaluates to `False`, while the conditions `4 == 4` and `4 <= 4` both evaluate to `True`.  However because in our code the program would meet `elif 4 == 4` first, it would execute the **body** contained in that branch.  A program can only follow **one** branch in a conditional statement."
    },
    {
      "metadata": {
        "slideshow": {
          "slide_type": "slide"
        }
      },
      "cell_type": "markdown",
      "source": "## Exercise: Close Enough\n\nWrite some conditions that print True if the variable a is within 10% of the variable b and False otherwise. Compare your implementation with your neighbour’s: Do you get the same answer for different pairs of numbers?\n\nHint: Use the function `abs(value)` to obtain the absolute of a value."
    },
    {
      "metadata": {
        "slideshow": {
          "slide_type": "slide"
        }
      },
      "cell_type": "markdown",
      "source": "## Solution: Close enough\n\n```python\na = 5\nb = 5.1\n\nif abs(b - a) < 0.1 * abs(a):\n    print('True')\nelse:\n    print('False')\n```\nIf you may have a different order of `a` and `b` from you neighbour then you may see different results with certain pairs of values."
    },
    {
      "metadata": {
        "slideshow": {
          "slide_type": "slide"
        }
      },
      "cell_type": "markdown",
      "source": "## Exercise: Counting Vowels\n1. Write a loop that counts the number of vowels in a character string.\n2. Test it on a few individual words and full sentences.\n3. Once you are done, compare your solution to your neighbour’s. Did you make the same decisions about how to handle the letter ‘y’ (which some people think is a vowel, and some do not)?\n\nHint: \n- `for ch in string:` loops over each character in a string in turn; \n- `if test_ch in string:` is `True` if the value in `test_ch` is a character in the string"
    },
    {
      "metadata": {
        "slideshow": {
          "slide_type": "-"
        }
      },
      "cell_type": "markdown",
      "source": "## Solution: Counting Vowels\n\n```python\nvowels = 'aeiouAEIOU'\nsentence = 'Mary had a little lamb.'\ncount = 0\nfor char in sentence:\n    if char in vowels:\n        count += 1\n\nprint(\"The number of vowels in this string is \" + str(count))\n```\n."
    },
    {
      "metadata": {
        "slideshow": {
          "slide_type": "slide"
        }
      },
      "cell_type": "markdown",
      "source": "## Pen: What Is Truth?\n`True` and `False` booleans are not the only values in Python that can be evaluated true and false. In fact, any value can be used in an `if` or `elif`. \n\n```python\nif '':\n    print('empty string is true')\nif 'word':\n    print('word is true')\nif []:\n    print('empty list is true')\nif [1, 2, 3]:\n    print('non-empty list is true')\nif 0:\n    print('zero is true')\nif 1:\n    print('one is true')\nif undeclared_variable:\n    print('is true')\n\n```\nAfter reading and running the code above, explain what the rule is for which values are considered `True` and which are considered `False`.   "
    },
    {
      "metadata": {
        "slideshow": {
          "slide_type": "slide"
        }
      },
      "cell_type": "markdown",
      "source": "## Key Points\n- Use `if` condition to start a conditional statement, `elif` condition to provide additional tests, and `else` to provide a default.\n- The bodies of the branches of conditional statements must be indented.\n- Use `==` to test for equality.\n- `X and Y` is only `True` if both X and Y are `True`.\n- `X or Y` is `True` if either X or Y, or both, are `True`.\n- `0`, 'the empty string', and 'the empty list' are considered false; all other numbers, strings, and lists are considered true.\n- True and False represent truth values."
    }
  ],
  "metadata": {
    "celltoolbar": "Slideshow",
    "kernelspec": {
      "name": "python3",
      "display_name": "Python 3",
      "language": "python"
    },
    "language_info": {
      "mimetype": "text/x-python",
      "nbconvert_exporter": "python",
      "name": "python",
      "file_extension": ".py",
      "version": "3.5.4",
      "pygments_lexer": "ipython3",
      "codemirror_mode": {
        "version": 3,
        "name": "ipython"
      }
    }
  },
  "nbformat": 4,
  "nbformat_minor": 2
}