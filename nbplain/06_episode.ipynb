{
 "cells": [
  {
   "cell_type": "markdown",
   "metadata": {
    "slideshow": {
     "slide_type": "slide"
    }
   },
   "source": [
    "# Making Choices"
   ]
  },
  {
   "cell_type": "markdown",
   "metadata": {
    "slideshow": {
     "slide_type": "slide"
    }
   },
   "source": [
    "## Overview:\n",
    "- **Teaching:** 10 min\n",
    "- **Exercises:** 10 min\n",
    "\n",
    "**Questions**\n",
    "- How can programs do different things based on values?\n",
    "\n",
    "**Objectives**\n",
    "- Understand the structure of conditional statements\n",
    "- Understand the flow of `if`, `elif` and `else` branches\n",
    "- Correctly evaulate logical expressions containing `and` and/or `or`"
   ]
  },
  {
   "cell_type": "markdown",
   "metadata": {
    "slideshow": {
     "slide_type": "slide"
    }
   },
   "source": [
    "In our last episode we looked at loops, one of the fundamental building blocks of programming, because they allow us repeat tasks many times.  We now look at on of the other main building blocks, conditional statemnts, which allow us to make choices.\n",
    "\n",
    "In Python we can make our programs take different actions, depending on conditions using an `if` statement:"
   ]
  },
  {
   "cell_type": "code",
   "execution_count": 1,
   "metadata": {
    "slideshow": {
     "slide_type": "subslide"
    }
   },
   "outputs": [
    {
     "name": "stdout",
     "output_type": "stream",
     "text": [
      "37 is smaller than 100\n",
      "Done\n"
     ]
    }
   ],
   "source": [
    "num = 37\n",
    "if num > 100:\n",
    "    print(num, \"is bigger than 100\")\n",
    "else: \n",
    "    print(num, \"is smaller than 100\")\n",
    "print(\"Done\")"
   ]
  },
  {
   "cell_type": "markdown",
   "metadata": {
    "slideshow": {
     "slide_type": "slide"
    }
   },
   "source": [
    "The following decision diagram helps to understand what is happening:\n",
    "\n",
    "![Decision Flow Diagram](../images/python-flowchart-conditional.png)\n",
    "\n",
    "We enter the section of code at the top and arrive at the diamond, where the program checks whether the value in variable `num` is greater than 100.  If the condition is `True` the program takes the left branch, and if the condition is `False` it takes the right branch.  Once the conditional is finished to two branches come back together.\n",
    "\n",
    "The `else` branch can be omitted as in:"
   ]
  },
  {
   "cell_type": "code",
   "execution_count": 2,
   "metadata": {
    "slideshow": {
     "slide_type": "slide"
    }
   },
   "outputs": [
    {
     "name": "stdout",
     "output_type": "stream",
     "text": [
      "163 is bigger than 100\n",
      "Done\n"
     ]
    }
   ],
   "source": [
    "num = 163\n",
    "if num > 100:\n",
    "    print(num, \"is bigger than 100\")\n",
    "print(\"Done\")"
   ]
  },
  {
   "cell_type": "markdown",
   "metadata": {
    "slideshow": {
     "slide_type": "subslide"
    }
   },
   "source": [
    "Or we can have additional `elif` branches:"
   ]
  },
  {
   "cell_type": "code",
   "execution_count": 3,
   "metadata": {
    "slideshow": {
     "slide_type": "subslide"
    }
   },
   "outputs": [
    {
     "name": "stdout",
     "output_type": "stream",
     "text": [
      "42 is the Answer to the Ultimate Question of Life, the Universe and Everything\n",
      "Done\n"
     ]
    }
   ],
   "source": [
    "num = 42\n",
    "if num > 100:\n",
    "    print(num, \"is bigger than 100\")\n",
    "elif num == 42:\n",
    "    print(num, \"is the Answer to the Ultimate Question of Life, the Universe and Everything\")    \n",
    "else: \n",
    "    print(num, \"is smaller than 100\")\n",
    "print(\"Done\")"
   ]
  },
  {
   "cell_type": "markdown",
   "metadata": {
    "slideshow": {
     "slide_type": "slide"
    }
   },
   "source": [
    "## Information: The structure of conditionals\n",
    "\n",
    "Let's look at this in more detail:\n",
    "\n",
    "1. The structure of a conditional statement begins with an `if` statement.\n",
    "2. Then we have the **condition** which typically makes a comparison between two values, in our example, the value stored in `num` and the value `100`\n",
    "3. The condition is that the first value should be greater, `>`, than the second value.\n",
    "4. If the condition is `True` we execute the **body** that follows.\n",
    "\n",
    "An `elif` statement is essentially the same as an `if` statement except that it can only follow an `if`, or another `elif`.  It has a separate condition and also causes the **body** following it to be executed if the condition is `True`.\n",
    "An `else` statement allows us to execute a further **body** of code if none of the preceeding conditions are `True`.\n",
    "\n",
    "In Python, similar to what we saw in loops, the statements `if`, `elif` and `else`, must be followed by a colon ':' and the **body** of code following them must be indented."
   ]
  },
  {
   "cell_type": "markdown",
   "metadata": {
    "slideshow": {
     "slide_type": "slide"
    }
   },
   "source": [
    "## Information: True and False\n",
    "`True` and `False` are special words in Python called booleans, which represent truth values. A statement such as `1 < 0` returns the value `False`, while `-1 < 0` returns the value `True`."
   ]
  },
  {
   "cell_type": "markdown",
   "metadata": {
    "slideshow": {
     "slide_type": "subslide"
    }
   },
   "source": [
    "## Information: Conditional Operators:\n",
    "\n",
    "In Python we can use the following conditional operators:\n",
    "\n",
    "| Operator | Operation |\n",
    "|-|-|\n",
    "| > | Greater than |\n",
    "|>= | Greater than or equal to|\n",
    "| == | Equal to |\n",
    "| <= | Less than or equal to |\n",
    "| < | Less than |\n",
    "\n",
    "Note that the operator for `is equal to` is **two** equal signs `==`."
   ]
  },
  {
   "cell_type": "markdown",
   "metadata": {
    "slideshow": {
     "slide_type": "slide"
    }
   },
   "source": [
    "## Boolean Operators\n",
    "\n",
    "We can combine conditional statements using the Boolean operators, `and` and `or`.  If we use these it is useful to put the conditional components is parentheses (brackets) so that our intention is clear:"
   ]
  },
  {
   "cell_type": "code",
   "execution_count": 4,
   "metadata": {
    "slideshow": {
     "slide_type": "subslide"
    }
   },
   "outputs": [
    {
     "name": "stdout",
     "output_type": "stream",
     "text": [
      "at least one part is false\n"
     ]
    }
   ],
   "source": [
    "if (1 > 0) and (-1 > 0):\n",
    "    print('both parts are true')\n",
    "else:\n",
    "    print('at least one part is false')"
   ]
  },
  {
   "cell_type": "code",
   "execution_count": 5,
   "metadata": {
    "slideshow": {
     "slide_type": "subslide"
    }
   },
   "outputs": [
    {
     "name": "stdout",
     "output_type": "stream",
     "text": [
      "at least one test is true\n"
     ]
    }
   ],
   "source": [
    "if (1 < 0) or (-1 < 0):\n",
    "    print('at least one test is true')"
   ]
  },
  {
   "cell_type": "markdown",
   "metadata": {
    "slideshow": {
     "slide_type": "slide"
    }
   },
   "source": [
    "We can also use the `not` operator to invert the condition:"
   ]
  },
  {
   "cell_type": "code",
   "execution_count": 6,
   "metadata": {
    "slideshow": {
     "slide_type": "subslide"
    }
   },
   "outputs": [
    {
     "name": "stdout",
     "output_type": "stream",
     "text": [
      "false that not (both parts are true)\n"
     ]
    }
   ],
   "source": [
    "if not( (1 > 0) and (-1 < 0) ):\n",
    "    print('not (both parts are true)')\n",
    "else:\n",
    "    print('false that not (both parts are true)')"
   ]
  },
  {
   "cell_type": "markdown",
   "metadata": {
    "slideshow": {
     "slide_type": "slide"
    }
   },
   "source": [
    "## Exercise: How many paths?\n",
    "\n",
    "Consider this code:\n",
    "```python\n",
    "if 4 > 4:\n",
    "    print('A')\n",
    "elif 4 == 4:\n",
    "    print('B')\n",
    "elif 4 <= 4:\n",
    "    print('C')\n",
    "```\n",
    "Which of the following would be printed if you were to run this code? Why did you pick this answer?\n",
    "\n",
    "1. A\n",
    "2. B\n",
    "3. C\n",
    "4. B and C\n",
    "\n",
    "[Solution]()"
   ]
  },
  {
   "cell_type": "markdown",
   "metadata": {
    "slideshow": {
     "slide_type": "slide"
    }
   },
   "source": [
    "## Solution: How many paths?\n",
    "\n",
    "The answer is B.  The condition `4 > 4` evaluates to `False`, while the conditions `4 == 4` and `4 <= 4` both evaluate to `True`.  However because in our code the program would meet `elif 4 == 4` first, it would execute the **body** contained in that branch.  A program can only follow **one** branch in a conditional statement."
   ]
  },
  {
   "cell_type": "markdown",
   "metadata": {
    "slideshow": {
     "slide_type": "slide"
    }
   },
   "source": [
    "## Exercise: Close Enough\n",
    "\n",
    "Write some conditions that print True if the variable a is within 10% of the variable b and False otherwise. Compare your implementation with your neighbour’s: Do you get the same answer for different pairs of numbers?\n",
    "\n",
    "Hint: Use the function `abs(value)` to obtain the absolute of a value.\n",
    "\n",
    "[Solution]()"
   ]
  },
  {
   "cell_type": "markdown",
   "metadata": {
    "slideshow": {
     "slide_type": "slide"
    }
   },
   "source": [
    "## Solution: Close enough\n",
    "\n",
    "```python\n",
    "a = 5\n",
    "b = 5.1\n",
    "\n",
    "if abs(b - a) < 0.1 * abs(a):\n",
    "    print('True')\n",
    "else:\n",
    "    print('False')\n",
    "```\n",
    "If you may have a different order of `a` and `b` from you neighbour then you may see different results with certain pairs of values."
   ]
  },
  {
   "cell_type": "markdown",
   "metadata": {
    "slideshow": {
     "slide_type": "slide"
    }
   },
   "source": [
    "## Exercise: Counting Vowels\n",
    "1. Write a loop that counts the number of vowels in a character string.\n",
    "2. Test it on a few individual words and full sentences.\n",
    "3. Once you are done, compare your solution to your neighbour’s. Did you make the same decisions about how to handle the letter ‘y’ (which some people think is a vowel, and some do not)?\n",
    "\n",
    "Hint: \n",
    "- `for ch in string:` loops over each character in a string in turn; \n",
    "- `if test_ch in string:` is `True` if the value in `test_ch` is a character in the string\n",
    "\n",
    "[Solution]()"
   ]
  },
  {
   "cell_type": "markdown",
   "metadata": {
    "slideshow": {
     "slide_type": "-"
    }
   },
   "source": [
    "## Solution: Counting Vowels\n",
    "\n",
    "```python\n",
    "vowels = 'aeiouAEIOU'\n",
    "sentence = 'Mary had a little lamb.'\n",
    "count = 0\n",
    "for char in sentence:\n",
    "    if char in vowels:\n",
    "        count += 1\n",
    "\n",
    "print(\"The number of vowels in this string is \" + str(count))\n",
    "```\n",
    "."
   ]
  },
  {
   "cell_type": "markdown",
   "metadata": {
    "slideshow": {
     "slide_type": "slide"
    }
   },
   "source": [
    "## Exercise: What Is Truth?\n",
    "`True` and `False` booleans are not the only values in Python that can be evaluated true and false. In fact, any value can be used in an `if` or `elif`. \n",
    "\n",
    "```python\n",
    "if '':\n",
    "    print('empty string is true')\n",
    "if 'word':\n",
    "    print('word is true')\n",
    "if []:\n",
    "    print('empty list is true')\n",
    "if [1, 2, 3]:\n",
    "    print('non-empty list is true')\n",
    "if 0:\n",
    "    print('zero is true')\n",
    "if 1:\n",
    "    print('one is true')\n",
    "if undeclared_variable:\n",
    "    print('is true')\n",
    "\n",
    "```\n",
    "After reading and running the code above, explain what the rule is for which values are considered `True` and which are considered `False`.   "
   ]
  },
  {
   "cell_type": "markdown",
   "metadata": {
    "slideshow": {
     "slide_type": "slide"
    }
   },
   "source": [
    "## Key Points:\n",
    "- Use `if` condition to start a conditional statement, `elif` condition to provide additional tests, and `else` to provide a default.\n",
    "- The bodies of the branches of conditional statements must be indented.\n",
    "- Use `==` to test for equality.\n",
    "- `X and Y` is only `True` if both X and Y are `True`.\n",
    "- `X or Y` is `True` if either X or Y, or both, are `True`.\n",
    "- `0`, 'the empty string', and 'the empty list' are considered false; all other numbers, strings, and lists are considered true.\n",
    "- True and False represent truth values."
   ]
  }
 ],
 "metadata": {
  "celltoolbar": "Slideshow",
  "kernelspec": {
   "display_name": "Python 3",
   "language": "python",
   "name": "python3"
  },
  "language_info": {
   "codemirror_mode": {
    "name": "ipython",
    "version": 3
   },
   "file_extension": ".py",
   "mimetype": "text/x-python",
   "name": "python",
   "nbconvert_exporter": "python",
   "pygments_lexer": "ipython3",
   "version": "3.7.4"
  }
 },
 "nbformat": 4,
 "nbformat_minor": 2
}
