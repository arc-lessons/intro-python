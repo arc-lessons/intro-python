{
 "cells": [
  {
   "cell_type": "markdown",
   "metadata": {
    "slideshow": {
     "slide_type": "slide"
    }
   },
   "source": [
    "# Getting started with Python"
   ]
  },
  {
   "cell_type": "markdown",
   "metadata": {
    "slideshow": {
     "slide_type": "subslide"
    }
   },
   "source": [
    "## Overview:\n",
    "- **Teaching:** 10 min\n",
    "- **Exercises:** 0 min\n",
    "\n",
    "**Questions**\n",
    "- How do I write and execute code?\n",
    "- How do I print to the screen?\n",
    "- How can I perform calculations with Python?\n",
    "\n",
    "**Objectives**\n",
    "- Understand how to write to the screen.\n",
    "- Understand how to use mathematical operators to perform calculations"
   ]
  },
  {
   "cell_type": "markdown",
   "metadata": {
    "slideshow": {
     "slide_type": "slide"
    }
   },
   "source": [
    "## Hello World!\n",
    "Convention dictates that everyone's first program should be `hello world`.  While this seems of limited use it is really important on several counts:\n",
    "\n",
    "- It shows that we can write code\n",
    "- It quickly tests our ability to write legal code\n",
    "- It shows us how to get output from our programs, which is the point in the long run.\n",
    "\n",
    "Input the follwing code and press **SHIFT+ENTER** to execute."
   ]
  },
  {
   "cell_type": "code",
   "execution_count": 1,
   "metadata": {
    "slideshow": {
     "slide_type": "slide"
    }
   },
   "outputs": [
    {
     "name": "stdout",
     "output_type": "stream",
     "text": [
      "Hello world!\n"
     ]
    }
   ],
   "source": [
    "print(\"Hello world!\")"
   ]
  },
  {
   "cell_type": "markdown",
   "metadata": {
    "slideshow": {
     "slide_type": "slide"
    }
   },
   "source": [
    "## Information: print(string)\n",
    "\n",
    "If your code has executed correctly you should see the output `Hello World!`.  There are a couple of things to point out here:\n",
    "\n",
    "- We have used a built in function `print`, to print the text `Hello World!` to the screen\n",
    "- We have put the text we want to print in double, `\"` or single, `'` quotes.\n",
    "- You can try both options but they must be used consistently.\n",
    "- In the version of python we are using, everything we want to print must be contained in `(`, `)`, brackets/parentheses."
   ]
  },
  {
   "cell_type": "markdown",
   "metadata": {},
   "source": [
    "As a result:"
   ]
  },
  {
   "cell_type": "code",
   "execution_count": 2,
   "metadata": {
    "slideshow": {
     "slide_type": "slide"
    }
   },
   "outputs": [
    {
     "name": "stdout",
     "output_type": "stream",
     "text": [
      "Hello Drew!\n"
     ]
    }
   ],
   "source": [
    "print('Hello Drew!')"
   ]
  },
  {
   "cell_type": "markdown",
   "metadata": {
    "slideshow": {
     "slide_type": "slide"
    }
   },
   "source": [
    "executes correctly but:"
   ]
  },
  {
   "cell_type": "code",
   "execution_count": 3,
   "metadata": {
    "slideshow": {
     "slide_type": "slide"
    }
   },
   "outputs": [
    {
     "ename": "SyntaxError",
     "evalue": "EOL while scanning string literal (<ipython-input-3-0ab50b600b96>, line 1)",
     "output_type": "error",
     "traceback": [
      "\u001b[1;36m  File \u001b[1;32m\"<ipython-input-3-0ab50b600b96>\"\u001b[1;36m, line \u001b[1;32m1\u001b[0m\n\u001b[1;33m    print(\"Hello anyone!')\u001b[0m\n\u001b[1;37m                          ^\u001b[0m\n\u001b[1;31mSyntaxError\u001b[0m\u001b[1;31m:\u001b[0m EOL while scanning string literal\n"
     ]
    }
   ],
   "source": [
    "print(\"Hello anyone!')"
   ]
  },
  {
   "cell_type": "markdown",
   "metadata": {
    "slideshow": {
     "slide_type": "slide"
    }
   },
   "source": [
    "and:"
   ]
  },
  {
   "cell_type": "code",
   "execution_count": 4,
   "metadata": {
    "slideshow": {
     "slide_type": "slide"
    }
   },
   "outputs": [
    {
     "ename": "SyntaxError",
     "evalue": "Missing parentheses in call to 'print'. Did you mean print(\"Hello anyone!\")? (<ipython-input-4-e24e65dc5b9e>, line 1)",
     "output_type": "error",
     "traceback": [
      "\u001b[1;36m  File \u001b[1;32m\"<ipython-input-4-e24e65dc5b9e>\"\u001b[1;36m, line \u001b[1;32m1\u001b[0m\n\u001b[1;33m    print \"Hello anyone!\"\u001b[0m\n\u001b[1;37m                        ^\u001b[0m\n\u001b[1;31mSyntaxError\u001b[0m\u001b[1;31m:\u001b[0m Missing parentheses in call to 'print'. Did you mean print(\"Hello anyone!\")?\n"
     ]
    }
   ],
   "source": [
    "print \"Hello anyone!\""
   ]
  },
  {
   "cell_type": "markdown",
   "metadata": {
    "slideshow": {
     "slide_type": "slide"
    }
   },
   "source": [
    "raise `SyntaxError`s.  The messages are Python's way of trying to tell you what it thinks is wrong with the code you have written.  Sometimes these messages can be quite long, so generally it is best read them from bottom to top.\n",
    "\n",
    "In the first case the error message is `EOL while scanning string literal`, which needs some explanation.  \n",
    "\n",
    "- `EOL` means `End of line` and in this context means Python reached the end of the line (while scanning) without having read a complete command.\n",
    "- `string literal` references that Python, and programming languages in general refer to text as strings (of characters).  We will use this term a lot.\n",
    "- `strings` must be contained in matching pairs of quotes, the first indicates the start of the string, the second its end.\n",
    "\n",
    "In the second case, Python has done a really good job of telling us it thinks the problem is. `Missing parentheses in call to 'print'. Did you mean print(\"Hello anyone!\")?`, yes we did forget the parentheses and the suggested corrections is what we meant to type."
   ]
  },
  {
   "cell_type": "markdown",
   "metadata": {
    "slideshow": {
     "slide_type": "slide"
    }
   },
   "source": [
    "## Information: Save your work and ask for help\n",
    "\n",
    "During this course we recommend that you save your work so that you can return to the lesson to go over material and remember what worked and what didn't.  Everyone makes mistakes coding, as soon as you embrace this and learn from it you will make progress.  You can save your notebook using the usual disk symbol in the top left of the notebook.\n",
    "\n",
    "If you are stuck ask for help, demonstrators are here to help, and while we all started coding once, whenever you are doing something new we all need assistance!"
   ]
  },
  {
   "cell_type": "markdown",
   "metadata": {
    "slideshow": {
     "slide_type": "slide"
    }
   },
   "source": [
    "## Using Python as a calculator\n",
    "\n",
    "After saying hello to the world let's see if we can use Python to perform some calculations, afterall this is what computers are supposed to be good for.  Let's try a couple of examples:"
   ]
  },
  {
   "cell_type": "code",
   "execution_count": 5,
   "metadata": {
    "slideshow": {
     "slide_type": "subslide"
    }
   },
   "outputs": [
    {
     "name": "stdout",
     "output_type": "stream",
     "text": [
      "6\n"
     ]
    }
   ],
   "source": [
    "print(4+2)"
   ]
  },
  {
   "cell_type": "code",
   "execution_count": 6,
   "metadata": {
    "slideshow": {
     "slide_type": "subslide"
    }
   },
   "outputs": [
    {
     "name": "stdout",
     "output_type": "stream",
     "text": [
      "2\n"
     ]
    }
   ],
   "source": [
    "print(3-1)"
   ]
  },
  {
   "cell_type": "code",
   "execution_count": 7,
   "metadata": {
    "slideshow": {
     "slide_type": "subslide"
    }
   },
   "outputs": [
    {
     "name": "stdout",
     "output_type": "stream",
     "text": [
      "15\n"
     ]
    }
   ],
   "source": [
    "print(5*3)"
   ]
  },
  {
   "cell_type": "code",
   "execution_count": 8,
   "metadata": {
    "slideshow": {
     "slide_type": "subslide"
    }
   },
   "outputs": [
    {
     "name": "stdout",
     "output_type": "stream",
     "text": [
      "2.0\n"
     ]
    }
   ],
   "source": [
    "print(6/3)"
   ]
  },
  {
   "cell_type": "markdown",
   "metadata": {
    "slideshow": {
     "slide_type": "slide"
    }
   },
   "source": [
    "## Information: Maths operators\n",
    "\n",
    "These simple calculations have performed as we would expect, note that:\n",
    "\n",
    "- To perform multiplation we use the asterix `*` and divide a forward slash `/`.\n",
    "- Your output may be slightly different depending on the version of Ipython you are running"
   ]
  },
  {
   "cell_type": "markdown",
   "metadata": {
    "slideshow": {
     "slide_type": "slide"
    }
   },
   "source": [
    "## Exercise: Your turn\n",
    "\n",
    "Before trying these commmands think about what the output might be, then run them and see if you were correct:\n",
    "\n",
    "1. `\"Hello World!\"`\n",
    "2. `print(42)`\n",
    "3. `7+1`\n",
    "4. `7.0+1`\n",
    "5. `5/3`\n",
    "6. `5.0/3.0`\n",
    "7. `1/0`\n",
    "8. `0/0`\n",
    "9. `0.0/0.0`\n",
    "10. `1 + 0.000001`\n",
    "11. `1 + 0.0000000000000001`"
   ]
  },
  {
   "cell_type": "markdown",
   "metadata": {
    "slideshow": {
     "slide_type": "slide"
    }
   },
   "source": [
    "## Information: How are numbers represented\n",
    "\n",
    "These exercises highlight a couple of features of programming languages which we will explore further in the next two episodes.  Without getting into the specifics or philosophy of maths or computing, it is good to have an appreciation for what is going on, how computers represent numbers and how they resolve undefined quantities.\n",
    "\n",
    "* 1. As with the output of calculations if we just input a string, python will print this to the screen, note that the output is slightly different from before.\n",
    "\n",
    "Programming languages have to represent numbers in a finite amount of computer memory and in order to enable this they typically have two classes of numbers: `integers`, the discrete values, and `real` numbers or floating point numbers, `floats`, the continuous number line. \n",
    "\n",
    "`Integers` and `floats` are data types in the same way as the `string` that we saw earlier, except that rather than representing characters they represent numerical values.  When Python performs a calculation it examines the values entered and what you are trying to do and makes a decision how to do it.\n",
    "\n",
    "* 2. In order to print numbers we do not need to enclose them in parentheses, numerical values are different from `strings` of characters.\n",
    "* 3. When we asked `7+1` the entire calculation could be evaluated as integers, `7`, `1` and `8` are all integers.\n",
    "* 4. In specifying `7.0+1` the `7.0` meant the whole calculation was treated as floating point, so the result was given as `8.0`\n",
    "* 5. and 6. When performing division, regardless of the representation Python cannot know what the result will be so assumes that it will be a float.\n",
    "* 7. and 8. Integer division by zero is not defined.\n",
    "* 9. Neither is floating point division by zero but the error is slightly different\n",
    "* 10. and 11.  Only a finite amount of space, `memory` is available for representing numbers, for floating point numbers this means that the precision is limited.  One result of this is that at a certain point adding a relatively `small` number to a relatively `big` one does not change the big one.\n",
    "\n",
    "Note that differences between Python 2 and Python 3 mean that the results of these operations will change.  This is why we run `ipython3` to ensure we are using the correct version."
   ]
  },
  {
   "cell_type": "markdown",
   "metadata": {
    "slideshow": {
     "slide_type": "slide"
    }
   },
   "source": [
    "## Exercise: BODMAS\n",
    "\n",
    "Evaluate the following expressions then check the result with Python\n",
    "\n",
    "1. `3 + 4 / 2 + 1`\n",
    "2. `(3 + 4) / 2 + 1`\n",
    "3. `3 + 4 / (2 + 1)`\n",
    "4. `(3 + 4) / (2 + 1)`\n",
    "\n",
    "[Solution]()"
   ]
  },
  {
   "cell_type": "markdown",
   "metadata": {
    "slideshow": {
     "slide_type": "subslide"
    }
   },
   "source": [
    "## Solution: BODMAS\n",
    "\n",
    "Like we were taught in primary school, computers evaluate calculation according to the order dictated by 'Brackets (Of) Division Multiplication Addition Subtraction':\n",
    "\n",
    "1. `6.0`\n",
    "2. `4.5`\n",
    "3. `4.3333..`\n",
    "4. `2.3333..`\n",
    "\n",
    "Use brackets where necessary but try to avoid using too many as this will make your code more readable."
   ]
  },
  {
   "cell_type": "markdown",
   "metadata": {
    "slideshow": {
     "slide_type": "slide"
    }
   },
   "source": [
    "## Key Points:\n",
    "- `print( )` allows us to output to the screen.\n",
    "- When we make mistakes, `python` tries to help us work out what went wrong.\n",
    "- `strings` of characters need to be enclosed in pairs of quotes, either `\" \"` or `' '`\n",
    "- Number are represented either as `integers` or `floats` and have a finite amount of memory available to them.\n",
    "- Undefined operations such as dividing by `0` raise errors to inform us there has been a problem.\n",
    "- Different programming languages (and versions) can have different behaviour that may affect how our programs work."
   ]
  }
 ],
 "metadata": {
  "celltoolbar": "Slideshow",
  "kernelspec": {
   "display_name": "Python 3",
   "language": "python",
   "name": "python3"
  },
  "language_info": {
   "codemirror_mode": {
    "name": "ipython",
    "version": 3
   },
   "file_extension": ".py",
   "mimetype": "text/x-python",
   "name": "python",
   "nbconvert_exporter": "python",
   "pygments_lexer": "ipython3",
   "version": "3.8.3"
  }
 },
 "nbformat": 4,
 "nbformat_minor": 2
}
