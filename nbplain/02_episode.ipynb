{
  "cells": [
    {
      "metadata": {
        "slideshow": {
          "slide_type": "slide"
        }
      },
      "cell_type": "markdown",
      "source": "# Variables and Assignment"
    },
    {
      "metadata": {
        "slideshow": {
          "slide_type": "slide"
        }
      },
      "cell_type": "markdown",
      "source": "## Overview\n- **Teaching:** 10 min\n- **Exercises:** 5 min\n\n**Questions**\n- How can we store and access data?\n- How does this allow us to write more general code?\n- What happens when we assign one variable to another?\n\n**Objectives**\n- Understand that using variables allows us to generalise the behaviour of our code.\n- Write programs that assign values to variables and perform calucations with them.\n- Understand that values persist within the `Ipython3` session\n- Correctly trace value changes in programs."
    },
    {
      "metadata": {
        "slideshow": {
          "slide_type": "slide"
        }
      },
      "cell_type": "markdown",
      "source": "## Strings in variables\n\nIt would be good if instead of having to explicitly type out the values that we wish to print or calculate we could store and access them so that we could re-use programs.  We do this with variables and we'll start by considering our `Hello World!` program from the previous episode.  Let's generalise the original code:"
    },
    {
      "metadata": {
        "slideshow": {
          "slide_type": "subslide"
        },
        "trusted": false
      },
      "cell_type": "code",
      "source": "name = \"World\"\nprint(\"Hello\",name)",
      "execution_count": 1,
      "outputs": [
        {
          "name": "stdout",
          "output_type": "stream",
          "text": "Hello World\n"
        }
      ]
    },
    {
      "metadata": {
        "slideshow": {
          "slide_type": "slide"
        }
      },
      "cell_type": "markdown",
      "source": "## Information:  What have we done?\n\nWe have created a variable called `name` and assigned it the value `\"World\"`, which means that the variable contains a string.  When we want to access the value stored in `name`, e.g. by printing it to the screen, we can do so by referencing the variable name.  Note that:\n- We can `print` a list of items by separating them with commas, when the code is executed Python puts a space between them.\n- When we reference the variable name we do not put it in quotes.\n- The variable name points to some space in the computers memory that allows us to access the contents, we can think of it like an address.\n- The equals sign `=` is subtly different to the mathematical symbol which means one thing is equal to another.  When we use `=` in Python it means put the value on the right, into the variable on the left.  This is what we mean when we assign a value to a variable."
    },
    {
      "metadata": {
        "slideshow": {
          "slide_type": "slide"
        }
      },
      "cell_type": "markdown",
      "source": "## Pen: Strings and variables\n\nWhat would happen if we ran `print(\"Hello\",\"name\")`\n\nIt is vital to understand the distinction between the **variable**, `name` used above and the **string**, `\"name\"` used here if you are in any doubt ask!"
    },
    {
      "metadata": {
        "slideshow": {
          "slide_type": "slide"
        }
      },
      "cell_type": "markdown",
      "source": "Now we can change the value stored in the variable name, and execute the same code:"
    },
    {
      "metadata": {
        "slideshow": {
          "slide_type": "subslide"
        },
        "trusted": false
      },
      "cell_type": "code",
      "source": "name = \"James\"\nprint(\"Hello\",name)",
      "execution_count": 2,
      "outputs": [
        {
          "name": "stdout",
          "output_type": "stream",
          "text": "Hello James\n"
        }
      ]
    },
    {
      "metadata": {
        "slideshow": {
          "slide_type": "subslide"
        }
      },
      "cell_type": "markdown",
      "source": "We can change the value stored in the variable and still use the same print statement to get different output."
    },
    {
      "metadata": {
        "slideshow": {
          "slide_type": "slide"
        }
      },
      "cell_type": "markdown",
      "source": "## Numerical Variables\n\nBut we can use variables to store numerical values as well as strings.  Let's create a variable to hold Drew's age:"
    },
    {
      "metadata": {
        "slideshow": {
          "slide_type": "subslide"
        },
        "trusted": false
      },
      "cell_type": "code",
      "source": "age = 25\nprint(name,\"is\",age,\"years old.\")",
      "execution_count": 3,
      "outputs": [
        {
          "name": "stdout",
          "output_type": "stream",
          "text": "James is 25 years old.\n"
        }
      ]
    },
    {
      "metadata": {
        "slideshow": {
          "slide_type": "subslide"
        }
      },
      "cell_type": "markdown",
      "source": "As before we have used `print` to print a list of items, the two variables `name` and `age`, interspersed with some text (strings) to give the sentence meaning.  It is often good to do this so that we can make sense of the output.  Similarly note that we have used **meaningful names** for the variables, in that `name` is being used to store name and `age`, an age.  The variable `name` set to `\"James\"` persists as long as we are in the same session, meaning it keeps the same value and we can continue to access it."
    },
    {
      "metadata": {
        "slideshow": {
          "slide_type": "slide"
        }
      },
      "cell_type": "markdown",
      "source": "## Calculating with variables\n\nAgain though rather than just storing numbers we really want to be able to perform calculations to make our research easier.  Let's consider the following:"
    },
    {
      "metadata": {
        "slideshow": {
          "slide_type": "subslide"
        },
        "trusted": false
      },
      "cell_type": "code",
      "source": "mass_in_kgs = 70.0\nprint(name,\"has a mass of\",mass_in_kgs,\"kg\")",
      "execution_count": 4,
      "outputs": [
        {
          "name": "stdout",
          "output_type": "stream",
          "text": "James has a mass of 70.0 kg\n"
        }
      ]
    },
    {
      "metadata": {
        "slideshow": {
          "slide_type": "subslide"
        },
        "trusted": false
      },
      "cell_type": "code",
      "source": "mass_in_lbs = 2.2 * mass_in_kgs\nprint(mass_in_kgs,\"kg is equivalent to\",mass_in_lbs,\"lbs\")",
      "execution_count": 5,
      "outputs": [
        {
          "name": "stdout",
          "output_type": "stream",
          "text": "70.0 kg is equivalent to 154.0 lbs\n"
        }
      ]
    },
    {
      "metadata": {
        "slideshow": {
          "slide_type": "subslide"
        }
      },
      "cell_type": "markdown",
      "source": "Once again we emphasise that the `=` takes the value of the right, which in this case involves performing the calculation `2.2*70` and assigns the result to the variable `mass_in_lbs`.  Also since we haven't changed the value stored in `mass_in_kgs` we can continue to access it and use it for calculations, as we have in using it to assign a value to `mass_in_lbs`."
    },
    {
      "metadata": {
        "slideshow": {
          "slide_type": "slide"
        }
      },
      "cell_type": "markdown",
      "source": "## Pen: What happens if we change `mass_in_kg`?\n\nIf we change the value of `mass_in_kg` e.g. by setting the value to `75.0`, what will happen to `mass_in_lbs`?  Once you've decided what you think will happen try it."
    },
    {
      "metadata": {
        "slideshow": {
          "slide_type": "slide"
        }
      },
      "cell_type": "markdown",
      "source": "## Pen: What variable names should I use?\n\nVariable names must begin with a character from the alphabet, and contain only alphanumeric characters and the underscore `_`, which we used in place of spaces in `mass_in_kg`.  Why didn't we call the four variables used above `flibble`, `x1_33`,`sqwark` and `woof`?"
    },
    {
      "metadata": {
        "slideshow": {
          "slide_type": "slide"
        }
      },
      "cell_type": "markdown",
      "source": "## Pen: Using a new variable?\n\nWhat happens if I try running the following code, without having assigned a value to the variable `my_new_variable`\n\n`print(my_new_variable)`"
    },
    {
      "metadata": {
        "slideshow": {
          "slide_type": "slide"
        }
      },
      "cell_type": "markdown",
      "source": "## Information: Python is case sensitive\n\nPython is case senstive.  This means that variables and functions when we get to them must be referenced with the correct case.  Typically we might choose only to use lower case letters to avoind issues.  Try the following:"
    },
    {
      "metadata": {
        "trusted": false
      },
      "cell_type": "code",
      "source": "kitten = \"Bert\"\nprint(Kitten)",
      "execution_count": 1,
      "outputs": [
        {
          "ename": "NameError",
          "evalue": "name 'Kitten' is not defined",
          "output_type": "error",
          "traceback": [
            "\u001b[0;31m---------------------------------------------------------------------------\u001b[0m",
            "\u001b[0;31mNameError\u001b[0m                                 Traceback (most recent call last)",
            "\u001b[0;32m<ipython-input-1-5237b6d04162>\u001b[0m in \u001b[0;36m<module>\u001b[0;34m\u001b[0m\n\u001b[1;32m      1\u001b[0m \u001b[0mkitten\u001b[0m \u001b[0;34m=\u001b[0m \u001b[0;34m\"Bert\"\u001b[0m\u001b[0;34m\u001b[0m\u001b[0m\n\u001b[0;32m----> 2\u001b[0;31m \u001b[0mprint\u001b[0m\u001b[0;34m(\u001b[0m\u001b[0mKitten\u001b[0m\u001b[0;34m)\u001b[0m\u001b[0;34m\u001b[0m\u001b[0m\n\u001b[0m",
            "\u001b[0;31mNameError\u001b[0m: name 'Kitten' is not defined"
          ]
        }
      ]
    },
    {
      "metadata": {
        "slideshow": {
          "slide_type": "slide"
        }
      },
      "cell_type": "markdown",
      "source": "## Key Points\n- Variables are used to store and access values in our programs.\n- `print(variable)` displays the value stored in the variable.\n- We use `=` to assign a value to a variable in order to record it in memory.\n- When one variable is used to assign a value to a second when we change the first, the second does **not** change.\n- Using informative variable names makes you code more readable.\n- Variables must be assigned values, before they can be used.\n- Python is case sensitve!"
    }
  ],
  "metadata": {
    "celltoolbar": "Slideshow",
    "kernelspec": {
      "name": "python3",
      "display_name": "Python 3",
      "language": "python"
    },
    "language_info": {
      "mimetype": "text/x-python",
      "nbconvert_exporter": "python",
      "name": "python",
      "pygments_lexer": "ipython3",
      "version": "3.5.4",
      "file_extension": ".py",
      "codemirror_mode": {
        "version": 3,
        "name": "ipython"
      }
    }
  },
  "nbformat": 4,
  "nbformat_minor": 2
}