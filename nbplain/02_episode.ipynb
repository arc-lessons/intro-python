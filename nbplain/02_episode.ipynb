{
 "cells": [
  {
   "cell_type": "markdown",
   "metadata": {
    "slideshow": {
     "slide_type": "slide"
    }
   },
   "source": [
    "# Variables and Assignment"
   ]
  },
  {
   "cell_type": "markdown",
   "metadata": {
    "slideshow": {
     "slide_type": "slide"
    }
   },
   "source": [
    "## Overview:\n",
    "- **Teaching:** 10 min\n",
    "- **Exercises:** 5 min\n",
    "\n",
    "**Questions**\n",
    "- How can we store and access data?\n",
    "- How does this allow us to write more general code?\n",
    "- What happens when we assign one variable to another?\n",
    "\n",
    "**Objectives**\n",
    "- Understand that using variables allows us to generalise the behaviour of our code.\n",
    "- Write programs that assign values to variables and perform calucations with them.\n",
    "- Understand that values persist within the `Ipython3` session\n",
    "- Correctly trace value changes in programs."
   ]
  },
  {
   "cell_type": "markdown",
   "metadata": {
    "slideshow": {
     "slide_type": "slide"
    }
   },
   "source": [
    "## Strings in variables\n",
    "\n",
    "It would be good if instead of having to explicitly type out the values that we wish to print or calculate we could store and access them so that we could re-use programs.  We do this with variables and we'll start by considering our `Hello World!` program from the previous episode.  Let's generalise the original code:"
   ]
  },
  {
   "cell_type": "code",
   "execution_count": 1,
   "metadata": {
    "slideshow": {
     "slide_type": "subslide"
    }
   },
   "outputs": [
    {
     "name": "stdout",
     "output_type": "stream",
     "text": [
      "Hello World\n"
     ]
    }
   ],
   "source": [
    "name = \"World\"\n",
    "print(\"Hello\",name)"
   ]
  },
  {
   "cell_type": "markdown",
   "metadata": {
    "slideshow": {
     "slide_type": "slide"
    }
   },
   "source": [
    "## Information:  What have we done?\n",
    "\n",
    "We have created a variable called `name` and assigned it the value `\"World\"`, which means that the variable contains a string.  When we want to access the value stored in `name`, e.g. by printing it to the screen, we can do so by referencing the variable name.  Note that:\n",
    "- We can `print` a list of items by separating them with commas, when the code is executed Python puts a space between them.\n",
    "- When we reference the variable name we do not put it in quotes.\n",
    "- The variable name points to some space in the computers memory that allows us to access the contents, we can think of it like an address.\n",
    "- The equals sign `=` is subtly different to the mathematical symbol which means one thing is equal to another.  When we use `=` in Python it means put the value on the right, into the variable on the left.  This is what we mean when we assign a value to a variable."
   ]
  },
  {
   "cell_type": "markdown",
   "metadata": {
    "slideshow": {
     "slide_type": "slide"
    }
   },
   "source": [
    "## Pen: Strings and variables\n",
    "\n",
    "What would happen if we ran `print(\"Hello\",\"name\")`\n",
    "\n",
    "It is vital to understand the distinction between the **variable**, `name` used above and the **string**, `\"name\"` used here if you are in any doubt ask!"
   ]
  },
  {
   "cell_type": "markdown",
   "metadata": {
    "slideshow": {
     "slide_type": "slide"
    }
   },
   "source": [
    "Now we can change the value stored in the variable name, and execute the same code:"
   ]
  },
  {
   "cell_type": "code",
   "execution_count": 2,
   "metadata": {
    "slideshow": {
     "slide_type": "subslide"
    }
   },
   "outputs": [
    {
     "name": "stdout",
     "output_type": "stream",
     "text": [
      "Hello James\n"
     ]
    }
   ],
   "source": [
    "name = \"James\"\n",
    "print(\"Hello\",name)"
   ]
  },
  {
   "cell_type": "markdown",
   "metadata": {
    "slideshow": {
     "slide_type": "subslide"
    }
   },
   "source": [
    "We can change the value stored in the variable and still use the same print statement to get different output."
   ]
  },
  {
   "cell_type": "markdown",
   "metadata": {
    "slideshow": {
     "slide_type": "slide"
    }
   },
   "source": [
    "## Numerical Variables\n",
    "\n",
    "But we can use variables to store numerical values as well as strings.  Let's create a variable to hold Drew's age:"
   ]
  },
  {
   "cell_type": "code",
   "execution_count": 3,
   "metadata": {
    "slideshow": {
     "slide_type": "subslide"
    }
   },
   "outputs": [
    {
     "name": "stdout",
     "output_type": "stream",
     "text": [
      "James is 25 years old.\n"
     ]
    }
   ],
   "source": [
    "age = 25\n",
    "print(name,\"is\",age,\"years old.\")"
   ]
  },
  {
   "cell_type": "markdown",
   "metadata": {
    "slideshow": {
     "slide_type": "subslide"
    }
   },
   "source": [
    "As before we have used `print` to print a list of items, the two variables `name` and `age`, interspersed with some text (strings) to give the sentence meaning.  It is often good to do this so that we can make sense of the output.  Similarly note that we have used **meaningful names** for the variables, in that `name` is being used to store name and `age`, an age.  The variable `name` set to `\"James\"` persists as long as we are in the same session, meaning it keeps the same value and we can continue to access it."
   ]
  },
  {
   "cell_type": "markdown",
   "metadata": {
    "slideshow": {
     "slide_type": "slide"
    }
   },
   "source": [
    "## Calculating with variables\n",
    "\n",
    "Again though rather than just storing numbers we really want to be able to perform calculations to make our research easier.  Let's consider the following:"
   ]
  },
  {
   "cell_type": "code",
   "execution_count": 4,
   "metadata": {
    "slideshow": {
     "slide_type": "subslide"
    }
   },
   "outputs": [
    {
     "name": "stdout",
     "output_type": "stream",
     "text": [
      "James has a mass of 70.0 kg\n"
     ]
    }
   ],
   "source": [
    "mass_in_kgs = 70.0\n",
    "print(name,\"has a mass of\",mass_in_kgs,\"kg\")"
   ]
  },
  {
   "cell_type": "code",
   "execution_count": 5,
   "metadata": {
    "slideshow": {
     "slide_type": "subslide"
    }
   },
   "outputs": [
    {
     "name": "stdout",
     "output_type": "stream",
     "text": [
      "70.0 kg is equivalent to 154.0 lbs\n"
     ]
    }
   ],
   "source": [
    "mass_in_lbs = 2.2 * mass_in_kgs\n",
    "print(mass_in_kgs,\"kg is equivalent to\",mass_in_lbs,\"lbs\")"
   ]
  },
  {
   "cell_type": "markdown",
   "metadata": {
    "slideshow": {
     "slide_type": "subslide"
    }
   },
   "source": [
    "Once again we emphasise that the `=` takes the value of the right, which in this case involves performing the calculation `2.2*70` and assigns the result to the variable `mass_in_lbs`.  Also since we haven't changed the value stored in `mass_in_kgs` we can continue to access it and use it for calculations, as we have in using it to assign a value to `mass_in_lbs`."
   ]
  },
  {
   "cell_type": "markdown",
   "metadata": {
    "slideshow": {
     "slide_type": "slide"
    }
   },
   "source": [
    "## Execrise: What happens if we change `mass_in_kg`?\n",
    "\n",
    "If we change the value of `mass_in_kg` e.g. by setting the value to `75.0`, what will happen to `mass_in_lbs`?  Once you've decided what you think will happen try it."
   ]
  },
  {
   "cell_type": "markdown",
   "metadata": {
    "slideshow": {
     "slide_type": "slide"
    }
   },
   "source": [
    "## Exercise: What variable names should I use?\n",
    "\n",
    "Variable names must begin with a character from the alphabet, and contain only alphanumeric characters and the underscore `_`, which we used in place of spaces in `mass_in_kg`.  Why didn't we call the four variables used above `flibble`, `x1_33`,`sqwark` and `woof`?"
   ]
  },
  {
   "cell_type": "markdown",
   "metadata": {
    "slideshow": {
     "slide_type": "slide"
    }
   },
   "source": [
    "## Exercise: Using a new variable?\n",
    "\n",
    "What happens if I try running the following code, without having assigned a value to the variable `my_new_variable`\n",
    "\n",
    "`print(my_new_variable)`"
   ]
  },
  {
   "cell_type": "markdown",
   "metadata": {
    "slideshow": {
     "slide_type": "slide"
    }
   },
   "source": [
    "## Information: Python is case sensitive\n",
    "\n",
    "Python is case senstive.  This means that variables and functions when we get to them must be referenced with the correct case.  Typically we might choose only to use lower case letters to avoind issues.  Try the following:"
   ]
  },
  {
   "cell_type": "code",
   "execution_count": 1,
   "metadata": {},
   "outputs": [
    {
     "ename": "NameError",
     "evalue": "name 'Kitten' is not defined",
     "output_type": "error",
     "traceback": [
      "\u001b[0;31m---------------------------------------------------------------------------\u001b[0m",
      "\u001b[0;31mNameError\u001b[0m                                 Traceback (most recent call last)",
      "\u001b[0;32m<ipython-input-1-5237b6d04162>\u001b[0m in \u001b[0;36m<module>\u001b[0;34m\u001b[0m\n\u001b[1;32m      1\u001b[0m \u001b[0mkitten\u001b[0m \u001b[0;34m=\u001b[0m \u001b[0;34m\"Bert\"\u001b[0m\u001b[0;34m\u001b[0m\u001b[0m\n\u001b[0;32m----> 2\u001b[0;31m \u001b[0mprint\u001b[0m\u001b[0;34m(\u001b[0m\u001b[0mKitten\u001b[0m\u001b[0;34m)\u001b[0m\u001b[0;34m\u001b[0m\u001b[0m\n\u001b[0m",
      "\u001b[0;31mNameError\u001b[0m: name 'Kitten' is not defined"
     ]
    }
   ],
   "source": [
    "kitten = \"Bert\"\n",
    "print(Kitten)"
   ]
  },
  {
   "cell_type": "markdown",
   "metadata": {
    "slideshow": {
     "slide_type": "slide"
    }
   },
   "source": [
    "## Key Points:\n",
    "- Variables are used to store and access values in our programs.\n",
    "- `print(variable)` displays the value stored in the variable.\n",
    "- We use `=` to assign a value to a variable in order to record it in memory.\n",
    "- When one variable is used to assign a value to a second when we change the first, the second does **not** change.\n",
    "- Using informative variable names makes you code more readable.\n",
    "- Variables must be assigned values, before they can be used.\n",
    "- Python is case sensitve!"
   ]
  }
 ],
 "metadata": {
  "celltoolbar": "Slideshow",
  "kernelspec": {
   "display_name": "Python 3",
   "language": "python",
   "name": "python3"
  },
  "language_info": {
   "codemirror_mode": {
    "name": "ipython",
    "version": 3
   },
   "file_extension": ".py",
   "mimetype": "text/x-python",
   "name": "python",
   "nbconvert_exporter": "python",
   "pygments_lexer": "ipython3",
   "version": "3.7.4"
  }
 },
 "nbformat": 4,
 "nbformat_minor": 2
}
