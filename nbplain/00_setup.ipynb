{
 "cells": [
  {
   "cell_type": "markdown",
   "metadata": {
    "slideshow": {
     "slide_type": "slide"
    }
   },
   "source": [
    "# Setup\n",
    "\n",
    "## Getting Started\n",
    "\n",
    "First we need to log-on to the server: https://rss.jupyterhub.bath.ac.uk, you should be redirected to use your University account via the Microsoft web login.  This should start a jupyterhub service running on the server and return you to a page that looks like the image below.  You should see a notebook called `Welcome.ipynb` click on this and follow the instructions and link to set up today's `intro-python` lesson.\n",
    "\n",
    "From your homepage you can click on new and Python 3 to launch a new Jupyter notebook.\n",
    "\n",
    "![Create new notebook](../images/jhub.png)"
   ]
  },
  {
   "cell_type": "markdown",
   "metadata": {
    "slideshow": {
     "slide_type": "slide"
    }
   },
   "source": [
    "## Key Points:\n",
    "\n",
    "- Jupyter notebooks are a really useful platform for exploring code and sharing reproducible research\n",
    "- We use them because they are a convenient platform for delivery training and have a Linux terminal"
   ]
  }
 ],
 "metadata": {
  "celltoolbar": "Slideshow",
  "kernelspec": {
   "display_name": "Python 3",
   "language": "python",
   "name": "python3"
  },
  "language_info": {
   "codemirror_mode": {
    "name": "ipython",
    "version": 3
   },
   "file_extension": ".py",
   "mimetype": "text/x-python",
   "name": "python",
   "nbconvert_exporter": "python",
   "pygments_lexer": "ipython3",
   "version": "3.8.3"
  }
 },
 "nbformat": 4,
 "nbformat_minor": 2
}
