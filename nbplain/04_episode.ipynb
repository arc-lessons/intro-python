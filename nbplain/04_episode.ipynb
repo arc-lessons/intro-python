{
 "cells": [
  {
   "cell_type": "markdown",
   "metadata": {
    "slideshow": {
     "slide_type": "slide"
    }
   },
   "source": [
    "# Lists"
   ]
  },
  {
   "cell_type": "markdown",
   "metadata": {
    "slideshow": {
     "slide_type": "slide"
    }
   },
   "source": [
    "## Overview:\n",
    "- **Teaching:** 15 min\n",
    "- **Exercises:** 10 min\n",
    "\n",
    "**Questions**\n",
    "- How can I store and access multiple values?\n",
    "\n",
    "**Objectives**\n",
    "- Explain why we need collections of values\n",
    "- Write programs that `create`, `index`, `slice` and modify them?"
   ]
  },
  {
   "cell_type": "markdown",
   "metadata": {
    "slideshow": {
     "slide_type": "slide"
    }
   },
   "source": [
    "## What is a list?\n",
    "\n",
    "A list in Python stores many values in a single structure.  We have seen how variables can store a single value but if we have a dataset, e.g. the pressure in our experiment sampled every minute we could use variables:\n",
    "\n",
    "`pressure_000`, `pressure_001`, `pressure_002`, ..\n",
    "\n",
    "but writing these out by hand would be slow and not much fun, especially if we have tens, thousands, or even millions of values in our dataset.  A `list` is the name of Python's solution to the problem (other languages have `arrays` or `vectors` to do the same sort of thing.  Typically lists will be used to store related values as in the example of our experimental pressures.\n",
    "\n",
    "Structure of a list:\n",
    "- Values are contained within square brackets `[`, `]`\n",
    "- Values must be separated by commas, `,`\n",
    "\n",
    "Let's create a list of pressures we described above:"
   ]
  },
  {
   "cell_type": "code",
   "execution_count": 1,
   "metadata": {
    "slideshow": {
     "slide_type": "slide"
    }
   },
   "outputs": [
    {
     "name": "stdout",
     "output_type": "stream",
     "text": [
      "pressures: [0.273, 0.275, 0.277, 0.275, 0.276]\n"
     ]
    }
   ],
   "source": [
    "pressures = [0.273, 0.275, 0.277, 0.275, 0.276]\n",
    "print('pressures:', pressures)"
   ]
  },
  {
   "cell_type": "markdown",
   "metadata": {
    "slideshow": {
     "slide_type": "subslide"
    }
   },
   "source": [
    "As with variables containing a single value until now we assign the list to a variable, and give it a meaningful name `pressures`.  When we print the variable that has been used to store the list Python displays the entire list, including all  of values that have been assigned and the square brackets which we used to create the list.\n",
    "\n",
    "We can confirm the `type` of what is in our variable as we did in the previous episode:"
   ]
  },
  {
   "cell_type": "code",
   "execution_count": 2,
   "metadata": {
    "slideshow": {
     "slide_type": "subslide"
    }
   },
   "outputs": [
    {
     "name": "stdout",
     "output_type": "stream",
     "text": [
      "<class 'list'>\n"
     ]
    }
   ],
   "source": [
    "print(type(pressures))"
   ]
  },
  {
   "cell_type": "markdown",
   "metadata": {
    "slideshow": {
     "slide_type": "subslide"
    }
   },
   "source": [
    "and confirm that it is a `'list'`.  We can also use a built-in function `len()` to find out how many values are in the list:"
   ]
  },
  {
   "cell_type": "code",
   "execution_count": 3,
   "metadata": {
    "slideshow": {
     "slide_type": "subslide"
    }
   },
   "outputs": [
    {
     "name": "stdout",
     "output_type": "stream",
     "text": [
      "5\n"
     ]
    }
   ],
   "source": [
    "print(len(pressures))"
   ]
  },
  {
   "cell_type": "markdown",
   "metadata": {
    "slideshow": {
     "slide_type": "slide"
    }
   },
   "source": [
    "## Using indexes to fetch values from a list"
   ]
  },
  {
   "cell_type": "markdown",
   "metadata": {
    "slideshow": {
     "slide_type": "subslide"
    }
   },
   "source": [
    "What makes lists useful however is being able to retrieve individual values.  We do this by indexing paricular values in the list, as follows:"
   ]
  },
  {
   "cell_type": "code",
   "execution_count": 4,
   "metadata": {
    "slideshow": {
     "slide_type": "subslide"
    }
   },
   "outputs": [
    {
     "name": "stdout",
     "output_type": "stream",
     "text": [
      "zeroth item of pressures: 0.273\n",
      "fourth item of pressures: 0.276\n"
     ]
    }
   ],
   "source": [
    "print('zeroth item of pressures:', pressures[0])\n",
    "print('fourth item of pressures:', pressures[4])"
   ]
  },
  {
   "cell_type": "markdown",
   "metadata": {
    "slideshow": {
     "slide_type": "slide"
    }
   },
   "source": [
    "Notice that in Python the 'first item' in the list has the index `0`, while there are reasons for this which we will not go into today, we just need to remember this.  If we forget and try to reference the value in index `5` of our list of pressures we will get a message like this:"
   ]
  },
  {
   "cell_type": "code",
   "execution_count": 5,
   "metadata": {
    "slideshow": {
     "slide_type": "subslide"
    }
   },
   "outputs": [
    {
     "ename": "IndexError",
     "evalue": "list index out of range",
     "output_type": "error",
     "traceback": [
      "\u001b[0;31m---------------------------------------------------------------------------\u001b[0m",
      "\u001b[0;31mIndexError\u001b[0m                                Traceback (most recent call last)",
      "\u001b[0;32m<ipython-input-5-b20f9a50fe9a>\u001b[0m in \u001b[0;36m<module>\u001b[0;34m\u001b[0m\n\u001b[0;32m----> 1\u001b[0;31m \u001b[0mprint\u001b[0m\u001b[0;34m(\u001b[0m\u001b[0;34m'fifth item of pressures:'\u001b[0m\u001b[0;34m,\u001b[0m \u001b[0mpressures\u001b[0m\u001b[0;34m[\u001b[0m\u001b[0;36m5\u001b[0m\u001b[0;34m]\u001b[0m\u001b[0;34m)\u001b[0m\u001b[0;34m\u001b[0m\u001b[0m\n\u001b[0m",
      "\u001b[0;31mIndexError\u001b[0m: list index out of range"
     ]
    }
   ],
   "source": [
    "print('fifth item of pressures:', pressures[5])"
   ]
  },
  {
   "cell_type": "markdown",
   "metadata": {
    "slideshow": {
     "slide_type": "subslide"
    }
   },
   "source": [
    "We find that code causes an error, and if we examine it, starting from the bottom of the message we find that Pyhton has provided the following message `IndexError: list index out of range`.  This is quite informative and if we look at the line above we find that it has given an indication of the line where the error happened, helping us to identify what the problem is likely to be."
   ]
  },
  {
   "cell_type": "markdown",
   "metadata": {
    "slideshow": {
     "slide_type": "slide"
    }
   },
   "source": [
    "## Modifying items in a list\n",
    "\n",
    "Values stored in a list can be changed by assigning a new value to that index:"
   ]
  },
  {
   "cell_type": "code",
   "execution_count": 6,
   "metadata": {
    "slideshow": {
     "slide_type": "subslide"
    }
   },
   "outputs": [
    {
     "name": "stdout",
     "output_type": "stream",
     "text": [
      "pressures is now: [0.265, 0.275, 0.277, 0.275, 0.276]\n"
     ]
    }
   ],
   "source": [
    "pressures[0] = 0.265\n",
    "print('pressures is now:', pressures)"
   ]
  },
  {
   "cell_type": "markdown",
   "metadata": {
    "slideshow": {
     "slide_type": "subslide"
    }
   },
   "source": [
    "We can see that the first, or rather `zeroth` item in the list has been changed, but all other values are unaffected."
   ]
  },
  {
   "cell_type": "markdown",
   "metadata": {
    "slideshow": {
     "slide_type": "slide"
    }
   },
   "source": [
    "## Appending items to a list\n",
    "\n",
    "Often rather than changing one value stored in a list we may want to add new items.  For instance let's start by creating a new list containing the names the patients on a medical trial:"
   ]
  },
  {
   "cell_type": "code",
   "execution_count": 7,
   "metadata": {
    "slideshow": {
     "slide_type": "subslide"
    }
   },
   "outputs": [
    {
     "name": "stdout",
     "output_type": "stream",
     "text": [
      "patients: ['Alan', 'Ben', 'Charlie', 'Derick']\n"
     ]
    }
   ],
   "source": [
    "patients = [\"Alan\", \"Ben\", \"Charlie\", \"Derick\"]\n",
    "print(\"patients:\", patients)"
   ]
  },
  {
   "cell_type": "markdown",
   "metadata": {
    "slideshow": {
     "slide_type": "slide"
    }
   },
   "source": [
    "To add, or `append` items to the list we use the following syntax:\n",
    "\n",
    "`list_name.append(new_value)`.\n",
    "\n",
    "In the case of our example of the list of patients we would write: \n",
    "\n",
    "`patients.append(\"Edward\")`.\n",
    "\n",
    "Let's experiment with this with the following:"
   ]
  },
  {
   "cell_type": "code",
   "execution_count": 8,
   "metadata": {
    "slideshow": {
     "slide_type": "subslide"
    }
   },
   "outputs": [
    {
     "name": "stdout",
     "output_type": "stream",
     "text": [
      "Initial patients: ['Alan', 'Ben', 'Charlie', 'Derick']\n",
      "Initial number of patients: 4\n",
      "Current patients: ['Alan', 'Ben', 'Charlie', 'Derick', 'Edward', 'Frank']\n",
      "Current number of patients: 6\n"
     ]
    }
   ],
   "source": [
    "print(\"Initial patients:\", patients)\n",
    "print(\"Initial number of patients:\", len(patients))\n",
    "patients.append(\"Edward\")\n",
    "patients.append(\"Frank\")\n",
    "print(\"Current patients:\", patients)\n",
    "print(\"Current number of patients:\", len(patients))"
   ]
  },
  {
   "cell_type": "markdown",
   "metadata": {
    "slideshow": {
     "slide_type": "slide"
    }
   },
   "source": [
    "## Combining lists\n",
    "\n",
    "As well as adding patients to the list we might want to combine to lists.  For instance my colleague might have a second list of patients that they have been treating that I want to add to my list.  Python allows us to combine one list with another using the `extend` function:\n",
    "\n",
    "`list_1.extend(list_2)`\n",
    "\n",
    "which adds the whole of list 2 to the end of list 1.\n",
    "\n",
    "In our example we first need to create the new list then add it to our existing list of patients:"
   ]
  },
  {
   "cell_type": "code",
   "execution_count": 9,
   "metadata": {
    "slideshow": {
     "slide_type": "subslide"
    }
   },
   "outputs": [
    {
     "name": "stdout",
     "output_type": "stream",
     "text": [
      "First list of patients: ['Alan', 'Ben', 'Charlie', 'Derick', 'Edward', 'Frank']\n",
      "Second list of patients: ['Greg', 'Henry', 'Ian', 'Jeff']\n",
      "Combined list of patients: ['Alan', 'Ben', 'Charlie', 'Derick', 'Edward', 'Frank', 'Greg', 'Henry', 'Ian', 'Jeff']\n"
     ]
    }
   ],
   "source": [
    "patients_2 = [\"Greg\", \"Henry\", \"Ian\", \"Jeff\"]\n",
    "print(\"First list of patients:\", patients)\n",
    "print(\"Second list of patients:\", patients_2)\n",
    "patients.extend(patients_2)\n",
    "print(\"Combined list of patients:\", patients)"
   ]
  },
  {
   "cell_type": "markdown",
   "metadata": {
    "slideshow": {
     "slide_type": "slide"
    }
   },
   "source": [
    "## Types of values in lists, indexing and deleting\n",
    "\n",
    "So far we have only had the same type of values in the lists we have created, and typically when working with datasets this will be the case.  However in Python lists do not have to contain a single type of values, including having a list as an item in another list.\n",
    "\n",
    "We have a third colleague with their own set of patients in the trial which we will now create.  But by mistake instead of using `extend` to combine the lists we will see what happens if we `append` the new list:"
   ]
  },
  {
   "cell_type": "code",
   "execution_count": 10,
   "metadata": {
    "slideshow": {
     "slide_type": "subslide"
    }
   },
   "outputs": [
    {
     "name": "stdout",
     "output_type": "stream",
     "text": [
      "Combined list of patients: ['Alan', 'Ben', 'Charlie', 'Derick', 'Edward', 'Frank', 'Greg', 'Henry', 'Ian', 'Jeff', ['Keiran', 'Luke', 'Mike', 'Nigel']]\n"
     ]
    }
   ],
   "source": [
    "patients_3=[\"Keiran\", \"Luke\", \"Mike\", \"Nigel\"]\n",
    "patients.append(patients_3)\n",
    "print(\"Combined list of patients:\", patients)"
   ]
  },
  {
   "cell_type": "markdown",
   "metadata": {
    "slideshow": {
     "slide_type": "slide"
    }
   },
   "source": [
    "If you examine this carefully you will see that instead of adding the new patients separately to the end of the list.  In order to see this more clearly let's examine the last item in the list `patients`.  We could see how long the list is now with `len(patients)` however Python provides a convenient way of indexing from the end of the list beginning with `list_name[-1]`.  Let's print this last element and the one before to see what has been stored in `patients`:"
   ]
  },
  {
   "cell_type": "code",
   "execution_count": 11,
   "metadata": {
    "slideshow": {
     "slide_type": "subslide"
    }
   },
   "outputs": [
    {
     "name": "stdout",
     "output_type": "stream",
     "text": [
      "The last item in patients: ['Keiran', 'Luke', 'Mike', 'Nigel']\n",
      "The penultimate item in patients: Jeff\n"
     ]
    }
   ],
   "source": [
    "print(\"The last item in patients:\", patients[-1])\n",
    "print(\"The penultimate item in patients:\", patients[-2])"
   ]
  },
  {
   "cell_type": "markdown",
   "metadata": {
    "slideshow": {
     "slide_type": "slide"
    }
   },
   "source": [
    "We can see  now that rather than combining the lists as we'd intended we have appended `patients_3` as a single item in `patients`.  In order to correct this we need to delete the final item in the list, and combine the new list correctly:"
   ]
  },
  {
   "cell_type": "code",
   "execution_count": 12,
   "metadata": {
    "slideshow": {
     "slide_type": "subslide"
    }
   },
   "outputs": [
    {
     "name": "stdout",
     "output_type": "stream",
     "text": [
      "The last item in patients: ['Keiran', 'Luke', 'Mike', 'Nigel']\n",
      "The last item in patients: Jeff\n",
      "The last item in patients: Nigel\n"
     ]
    }
   ],
   "source": [
    "print(\"The last item in patients:\", patients[-1])\n",
    "del patients[-1]\n",
    "print(\"The last item in patients:\", patients[-1])\n",
    "patients.extend(patients_3)\n",
    "print(\"The last item in patients:\", patients[-1])"
   ]
  },
  {
   "cell_type": "markdown",
   "metadata": {
    "slideshow": {
     "slide_type": "slide"
    }
   },
   "source": [
    "## Slicing lists\n",
    "\n",
    "Having finally combined our lists of patients correctly we would like to split them up for the two doctors Alice, and Beth who will be treating them next.  So far we have accessed a single item in an list by specifying a single index.  We can produce `slices` of lists by giving a range of indexes as follows:"
   ]
  },
  {
   "cell_type": "code",
   "execution_count": 13,
   "metadata": {
    "slideshow": {
     "slide_type": "subslide"
    }
   },
   "outputs": [
    {
     "name": "stdout",
     "output_type": "stream",
     "text": [
      "Alice will be treating: ['Alan', 'Ben', 'Charlie', 'Derick', 'Edward', 'Frank']\n",
      "Beth will be treating: ['Greg', 'Henry', 'Ian', 'Jeff', 'Keiran', 'Luke', 'Mike', 'Nigel']\n"
     ]
    }
   ],
   "source": [
    "patients_alice = patients[0:6]\n",
    "patients_beth = patients[6:14]\n",
    "print(\"Alice will be treating:\", patients_alice)\n",
    "print(\"Beth will be treating:\", patients_beth)"
   ]
  },
  {
   "cell_type": "markdown",
   "metadata": {
    "slideshow": {
     "slide_type": "subslide"
    }
   },
   "source": [
    "When we create a slice such as `list_slice = list[low:high]`, `low` is the index of the item in `list` that will be the first index in `list_slice`, while `high` is the first index in `list` that will **not** be in `list_slice`.\n",
    "\n",
    "If we are indexing from the beginning or end we can omit `low`, or `high` respectively from our slice and they will be inferred by python:"
   ]
  },
  {
   "cell_type": "code",
   "execution_count": 14,
   "metadata": {},
   "outputs": [
    {
     "name": "stdout",
     "output_type": "stream",
     "text": [
      "Alice will be treating: ['Alan', 'Ben', 'Charlie', 'Derick', 'Edward', 'Frank', 'Greg']\n",
      "Beth will be treating: ['Henry', 'Ian', 'Jeff', 'Keiran', 'Luke', 'Mike', 'Nigel']\n"
     ]
    }
   ],
   "source": [
    "patients_alice = patients[:7]\n",
    "patients_beth = patients[7:]\n",
    "print(\"Alice will be treating:\", patients_alice)\n",
    "print(\"Beth will be treating:\", patients_beth)"
   ]
  },
  {
   "cell_type": "markdown",
   "metadata": {
    "slideshow": {
     "slide_type": "slide"
    }
   },
   "source": [
    "## Empty lists\n",
    "\n",
    "Sometimes we want to create an empty list ready to add items, or other lists, values to.  In order to do this we can use square brackets with nothing in side them `[]`."
   ]
  },
  {
   "cell_type": "code",
   "execution_count": 15,
   "metadata": {
    "slideshow": {
     "slide_type": "subslide"
    }
   },
   "outputs": [
    {
     "name": "stdout",
     "output_type": "stream",
     "text": [
      "An empty list: [] contains 0 items.\n"
     ]
    }
   ],
   "source": [
    "empty_list = []\n",
    "print(\"An empty list:\", empty_list, \"contains\", len(empty_list), \"items.\")"
   ]
  },
  {
   "cell_type": "markdown",
   "metadata": {
    "slideshow": {
     "slide_type": "slide"
    }
   },
   "source": [
    "## Strings are like lists\n",
    "\n",
    "In the previous episodes we have seen that `strings` are sets of characters.  These can be indexed in a similar way to lists where each `index` refers to a different character in the string. "
   ]
  },
  {
   "cell_type": "code",
   "execution_count": 16,
   "metadata": {
    "slideshow": {
     "slide_type": "subslide"
    }
   },
   "outputs": [
    {
     "name": "stdout",
     "output_type": "stream",
     "text": [
      "zeroth character: c\n",
      "third character: b\n"
     ]
    }
   ],
   "source": [
    "element = 'carbon'\n",
    "print('zeroth character:', element[0])\n",
    "print('third character:', element[3])"
   ]
  },
  {
   "cell_type": "markdown",
   "metadata": {
    "slideshow": {
     "slide_type": "subslide"
    }
   },
   "source": [
    "There are subtle difference however between the way that Python considers strings and lists:\n",
    "- once a `string` has been created it cannot be changed\n",
    "- Python considers the string to be a single value with parts, not a collection of values\n",
    "\n",
    "Practically this means that you cannot reassign an element of a string, only access it, and you cannot `append` or `extend` one string with another."
   ]
  },
  {
   "cell_type": "markdown",
   "metadata": {},
   "source": [
    "## Exercise: List re-order \n",
    "\n",
    "Re-order the following lines of code to produce the output below\n",
    "\n",
    "```python\n",
    "values.append(3)\n",
    "values.append(5)\n",
    "print(\"second time:\", values)\n",
    "values = []\n",
    "value.append(1)\n",
    "print(\"first time:\", values)\n",
    "```\n",
    "\n",
    "```brainfuck\n",
    "first time: [1, 3, 5]\n",
    "second time: [3, 5]\n",
    "```\n",
    "\n",
    "Once you think you have the correct order copy and paste each line into the Ipython shell to check you obtain the correct result.\n",
    "\n",
    "[Solution]()"
   ]
  },
  {
   "cell_type": "markdown",
   "metadata": {},
   "source": [
    "## Solution: List re-order\n",
    "\n",
    "```python\n",
    "values = []\n",
    "values.append(1)\n",
    "values.append(3)\n",
    "values.append(5)\n",
    "print('first time:', values)\n",
    "values = values[1:]\n",
    "print('second time:', values)\n",
    "```\n",
    "\n",
    "Will produce the required results."
   ]
  },
  {
   "cell_type": "markdown",
   "metadata": {},
   "source": [
    "## Exercise: How Large is a Slice?\n",
    "If `low` and `high` are both non-negative integers, how long is the list `values[low:high]`?\n",
    "\n",
    "[Solution]()"
   ]
  },
  {
   "cell_type": "markdown",
   "metadata": {},
   "source": [
    "## Solution: How Large is a Slice?\n",
    "The `list values[low:high]` has `high - low` elements. For example, `values[1:4]` has the 3 elements `values[1]`, `values[2]`, and `values[3]`. Note that the expression will only work if `high` is less than the total length of the list `values`."
   ]
  },
  {
   "cell_type": "markdown",
   "metadata": {},
   "source": [
    "## Exercise: Working With the End\n",
    "\n",
    "1. What does the following program print?\n",
    "```python\n",
    "element = 'helium'\n",
    "print(element[-1])\n",
    "```\n",
    "2. How does Python interpret a negative index?\n",
    "3. If a list or string has `N` elements, what is the most negative index that can safely be used with it, and what location does that index represent?\n",
    "4. If values is a list, what does `del values[-N]` do?\n",
    "5. How can you display all elements but the last one? (Hint: you will need to combine slicing and negative indexing.)\n",
    "\n",
    "[Solution]()"
   ]
  },
  {
   "cell_type": "markdown",
   "metadata": {},
   "source": [
    "## Solution: Working With the End\n",
    "\n",
    "1. The program prints `m`.\n",
    "2. Python interprets a negative index as starting from the end (as opposed to starting from the beginning). The last element is `-1`.\n",
    "3. The last index that can safely be used with a list of N elements is element `-N`, which represents the first element.\n",
    "4. `del values[-N]` removes the first (zeroth) element from the list.\n",
    "5. `values[:-1]`"
   ]
  },
  {
   "cell_type": "markdown",
   "metadata": {
    "slideshow": {
     "slide_type": "slide"
    }
   },
   "source": [
    "## Exercise: Slice Bounds\n",
    "What does the following program print:\n",
    "```python\n",
    "element = 'lithium'\n",
    "print(element[0:20])\n",
    "print(element[-1:3])\n",
    "```\n",
    "and why?\n",
    "\n",
    "[Solution]()"
   ]
  },
  {
   "cell_type": "markdown",
   "metadata": {
    "slideshow": {
     "slide_type": "slide"
    }
   },
   "source": [
    "## Solution: Slice Bounds\n",
    "\n",
    "```brainfuck\n",
    "lithium\n",
    "\n",
    "```\n",
    "1. First we assign the string `lithium` to the variable `element`.  Which displays nothing.\n",
    "2. When we ask to `print` the slice `lithium[0:20]` Python returns `lithium` which is `element[1:]` and `element[-1:20]` which is just an empty slice, there is nothing else to display.\n",
    "3. When we ask to print `element[-1:3]` nothing is printed because the `low` value `-1` is bigger, *as an index* than the `high` value `3`.  So the slice is empty"
   ]
  },
  {
   "cell_type": "markdown",
   "metadata": {
    "slideshow": {
     "slide_type": "slide"
    }
   },
   "source": [
    "## Key Points:\n",
    "- A list stores many values in a single structure.\n",
    "- Use an item’s index to fetch it from a list.\n",
    "- Python lists start indexing at `0`.\n",
    "- Lists’ values can be replaced by assigning to them.\n",
    "- Appending items to a list lengthens it.\n",
    "- Use `del` to remove items from a list entirely.\n",
    "- The empty list contains no values.\n",
    "- Lists may contain values of different types.\n",
    "- Character strings can be indexed like lists.\n",
    "- BUT Character strings are immutable.\n",
    "- Indexing beyond the end of the collection is an error.\n",
    "- Slices beyond the end of a list are empty.\n",
    "- The `low` value of a list must be *lower* than the `high` value to return a valid slice.  \n",
    "- If negative indxing is used, then the should be interpreted as the implied i.e. if you have 10 items in a list then the index `-1`, is `9`.\n",
    "- **Python lists start indexing at `0`.**"
   ]
  }
 ],
 "metadata": {
  "celltoolbar": "Slideshow",
  "kernelspec": {
   "display_name": "Python 3",
   "language": "python",
   "name": "python3"
  },
  "language_info": {
   "codemirror_mode": {
    "name": "ipython",
    "version": 3
   },
   "file_extension": ".py",
   "mimetype": "text/x-python",
   "name": "python",
   "nbconvert_exporter": "python",
   "pygments_lexer": "ipython3",
   "version": "3.7.4"
  }
 },
 "nbformat": 4,
 "nbformat_minor": 2
}
