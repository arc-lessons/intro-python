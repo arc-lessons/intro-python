{
 "cells": [
  {
   "cell_type": "markdown",
   "metadata": {
    "slideshow": {
     "slide_type": "slide"
    }
   },
   "source": [
    "# Looping"
   ]
  },
  {
   "cell_type": "markdown",
   "metadata": {
    "slideshow": {
     "slide_type": "slide"
    }
   },
   "source": [
    "## Overview:\n",
    "- **Teaching:** 15 min\n",
    "- **Exercises:** 10 min\n",
    "\n",
    "**Questions**\n",
    "- How can I make a program repeat the same task many times?\n",
    "\n",
    "**Objectives**\n",
    "- Explain what for loops are normally used for.\n",
    "- Trace the execution of loops and correctly state the values of variables in each iteration.\n",
    "- Write for loops that accumulate values."
   ]
  },
  {
   "cell_type": "markdown",
   "metadata": {
    "slideshow": {
     "slide_type": "slide"
    }
   },
   "source": [
    "## What is a loop and why do we use them?\n",
    "\n",
    "- Doing calculations on the values in a list one by one is as painful as working with pressure_001, pressure_002, etc.\n",
    "- A for loop tells Python to execute some statements once for each value in a list, a character string, or some other collection.\n",
    "- “for each thing in this group, do these operations”\n",
    "\n",
    "First let's write a loop and considering the equivalent code."
   ]
  },
  {
   "cell_type": "code",
   "execution_count": 1,
   "metadata": {},
   "outputs": [
    {
     "name": "stdout",
     "output_type": "stream",
     "text": [
      "2\n",
      "3\n",
      "5\n"
     ]
    }
   ],
   "source": [
    "for number in [2, 3, 5]:\n",
    "    print(number)"
   ]
  },
  {
   "cell_type": "code",
   "execution_count": 2,
   "metadata": {
    "slideshow": {
     "slide_type": "slide"
    }
   },
   "outputs": [
    {
     "name": "stdout",
     "output_type": "stream",
     "text": [
      "2\n",
      "3\n",
      "5\n"
     ]
    }
   ],
   "source": [
    "print(2)\n",
    "print(3)\n",
    "print(5)"
   ]
  },
  {
   "cell_type": "markdown",
   "metadata": {
    "slideshow": {
     "slide_type": "slide"
    }
   },
   "source": [
    "We can see that the loop we have written:\n",
    "\n",
    "```python\n",
    "for number in [2, 3, 5]:\n",
    "    print(number)\n",
    "```\n",
    "\n",
    "produces the same output as explicitly print the numbers, `2`, `3` and `5`.  But what is the loop actually doing and waht are its principle features?\n",
    "\n",
    "1. The **collection**, in this case the list `[2, 3, 5]` is the set of values that the loop is being run on.\n",
    "2. The **body**, here `print(number)`, specifies what to do for each value in the **collection**.\n",
    "3. The **loop variable**, `number`, changes with each *iteration* in the loop taking the values specified by the **collection**"
   ]
  },
  {
   "cell_type": "markdown",
   "metadata": {
    "slideshow": {
     "slide_type": "slide"
    }
   },
   "source": [
    "## Information: Python's loop syntax\n",
    "\n",
    "The **collection**, **body** and **loop variable** are general features of loops however we also need to know the particular syntax implemented by the programming language we are using.\n",
    "\n",
    "1. Python uses the keyword `for` to specify that we are entering a loop.\n",
    "2. This is followed by the name of the **loop variable** we wish to use in the loop.\n",
    "3. Python requires the keyword `in` to follow the loop variable.  \n",
    "4. This is followed by the **collection** of values that we wish to loop over.\n",
    "5. Python then requires a colon `:` to indicate that we have specified the conditions of the loop and are ready for the **body** that we want to execute at each iteration.\n",
    "6. Each line of the **body** must be *indented*, by default Ipython will add 4 spaces for you.\n",
    "7. When the indent stops the **body** of the loop ends. \n",
    "\n",
    "This is an example of what makes Python particularly readable as it reads like natural language, 'for (each) value in the set [ ... ]: Do something'\n",
    "\n",
    "```python\n",
    "In [1]: for number in [2, 3, 5]:\n",
    "   ...:    #In Ipython the cursor automatically indents to help you enter the body of the loop correctly #\n",
    "```\n",
    "\n",
    "While the particular syntax of programming languages differ, they all have the common features, specification of the **loop variable** and **collection**, and something to indicate the stop and start of the **body**.  "
   ]
  },
  {
   "cell_type": "markdown",
   "metadata": {
    "slideshow": {
     "slide_type": "slide"
    }
   },
   "source": [
    "As we may be becoming to expect, Python will try and help us out if we make a mistake.  For instance, what happens if we forget the colon `:` after specifying the conditions of the loop:"
   ]
  },
  {
   "cell_type": "code",
   "execution_count": 3,
   "metadata": {
    "slideshow": {
     "slide_type": "subslide"
    }
   },
   "outputs": [
    {
     "ename": "SyntaxError",
     "evalue": "invalid syntax (<ipython-input-3-63d4972f10ff>, line 1)",
     "output_type": "error",
     "traceback": [
      "\u001b[0;36m  File \u001b[0;32m\"<ipython-input-3-63d4972f10ff>\"\u001b[0;36m, line \u001b[0;32m1\u001b[0m\n\u001b[0;31m    for number in [2, 3, 5]\u001b[0m\n\u001b[0m                           ^\u001b[0m\n\u001b[0;31mSyntaxError\u001b[0m\u001b[0;31m:\u001b[0m invalid syntax\n"
     ]
    }
   ],
   "source": [
    "for number in [2, 3, 5]"
   ]
  },
  {
   "cell_type": "markdown",
   "metadata": {
    "slideshow": {
     "slide_type": "subslide"
    }
   },
   "source": [
    "Python recognises that we have made a mistake, tells us that there is a `SyntaxError: invalid syntax` and also uses the *up arrow* to point to where in the line it thinks there is something missing."
   ]
  },
  {
   "cell_type": "markdown",
   "metadata": {
    "slideshow": {
     "slide_type": "slide"
    }
   },
   "source": [
    "If we forget to indent the body then Python does an even better job with helping us:"
   ]
  },
  {
   "cell_type": "code",
   "execution_count": 5,
   "metadata": {
    "scrolled": true,
    "slideshow": {
     "slide_type": "subslide"
    }
   },
   "outputs": [
    {
     "ename": "IndentationError",
     "evalue": "expected an indented block (<ipython-input-5-3a0b55365d6d>, line 2)",
     "output_type": "error",
     "traceback": [
      "\u001b[0;36m  File \u001b[0;32m\"<ipython-input-5-3a0b55365d6d>\"\u001b[0;36m, line \u001b[0;32m2\u001b[0m\n\u001b[0;31m    print(number)\u001b[0m\n\u001b[0m        ^\u001b[0m\n\u001b[0;31mIndentationError\u001b[0m\u001b[0;31m:\u001b[0m expected an indented block\n"
     ]
    }
   ],
   "source": [
    "for number in [2, 3, 5]:\n",
    "print(number)"
   ]
  },
  {
   "cell_type": "markdown",
   "metadata": {
    "slideshow": {
     "slide_type": "subslide"
    }
   },
   "source": [
    "Python flags the mistake with the `IndentationError: expected an indented block` and the up arrow points to where Python expects the indented body of the loop to begin."
   ]
  },
  {
   "cell_type": "markdown",
   "metadata": {
    "slideshow": {
     "slide_type": "slide"
    }
   },
   "source": [
    "Finally, if you indent by mistake Python will also recognise this and let you know:"
   ]
  },
  {
   "cell_type": "code",
   "execution_count": 6,
   "metadata": {
    "slideshow": {
     "slide_type": "fragment"
    }
   },
   "outputs": [
    {
     "ename": "IndentationError",
     "evalue": "unexpected indent (<ipython-input-6-6ae2240856a7>, line 2)",
     "output_type": "error",
     "traceback": [
      "\u001b[0;36m  File \u001b[0;32m\"<ipython-input-6-6ae2240856a7>\"\u001b[0;36m, line \u001b[0;32m2\u001b[0m\n\u001b[0;31m    print(\"Hello\", james)\u001b[0m\n\u001b[0m    ^\u001b[0m\n\u001b[0;31mIndentationError\u001b[0m\u001b[0;31m:\u001b[0m unexpected indent\n"
     ]
    }
   ],
   "source": [
    "name = \"James\"\n",
    " print(\"Hello\", james)"
   ]
  },
  {
   "cell_type": "markdown",
   "metadata": {
    "slideshow": {
     "slide_type": "slide"
    }
   },
   "source": [
    "## Multi-line bodies\n",
    "\n",
    "The **body** of a loop is not restricted to a single line:"
   ]
  },
  {
   "cell_type": "code",
   "execution_count": 7,
   "metadata": {},
   "outputs": [
    {
     "name": "stdout",
     "output_type": "stream",
     "text": [
      "2 4 8\n",
      "3 9 27\n",
      "5 25 125\n"
     ]
    }
   ],
   "source": [
    "primes = [2, 3, 5]\n",
    "for p in primes:\n",
    "    squared = p ** 2\n",
    "    cubed = p ** 3\n",
    "    print(p, squared, cubed)"
   ]
  },
  {
   "cell_type": "markdown",
   "metadata": {
    "slideshow": {
     "slide_type": "slide"
    }
   },
   "source": [
    "The three lines of code that make up the **body** are all executed at every iteration of the loop.  We have also introduced a new operator `**` this isn't a typo but as you may have deduced from the context.\n",
    "\n",
    "Note however that if we you multiple lines of code in the **body** and you forget to indent the last one, Python cannot know which lines you meant to be part of the body and which weren't:"
   ]
  },
  {
   "cell_type": "code",
   "execution_count": 8,
   "metadata": {
    "slideshow": {
     "slide_type": "subslide"
    }
   },
   "outputs": [
    {
     "name": "stdout",
     "output_type": "stream",
     "text": [
      "5 25 125\n"
     ]
    }
   ],
   "source": [
    "primes = [2, 3, 5]\n",
    "for p in primes:\n",
    "    squared = p ** 2\n",
    "    cubed = p ** 3\n",
    "print(p, squared, cubed)"
   ]
  },
  {
   "cell_type": "markdown",
   "metadata": {
    "slideshow": {
     "slide_type": "subslide"
    }
   },
   "source": [
    "The final line of what was meant to be the **body** is now only executed after the loop has completed, so it only call the last line, once, with the final value that the **loop variable** takes."
   ]
  },
  {
   "cell_type": "markdown",
   "metadata": {
    "slideshow": {
     "slide_type": "slide"
    }
   },
   "source": [
    "## Using `range` to specify the collection\n",
    "If we have three values in the collection and they are prime numbers then writing them out isn't too difficult, but what if we want to execute some code hundreds or thousands of times.  This is the real power of loops and Python provides the function `range` to help us out.  Consider the following, which accumulates the values `(number + 1)` in `total`."
   ]
  },
  {
   "cell_type": "code",
   "execution_count": 9,
   "metadata": {
    "slideshow": {
     "slide_type": "subslide"
    }
   },
   "outputs": [
    {
     "name": "stdout",
     "output_type": "stream",
     "text": [
      "55\n"
     ]
    }
   ],
   "source": [
    "# Sum the first 10 integers\n",
    "total = 0\n",
    "for number in range(10):\n",
    "    total = total + (number + 1)\n",
    "print(total)"
   ]
  },
  {
   "cell_type": "markdown",
   "metadata": {
    "slideshow": {
     "slide_type": "slide"
    }
   },
   "source": [
    "`range(integer)` has been used to create the **collection** that our **loop variable**, `number` is looping over but what does `range` do?\n",
    "\n",
    "We can investigate by printing it and finding out its type:"
   ]
  },
  {
   "cell_type": "code",
   "execution_count": 10,
   "metadata": {
    "slideshow": {
     "slide_type": "subslide"
    }
   },
   "outputs": [
    {
     "name": "stdout",
     "output_type": "stream",
     "text": [
      "Range(10) displays as: range(0, 10) and is of type: <class 'range'>\n"
     ]
    }
   ],
   "source": [
    "print( \"Range(10) displays as:\", range(10), \"and is of type:\",type( range(10) ))"
   ]
  },
  {
   "cell_type": "markdown",
   "metadata": {
    "slideshow": {
     "slide_type": "slide"
    }
   },
   "source": [
    "This is not hugely informative, though our `range(10)` has been expanded to `range(0,10)`.  What we need to know is that Python effectively treats `range` as if it were a list.  As without other types we can use `list` to turn one type into another:"
   ]
  },
  {
   "cell_type": "code",
   "execution_count": 11,
   "metadata": {
    "slideshow": {
     "slide_type": "subslide"
    }
   },
   "outputs": [
    {
     "name": "stdout",
     "output_type": "stream",
     "text": [
      "Range(10) displays as: range(0, 10)\n",
      "but we can think of it as a list: [0, 1, 2, 3, 4, 5, 6, 7, 8, 9]\n"
     ]
    }
   ],
   "source": [
    "print( \"Range(10) displays as:\", range(10))\n",
    "print(\"but we can think of it as a list:\", list( range(10) ))"
   ]
  },
  {
   "cell_type": "markdown",
   "metadata": {
    "slideshow": {
     "slide_type": "subslide"
    }
   },
   "source": [
    "We can now see that `range(10)` is treated as a list of the first 10 integers, if we assume that we need to start counting at 0 because were are programming in Python.  It also explains why we need to add `1` to number each time we iterate the loop, because in Python we start counting from `0` but when we ask to sum the first `N` integers we expect to start from `1`.\n",
    "\n",
    "We can also demonstrate the value of the loop structure by changing our original sum:"
   ]
  },
  {
   "cell_type": "code",
   "execution_count": 12,
   "metadata": {
    "slideshow": {
     "slide_type": "subslide"
    }
   },
   "outputs": [
    {
     "name": "stdout",
     "output_type": "stream",
     "text": [
      "50005000\n"
     ]
    }
   ],
   "source": [
    "# Sum the first 10,000 integers\n",
    "total = 0\n",
    "for number in range(10000):\n",
    "    total = total + (number + 1)\n",
    "print(total)"
   ]
  },
  {
   "cell_type": "markdown",
   "metadata": {
    "slideshow": {
     "slide_type": "slide"
    }
   },
   "source": [
    "## Information: A `range` of possibilities\n",
    "We can do much more with `range` however, as hinted by the expansion above of `range(10)` to `range(0, 10)`.  Range accepts up to three parameters.  If we only specify one parameter then it will be taken as the `stop` value and `start` will default to `0`.  If we specify two values then these will be `start` and `stop`.  Finally if we include a third it will be the `step`, which otherwise defaults to `1`.\n"
   ]
  },
  {
   "cell_type": "markdown",
   "metadata": {
    "slideshow": {
     "slide_type": "subslide"
    }
   },
   "source": [
    "## Exercise: A `range` of possiblities\n",
    "\n",
    "Think about what the following might do, then try them to see if you are correct:\n",
    "\n",
    "1. `print(list( range(0, 10, 1) ))`\n",
    "2. `print(list( range(0, 10, 2) ))`\n",
    "3. `print(list( range(10, 0) ))`\n",
    "4. `print(list( range(10, 0, -2) ))`\n",
    "5. `print(list( range(1, 2, 0.1) ))`\n",
    "\n",
    "[Solution]()"
   ]
  },
  {
   "cell_type": "markdown",
   "metadata": {
    "slideshow": {
     "slide_type": "slide"
    }
   },
   "source": [
    "## Solution: A `range` of possiblities\n",
    "\n",
    "1. This does exactly what our first range command did, we have just specified the default values, `start=0` and `step=1`.\n",
    "2. This steps through the even integers.\n",
    "3. This returns an empty list because there are no number starting at `10` that are smaller than `0`.\n",
    "4. Because `step=-2` the order of the range is reversed, so it produces the list of numbers greater than `stop`.\n",
    "5. `range` takes only integer values so this raises a `TypeError: 'float' object cannot be interpreted as an integer`."
   ]
  },
  {
   "cell_type": "markdown",
   "metadata": {
    "slideshow": {
     "slide_type": "slide"
    }
   },
   "source": [
    "## Looping over lists\n",
    "\n",
    "One way in which loops become useful for us, is when we use them to loop over dataset and perform some analysis.  Let's return to our list of pressures in the previous episode and calculate the mean.  In programming there are many ways of performing a given task and we will consider an example."
   ]
  },
  {
   "cell_type": "code",
   "execution_count": 13,
   "metadata": {
    "slideshow": {
     "slide_type": "slide"
    }
   },
   "outputs": [
    {
     "name": "stdout",
     "output_type": "stream",
     "text": [
      "The mean pressure is: 0.2752\n"
     ]
    }
   ],
   "source": [
    "pressures = [0.273, 0.275, 0.277, 0.275, 0.276]\n",
    "num_pressures = len(pressures)\n",
    "sum_pressures = 0.0\n",
    "for index in range( num_pressures ):\n",
    "    sum_pressures = sum_pressures + pressures[ index ]\n",
    "    \n",
    "mean_pressure = sum_pressures / num_pressures\n",
    "print(\"The mean pressure is:\", mean_pressure)"
   ]
  },
  {
   "cell_type": "markdown",
   "metadata": {
    "slideshow": {
     "slide_type": "slide"
    }
   },
   "source": [
    "## Exercise: Looping over a list\n",
    "\n",
    "Recalling our first example of a loop, can you find the mean pressure without using the `len` function?  Verify that your code gives the same result as the example above.\n",
    "\n",
    "[Solution]()"
   ]
  },
  {
   "cell_type": "markdown",
   "metadata": {
    "slideshow": {
     "slide_type": "slide"
    }
   },
   "source": [
    "## Solution: Looping over a list\n",
    "\n",
    "In the first example of a loop we assigned a list to numbers and used this as the collection of values to loop over.  We can do exactly the same here.  In order to avoid using `len` we also need to increment a counter:\n",
    "\n",
    "```python\n",
    "pressures = [0.273, 0.275, 0.277, 0.275, 0.276]\n",
    "sum_pressures = 0.0\n",
    "num_pressures = 0\n",
    "for pressure in pressures:\n",
    "    sum_pressures += pressure\n",
    "    num_pressures += 1\n",
    "    \n",
    "mean_pressure = sum_pressures / num_pressures\n",
    "print(\"The mean pressure is:\", mean_pressure)\n",
    "```\n",
    "\n",
    "Generally this would be considered more \"pythonic\" than the previous example, because it is more readable.  'For each index in a range the length of the list pressures ...' is not as readable as 'For each pressure in the list of pressures ...'.  We have also introduced the accumulator operator `value += new_value`.  This is the same as writing `value = value + new_value` but is shorter and easier to read."
   ]
  },
  {
   "cell_type": "markdown",
   "metadata": {
    "slideshow": {
     "slide_type": "slide"
    }
   },
   "source": [
    "## Exercise: Looping over a string\n",
    "\n",
    "Recalling the previous episode where we said that strings can be considered as list, print each character in \"Hello world!\" on a new line.\n",
    "\n",
    "[Solution]()"
   ]
  },
  {
   "cell_type": "markdown",
   "metadata": {
    "slideshow": {
     "slide_type": "slide"
    }
   },
   "source": [
    "## Solution: Looping over a string\n",
    "\n",
    "```python\n",
    "string = \"Hello world!\"\n",
    "for ch in string:\n",
    "    print(ch)\n",
    "```\n",
    "."
   ]
  },
  {
   "cell_type": "markdown",
   "metadata": {
    "slideshow": {
     "slide_type": "slide"
    }
   },
   "source": [
    "## Key Points:\n",
    "- A `for` loop executes commands once for each value in a collection.\n",
    "- A `for` loop is made up of a collection, a loop variable, and a body.\n",
    "- Loop variables can be called anything (but it is strongly advised to have a meaningful name to the looping variable).\n",
    "- The body of a loop can contain many statements.\n",
    "- The first line of the for loop must end with a colon, and the body must be indented.\n",
    "- Indentation is always meaningful in Python.\n",
    "- Use `range` to iterate over a sequence of numbers.\n",
    "- The accumulator pattern turns many values into one."
   ]
  }
 ],
 "metadata": {
  "celltoolbar": "Slideshow",
  "kernelspec": {
   "display_name": "Python 3",
   "language": "python",
   "name": "python3"
  },
  "language_info": {
   "codemirror_mode": {
    "name": "ipython",
    "version": 3
   },
   "file_extension": ".py",
   "mimetype": "text/x-python",
   "name": "python",
   "nbconvert_exporter": "python",
   "pygments_lexer": "ipython3",
   "version": "3.7.4"
  }
 },
 "nbformat": 4,
 "nbformat_minor": 2
}
