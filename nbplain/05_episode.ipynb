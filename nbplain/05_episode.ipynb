{
  "cells": [
    {
      "metadata": {
        "slideshow": {
          "slide_type": "slide"
        }
      },
      "cell_type": "markdown",
      "source": "# Looping"
    },
    {
      "metadata": {
        "slideshow": {
          "slide_type": "slide"
        }
      },
      "cell_type": "markdown",
      "source": "## Overview\n- **Teaching:** 15 min\n- **Exercises:** 10 min\n\n**Questions**\n- How can I make a program repeat the same task many times?\n\n**Objectives**\n- Explain what for loops are normally used for.\n- Trace the execution of loops and correctly state the values of variables in each iteration.\n- Write for loops that accumulate values."
    },
    {
      "metadata": {
        "slideshow": {
          "slide_type": "slide"
        }
      },
      "cell_type": "markdown",
      "source": "## What is a loop and why do we use them?\n\n- Doing calculations on the values in a list one by one is as painful as working with pressure_001, pressure_002, etc.\n- A for loop tells Python to execute some statements once for each value in a list, a character string, or some other collection.\n- “for each thing in this group, do these operations”\n\nFirst let's write a loop and considering the equivalent code."
    },
    {
      "metadata": {
        "trusted": false
      },
      "cell_type": "code",
      "source": "for number in [2, 3, 5]:\n    print(number)",
      "execution_count": 1,
      "outputs": [
        {
          "name": "stdout",
          "output_type": "stream",
          "text": "2\n3\n5\n"
        }
      ]
    },
    {
      "metadata": {
        "slideshow": {
          "slide_type": "slide"
        },
        "trusted": false
      },
      "cell_type": "code",
      "source": "print(2)\nprint(3)\nprint(5)",
      "execution_count": 2,
      "outputs": [
        {
          "name": "stdout",
          "output_type": "stream",
          "text": "2\n3\n5\n"
        }
      ]
    },
    {
      "metadata": {
        "slideshow": {
          "slide_type": "slide"
        }
      },
      "cell_type": "markdown",
      "source": "We can see that the loop we have written:\n\n```python\nfor number in [2, 3, 5]:\n    print(number)\n```\n\nproduces the same output as explicitly print the numbers, `2`, `3` and `5`.  But what is the loop actually doing and waht are its principle features?\n\n1. The **collection**, in this case the list `[2, 3, 5]` is the set of values that the loop is being run on.\n2. The **body**, here `print(number)`, specifies what to do for each value in the **collection**.\n3. The **loop variable**, `number`, changes with each *iteration* in the loop taking the values specified by the **collection**"
    },
    {
      "metadata": {
        "slideshow": {
          "slide_type": "slide"
        }
      },
      "cell_type": "markdown",
      "source": "## Information: Python's loop syntax\n\nThe **collection**, **body** and **loop variable** are general features of loops however we also need to know the particular syntax implemented by the programming language we are using.\n\n1. Python uses the keyword `for` to specify that we are entering a loop.\n2. This is followed by the name of the **loop variable** we wish to use in the loop.\n3. Python requires the keyword `in` to follow the loop variable.  \n4. This is followed by the **collection** of values that we wish to loop over.\n5. Python then requires a colon `:` to indicate that we have specified the conditions of the loop and are ready for the **body** that we want to execute at each iteration.\n6. Each line of the **body** must be *indented*, by default Ipython will add 4 spaces for you.\n7. When the indent stops the **body** of the loop ends. \n\nThis is an example of what makes Python particularly readable as it reads like natural language, 'for (each) value in the set [ ... ]: Do something'\n\n```python\nIn [1]: for number in [2, 3, 5]:\n   ...:    #In Ipython the cursor automatically indents to help you enter the body of the loop correctly #\n```\n\nWhile the particular syntax of programming languages differ, they all have the common features, specification of the **loop variable** and **collection**, and something to indicate the stop and start of the **body**.  "
    },
    {
      "metadata": {
        "slideshow": {
          "slide_type": "slide"
        }
      },
      "cell_type": "markdown",
      "source": "As we may be becoming to expect, Python will try and help us out if we make a mistake.  For instance, what happens if we forget the colon `:` after specifying the conditions of the loop:"
    },
    {
      "metadata": {
        "slideshow": {
          "slide_type": "subslide"
        },
        "trusted": false
      },
      "cell_type": "code",
      "source": "for number in [2, 3, 5]",
      "execution_count": 3,
      "outputs": [
        {
          "ename": "SyntaxError",
          "evalue": "invalid syntax (<ipython-input-3-63d4972f10ff>, line 1)",
          "output_type": "error",
          "traceback": [
            "\u001b[0;36m  File \u001b[0;32m\"<ipython-input-3-63d4972f10ff>\"\u001b[0;36m, line \u001b[0;32m1\u001b[0m\n\u001b[0;31m    for number in [2, 3, 5]\u001b[0m\n\u001b[0m                           ^\u001b[0m\n\u001b[0;31mSyntaxError\u001b[0m\u001b[0;31m:\u001b[0m invalid syntax\n"
          ]
        }
      ]
    },
    {
      "metadata": {
        "slideshow": {
          "slide_type": "subslide"
        }
      },
      "cell_type": "markdown",
      "source": "Python recognises that we have made a mistake, tells us that there is a `SyntaxError: invalid syntax` and also uses the *up arrow* to point to where in the line it thinks there is something missing."
    },
    {
      "metadata": {
        "slideshow": {
          "slide_type": "slide"
        }
      },
      "cell_type": "markdown",
      "source": "If we forget to indent the body then Python does an even better job with helping us:"
    },
    {
      "metadata": {
        "scrolled": true,
        "slideshow": {
          "slide_type": "subslide"
        },
        "trusted": false
      },
      "cell_type": "code",
      "source": "for number in [2, 3, 5]:\nprint(number)",
      "execution_count": 5,
      "outputs": [
        {
          "ename": "IndentationError",
          "evalue": "expected an indented block (<ipython-input-5-3a0b55365d6d>, line 2)",
          "output_type": "error",
          "traceback": [
            "\u001b[0;36m  File \u001b[0;32m\"<ipython-input-5-3a0b55365d6d>\"\u001b[0;36m, line \u001b[0;32m2\u001b[0m\n\u001b[0;31m    print(number)\u001b[0m\n\u001b[0m        ^\u001b[0m\n\u001b[0;31mIndentationError\u001b[0m\u001b[0;31m:\u001b[0m expected an indented block\n"
          ]
        }
      ]
    },
    {
      "metadata": {
        "slideshow": {
          "slide_type": "subslide"
        }
      },
      "cell_type": "markdown",
      "source": "Python flags the mistake with the `IndentationError: expected an indented block` and the up arrow points to where Python expects the indented body of the loop to begin."
    },
    {
      "metadata": {
        "slideshow": {
          "slide_type": "slide"
        }
      },
      "cell_type": "markdown",
      "source": "Finally, if you indent by mistake Python will also recognise this and let you know:"
    },
    {
      "metadata": {
        "slideshow": {
          "slide_type": "fragment"
        },
        "trusted": false
      },
      "cell_type": "code",
      "source": "name = \"James\"\n print(\"Hello\", james)",
      "execution_count": 6,
      "outputs": [
        {
          "ename": "IndentationError",
          "evalue": "unexpected indent (<ipython-input-6-6ae2240856a7>, line 2)",
          "output_type": "error",
          "traceback": [
            "\u001b[0;36m  File \u001b[0;32m\"<ipython-input-6-6ae2240856a7>\"\u001b[0;36m, line \u001b[0;32m2\u001b[0m\n\u001b[0;31m    print(\"Hello\", james)\u001b[0m\n\u001b[0m    ^\u001b[0m\n\u001b[0;31mIndentationError\u001b[0m\u001b[0;31m:\u001b[0m unexpected indent\n"
          ]
        }
      ]
    },
    {
      "metadata": {
        "slideshow": {
          "slide_type": "slide"
        }
      },
      "cell_type": "markdown",
      "source": "## Multi-line bodies\n\nThe **body** of a loop is not restricted to a single line:"
    },
    {
      "metadata": {
        "trusted": false
      },
      "cell_type": "code",
      "source": "primes = [2, 3, 5]\nfor p in primes:\n    squared = p ** 2\n    cubed = p ** 3\n    print(p, squared, cubed)",
      "execution_count": 7,
      "outputs": [
        {
          "name": "stdout",
          "output_type": "stream",
          "text": "2 4 8\n3 9 27\n5 25 125\n"
        }
      ]
    },
    {
      "metadata": {
        "slideshow": {
          "slide_type": "slide"
        }
      },
      "cell_type": "markdown",
      "source": "The three lines of code that make up the **body** are all executed at every iteration of the loop.  We have also introduced a new operator `**` this isn't a typo but as you may have deduced from the context.\n\nNote however that if we you multiple lines of code in the **body** and you forget to indent the last one, Python cannot know which lines you meant to be part of the body and which weren't:"
    },
    {
      "metadata": {
        "slideshow": {
          "slide_type": "subslide"
        },
        "trusted": false
      },
      "cell_type": "code",
      "source": "primes = [2, 3, 5]\nfor p in primes:\n    squared = p ** 2\n    cubed = p ** 3\nprint(p, squared, cubed)",
      "execution_count": 8,
      "outputs": [
        {
          "name": "stdout",
          "output_type": "stream",
          "text": "5 25 125\n"
        }
      ]
    },
    {
      "metadata": {
        "slideshow": {
          "slide_type": "subslide"
        }
      },
      "cell_type": "markdown",
      "source": "The final line of what was meant to be the **body** is now only executed after the loop has completed, so it only call the last line, once, with the final value that the **loop variable** takes."
    },
    {
      "metadata": {
        "slideshow": {
          "slide_type": "slide"
        }
      },
      "cell_type": "markdown",
      "source": "## Using `range` to specify the collection\nIf we have three values in the collection and they are prime numbers then writing them out isn't too difficult, but what if we want to execute some code hundreds or thousands of times.  This is the real power of loops and Python provides the function `range` to help us out.  Consider the following, which accumulates the values `(number + 1)` in `total`."
    },
    {
      "metadata": {
        "slideshow": {
          "slide_type": "subslide"
        },
        "trusted": false
      },
      "cell_type": "code",
      "source": "# Sum the first 10 integers\ntotal = 0\nfor number in range(10):\n    total = total + (number + 1)\nprint(total)",
      "execution_count": 9,
      "outputs": [
        {
          "name": "stdout",
          "output_type": "stream",
          "text": "55\n"
        }
      ]
    },
    {
      "metadata": {
        "slideshow": {
          "slide_type": "slide"
        }
      },
      "cell_type": "markdown",
      "source": "`range(integer)` has been used to create the **collection** that our **loop variable**, `number` is looping over but what does `range` do?\n\nWe can investigate by printing it and finding out its type:"
    },
    {
      "metadata": {
        "slideshow": {
          "slide_type": "subslide"
        },
        "trusted": false
      },
      "cell_type": "code",
      "source": "print( \"Range(10) displays as:\", range(10), \"and is of type:\",type( range(10) ))",
      "execution_count": 10,
      "outputs": [
        {
          "name": "stdout",
          "output_type": "stream",
          "text": "Range(10) displays as: range(0, 10) and is of type: <class 'range'>\n"
        }
      ]
    },
    {
      "metadata": {
        "slideshow": {
          "slide_type": "slide"
        }
      },
      "cell_type": "markdown",
      "source": "This is not hugely informative, though our `range(10)` has been expanded to `range(0,10)`.  What we need to know is that Python effectively treats `range` as if it were a list.  As without other types we can use `list` to turn one type into another:"
    },
    {
      "metadata": {
        "slideshow": {
          "slide_type": "subslide"
        },
        "trusted": false
      },
      "cell_type": "code",
      "source": "print( \"Range(10) displays as:\", range(10))\nprint(\"but we can think of it as a list:\", list( range(10) ))",
      "execution_count": 11,
      "outputs": [
        {
          "name": "stdout",
          "output_type": "stream",
          "text": "Range(10) displays as: range(0, 10)\nbut we can think of it as a list: [0, 1, 2, 3, 4, 5, 6, 7, 8, 9]\n"
        }
      ]
    },
    {
      "metadata": {
        "slideshow": {
          "slide_type": "subslide"
        }
      },
      "cell_type": "markdown",
      "source": "We can now see that `range(10)` is treated as a list of the first 10 integers, if we assume that we need to start counting at 0 because were are programming in Python.  It also explains why we need to add `1` to number each time we iterate the loop, because in Python we start counting from `0` but when we ask to sum the first `N` integers we expect to start from `1`.\n\nWe can also demonstrate the value of the loop structure by changing our original sum:"
    },
    {
      "metadata": {
        "slideshow": {
          "slide_type": "subslide"
        },
        "trusted": false
      },
      "cell_type": "code",
      "source": "# Sum the first 10,000 integers\ntotal = 0\nfor number in range(10000):\n    total = total + (number + 1)\nprint(total)",
      "execution_count": 12,
      "outputs": [
        {
          "name": "stdout",
          "output_type": "stream",
          "text": "50005000\n"
        }
      ]
    },
    {
      "metadata": {
        "slideshow": {
          "slide_type": "slide"
        }
      },
      "cell_type": "markdown",
      "source": "## Information: A `range` of possibilities\nWe can do much more with `range` however, as hinted by the expansion above of `range(10)` to `range(0, 10)`.  Range accepts up to three parameters.  If we only specify one parameter then it will be taken as the `stop` value and `start` will default to `0`.  If we specify two values then these will be `start` and `stop`.  Finally if we include a third it will be the `step`, which otherwise defaults to `1`.\n"
    },
    {
      "metadata": {
        "slideshow": {
          "slide_type": "subslide"
        }
      },
      "cell_type": "markdown",
      "source": "## Exercise: A `range` of possiblities\n\nThink about what the following might do, then try them to see if you are correct:\n\n1. `print(list( range(0, 10, 1) ))`\n2. `print(list( range(0, 10, 2) ))`\n3. `print(list( range(10, 0) ))`\n4. `print(list( range(10, 0, -2) ))`\n5. `print(list( range(1, 2, 0.1) ))`"
    },
    {
      "metadata": {
        "slideshow": {
          "slide_type": "slide"
        }
      },
      "cell_type": "markdown",
      "source": "## Solution: A `range` of possiblities\n\n1. This does exactly what our first range command did, we have just specified the default values, `start=0` and `step=1`.\n2. This steps through the even integers.\n3. This returns an empty list because there are no number starting at `10` that are smaller than `0`.\n4. Because `step=-2` the order of the range is reversed, so it produces the list of numbers greater than `stop`.\n5. `range` takes only integer values so this raises a `TypeError: 'float' object cannot be interpreted as an integer`."
    },
    {
      "metadata": {
        "slideshow": {
          "slide_type": "slide"
        }
      },
      "cell_type": "markdown",
      "source": "## Looping over lists\n\nOne way in which loops become useful for us, is when we use them to loop over dataset and perform some analysis.  Let's return to our list of pressures in the previous episode and calculate the mean.  In programming there are many ways of performing a given task and we will consider an example."
    },
    {
      "metadata": {
        "slideshow": {
          "slide_type": "slide"
        },
        "trusted": false
      },
      "cell_type": "code",
      "source": "pressures = [0.273, 0.275, 0.277, 0.275, 0.276]\nnum_pressures = len(pressures)\nsum_pressures = 0.0\nfor index in range( num_pressures ):\n    sum_pressures = sum_pressures + pressures[ index ]\n    \nmean_pressure = sum_pressures / num_pressures\nprint(\"The mean pressure is:\", mean_pressure)",
      "execution_count": 13,
      "outputs": [
        {
          "name": "stdout",
          "output_type": "stream",
          "text": "The mean pressure is: 0.2752\n"
        }
      ]
    },
    {
      "metadata": {
        "slideshow": {
          "slide_type": "slide"
        }
      },
      "cell_type": "markdown",
      "source": "## Exercise: Looping over a list\n\nRecalling our first example of a loop, can you find the mean pressure without using the `len` function?  Verify that your code gives the same result as the example above."
    },
    {
      "metadata": {
        "slideshow": {
          "slide_type": "slide"
        }
      },
      "cell_type": "markdown",
      "source": "## Solution: Looping over a list\n\nIn the first example of a loop we assigned a list to numbers and used this as the collection of values to loop over.  We can do exactly the same here.  In order to avoid using `len` we also need to increment a counter:\n\n```python\npressures = [0.273, 0.275, 0.277, 0.275, 0.276]\nsum_pressures = 0.0\nnum_pressures = 0\nfor pressure in pressures:\n    sum_pressures += pressure\n    num_pressures += 1\n    \nmean_pressure = sum_pressures / num_pressures\nprint(\"The mean pressure is:\", mean_pressure)\n```\n\nGenerally this would be considered more \"pythonic\" than the previous example, because it is more readable.  'For each index in a range the length of the list pressures ...' is not as readable as 'For each pressure in the list of pressures ...'.  We have also introduced the accumulator operator `value += new_value`.  This is the same as writing `value = value + new_value` but is shorter and easier to read."
    },
    {
      "metadata": {
        "slideshow": {
          "slide_type": "slide"
        }
      },
      "cell_type": "markdown",
      "source": "## Exercise: Looping over a string\n\nRecalling the previous episode where we said that strings can be considered as list, print each character in \"Hello world!\" on a new line."
    },
    {
      "metadata": {
        "slideshow": {
          "slide_type": "slide"
        }
      },
      "cell_type": "markdown",
      "source": "## Solution: Looping over a string\n\n```python\nstring = \"Hello world!\"\nfor ch in string:\n    print(ch)\n```\n."
    },
    {
      "metadata": {
        "slideshow": {
          "slide_type": "slide"
        }
      },
      "cell_type": "markdown",
      "source": "## Key Points\n- A `for` loop executes commands once for each value in a collection.\n- A `for` loop is made up of a collection, a loop variable, and a body.\n- Loop variables can be called anything (but it is strongly advised to have a meaningful name to the looping variable).\n- The body of a loop can contain many statements.\n- The first line of the for loop must end with a colon, and the body must be indented.\n- Indentation is always meaningful in Python.\n- Use `range` to iterate over a sequence of numbers.\n- The accumulator pattern turns many values into one."
    }
  ],
  "metadata": {
    "celltoolbar": "Slideshow",
    "kernelspec": {
      "name": "python3",
      "display_name": "Python 3",
      "language": "python"
    },
    "language_info": {
      "mimetype": "text/x-python",
      "nbconvert_exporter": "python",
      "name": "python",
      "file_extension": ".py",
      "version": "3.5.4",
      "pygments_lexer": "ipython3",
      "codemirror_mode": {
        "version": 3,
        "name": "ipython"
      }
    }
  },
  "nbformat": 4,
  "nbformat_minor": 2
}