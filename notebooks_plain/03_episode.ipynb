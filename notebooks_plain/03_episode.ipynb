{
  "cells": [
    {
      "metadata": {
        "slideshow": {
          "slide_type": "slide"
        }
      },
      "cell_type": "markdown",
      "source": "# Datatypes and Conversion"
    },
    {
      "metadata": {
        "slideshow": {
          "slide_type": "slide"
        }
      },
      "cell_type": "markdown",
      "source": "## Overview\n- **Teaching:** 10 min\n- **Exercises:** 5 min\n\n**Questions**\n- Why are there different types of values a computer can store?\n- What kind data types do programs store?\n- How can I convert one type to another?\n\n**Objectives**\n- Explain key differences between integers and floating point numbers.\n- Explain key differences between numbers and character strings.\n- Understand how to assign a value so it has the correct type.\n- Use built-in functions to convert between integers, floating point numbers, and strings."
    },
    {
      "metadata": {
        "slideshow": {
          "slide_type": "slide"
        }
      },
      "cell_type": "markdown",
      "source": "# Every value has a type\n\nSo far we have introduced different types of values.  Before we go any further we will explore this a little more to ensure that we are clear about differences between the types of values and the variables where they are stored.\n\n- Every value in a program has a specific type.\n- Integer (int): represents positive or negative whole numbers like 3 or -512.\n- Floating point number (float): represents real numbers like 3.14159 or -2.5.\n- Character string, usually called a string, (str): \"some text\".\n  - Written in either single quotes or double quotes (as long as they match).\n  - The quote marks aren’t printed when the string is displayed with `print()`."
    },
    {
      "metadata": {
        "slideshow": {
          "slide_type": "slide"
        }
      },
      "cell_type": "markdown",
      "source": "## The `type` function\n\nWe will use the function `type` to identify how Python stores the following values."
    },
    {
      "metadata": {
        "slideshow": {
          "slide_type": "subslide"
        },
        "trusted": false
      },
      "cell_type": "code",
      "source": "print(type(24))",
      "execution_count": 1,
      "outputs": [
        {
          "name": "stdout",
          "output_type": "stream",
          "text": "<class 'int'>\n"
        }
      ]
    },
    {
      "metadata": {
        "slideshow": {
          "slide_type": "subslide"
        }
      },
      "cell_type": "markdown",
      "source": "`24` is recognised as a value of type `'int'`, where `'int'` as we might expect is short for `integer`."
    },
    {
      "metadata": {
        "slideshow": {
          "slide_type": "subslide"
        },
        "trusted": false
      },
      "cell_type": "code",
      "source": "print(type(70.0))",
      "execution_count": 2,
      "outputs": [
        {
          "name": "stdout",
          "output_type": "stream",
          "text": "<class 'float'>\n"
        }
      ]
    },
    {
      "metadata": {
        "slideshow": {
          "slide_type": "subslide"
        }
      },
      "cell_type": "markdown",
      "source": "`70.0` is a `'float'`. Finally:"
    },
    {
      "metadata": {
        "slideshow": {
          "slide_type": "subslide"
        },
        "trusted": false
      },
      "cell_type": "code",
      "source": "print(type(\"James\"))",
      "execution_count": 3,
      "outputs": [
        {
          "name": "stdout",
          "output_type": "stream",
          "text": "<class 'str'>\n"
        }
      ]
    },
    {
      "metadata": {
        "slideshow": {
          "slide_type": "slide"
        }
      },
      "cell_type": "markdown",
      "source": "## What about variables?\n\nHopefully there are no surprises in the types that Python assigns to the values above, but what about variables.  Let's try run `type` on a new variable, `changeling`:"
    },
    {
      "metadata": {
        "slideshow": {
          "slide_type": "subslide"
        },
        "trusted": false
      },
      "cell_type": "code",
      "source": "print(type(changeling))",
      "execution_count": 4,
      "outputs": [
        {
          "ename": "NameError",
          "evalue": "name 'changeling' is not defined",
          "output_type": "error",
          "traceback": [
            "\u001b[0;31m---------------------------------------------------------------------------\u001b[0m",
            "\u001b[0;31mNameError\u001b[0m                                 Traceback (most recent call last)",
            "\u001b[0;32m<ipython-input-4-e94e480168f6>\u001b[0m in \u001b[0;36m<module>\u001b[0;34m\u001b[0m\n\u001b[0;32m----> 1\u001b[0;31m \u001b[0mprint\u001b[0m\u001b[0;34m(\u001b[0m\u001b[0mtype\u001b[0m\u001b[0;34m(\u001b[0m\u001b[0mchangeling\u001b[0m\u001b[0;34m)\u001b[0m\u001b[0;34m)\u001b[0m\u001b[0;34m\u001b[0m\u001b[0m\n\u001b[0m",
            "\u001b[0;31mNameError\u001b[0m: name 'changeling' is not defined"
          ]
        }
      ]
    },
    {
      "metadata": {
        "slideshow": {
          "slide_type": "subslide"
        }
      },
      "cell_type": "markdown",
      "source": "As we found out at the end of the last episode, we cannot use a variable before it has been assigned a value.  So let's assign a series of values and repeat:"
    },
    {
      "metadata": {
        "slideshow": {
          "slide_type": "slide"
        },
        "trusted": false
      },
      "cell_type": "code",
      "source": "changeling = 24\nprint(type(changeling))",
      "execution_count": 1,
      "outputs": [
        {
          "name": "stdout",
          "output_type": "stream",
          "text": "<class 'int'>\n"
        }
      ]
    },
    {
      "metadata": {
        "slideshow": {
          "slide_type": "subslide"
        },
        "trusted": false
      },
      "cell_type": "code",
      "source": "changeling = 70.0\nprint(type(changeling))",
      "execution_count": 2,
      "outputs": [
        {
          "name": "stdout",
          "output_type": "stream",
          "text": "<class 'float'>\n"
        }
      ]
    },
    {
      "metadata": {
        "slideshow": {
          "slide_type": "subslide"
        },
        "trusted": false
      },
      "cell_type": "code",
      "source": "changeling = \"James\"\nprint(type(changeling))",
      "execution_count": 3,
      "outputs": [
        {
          "name": "stdout",
          "output_type": "stream",
          "text": "<class 'str'>\n"
        }
      ]
    },
    {
      "metadata": {
        "slideshow": {
          "slide_type": "subslide"
        }
      },
      "cell_type": "markdown",
      "source": "We can see that in Python variables do not have a well defined type but are mutable, depending upon the value stored in them"
    },
    {
      "metadata": {
        "slideshow": {
          "slide_type": "slide"
        }
      },
      "cell_type": "markdown",
      "source": "## Value types determine what operations are allowed\n\nThe `type` of values determines what can be done with them for instance we have already seen that we can happily perform calculations e.g.:"
    },
    {
      "metadata": {
        "slideshow": {
          "slide_type": "subslide"
        },
        "trusted": false
      },
      "cell_type": "code",
      "source": "print(5-3)",
      "execution_count": 4,
      "outputs": [
        {
          "name": "stdout",
          "output_type": "stream",
          "text": "2\n"
        }
      ]
    },
    {
      "metadata": {
        "slideshow": {
          "slide_type": "subslide"
        }
      },
      "cell_type": "markdown",
      "source": "We have also seen that if we mix `integers` and `floats`, Python is able to work out what to do:"
    },
    {
      "metadata": {
        "slideshow": {
          "slide_type": "subslide"
        },
        "trusted": false
      },
      "cell_type": "code",
      "source": "print(2+3.5)",
      "execution_count": 5,
      "outputs": [
        {
          "name": "stdout",
          "output_type": "stream",
          "text": "5.5\n"
        }
      ]
    },
    {
      "metadata": {
        "slideshow": {
          "slide_type": "slide"
        }
      },
      "cell_type": "markdown",
      "source": "Because `integers` and `floats` are ways of representing numbers mathematical operations involving their values are well defined."
    },
    {
      "metadata": {
        "slideshow": {
          "slide_type": "slide"
        }
      },
      "cell_type": "markdown",
      "source": "## Pen: What about the following?\n\nThink about what would happen if you tried the following and then see if you can understand the output.\n\n1. `print(1+\"2\")`\n2. `print(\"Hello\"-\"world\")`"
    },
    {
      "metadata": {
        "slideshow": {
          "slide_type": "slide"
        }
      },
      "cell_type": "markdown",
      "source": "## Pen: Now try these:\n\n1. `print(\"Hello\"+\"world\")`\n2. `print(\"Hello\"*3)`"
    },
    {
      "metadata": {
        "slideshow": {
          "slide_type": "slide"
        }
      },
      "cell_type": "markdown",
      "source": "## Pen: Choosing the type of value.\n\nIn the previous episode we used\n```python\nage = 36\nname = \"James\"\nprint(name, \"is\", age, \"years old\")\n```\nWhat would happen if we had instead used\n```python\nage = \"36\"\nname = \"James\"\nprint(name, \"is\", age, \"years old\")\n```\nThink about why we would choose to specify age as an `integer` (or `float`) rather than a `string`."
    },
    {
      "metadata": {
        "slideshow": {
          "slide_type": "slide"
        }
      },
      "cell_type": "markdown",
      "source": "## Changing the type of a value\n\nAs well as using the function `type` to retrieve the type of a value there are also a set of functions which can be used to change the type of a value.  These functions take the form of the value types `int()`, `float()` and `str()`"
    },
    {
      "metadata": {
        "slideshow": {
          "slide_type": "subslide"
        },
        "trusted": false
      },
      "cell_type": "code",
      "source": "print(\"String:\",\"2\", \"Integer:\", int(\"2\"), \"Float:\", float(\"2\")) # Take the string \"2\", convert it to a integer, a float and print all three cases",
      "execution_count": 6,
      "outputs": [
        {
          "name": "stdout",
          "output_type": "stream",
          "text": "String: 2 Integer: 2 Float: 2.0\n"
        }
      ]
    },
    {
      "metadata": {
        "slideshow": {
          "slide_type": "subslide"
        },
        "trusted": false
      },
      "cell_type": "code",
      "source": "\nprint(\"Float\", 2.5, \"String:\", str(2.5), \"Integer:\", int(2.5))   # Take the float 2.5, convert it to a string, an integer and print all three cases",
      "execution_count": 7,
      "outputs": [
        {
          "name": "stdout",
          "output_type": "stream",
          "text": "Float 2.5 String: 2.5 Integer: 2\n"
        }
      ]
    },
    {
      "metadata": {
        "slideshow": {
          "slide_type": "slide"
        }
      },
      "cell_type": "markdown",
      "source": "So if we return to the earlier exercise where we tried the command `print(1+\"2\")` we now know that in order to perform the integer calculation `1+2` we need to convert the second value `\"2\"` to integer in order for the code to be valid:"
    },
    {
      "metadata": {
        "slideshow": {
          "slide_type": "subslide"
        },
        "trusted": false
      },
      "cell_type": "code",
      "source": "print(1 + int(\"2\")) ",
      "execution_count": 8,
      "outputs": [
        {
          "name": "stdout",
          "output_type": "stream",
          "text": "3\n"
        }
      ]
    },
    {
      "metadata": {
        "slideshow": {
          "slide_type": "subslide"
        }
      },
      "cell_type": "markdown",
      "source": "Alternatively it may have been our intentions to 'add' or combine the two `strings` `\"1\"` and `\"2\"` in which case we would instead need:"
    },
    {
      "metadata": {
        "slideshow": {
          "slide_type": "subslide"
        },
        "trusted": false
      },
      "cell_type": "code",
      "source": "print(str(1)+\"2\")",
      "execution_count": 10,
      "outputs": [
        {
          "name": "stdout",
          "output_type": "stream",
          "text": "12\n"
        }
      ]
    },
    {
      "metadata": {
        "slideshow": {
          "slide_type": "slide"
        }
      },
      "cell_type": "markdown",
      "source": "## What about a variables type?\n\nSo far we have used the functions `str`, `int` and `float`, to change the type of values.  How does running these commands on a variable affect the type of the value assigned to them?  When can investigate this with the following:"
    },
    {
      "metadata": {
        "slideshow": {
          "slide_type": "subslide"
        },
        "trusted": false
      },
      "cell_type": "code",
      "source": "my_variable = \"2\"               # First we assign the value, string \"2\", to the variable my_variable\nprint(my_variable)              # Print the variable\nprint(my_variable*5)            # Verify that the variable is a string but testing the behaviour with `*`\nprint( float(my_variable) )     # Convert the value in variable to a float and print it\nprint(my_variable*5)            # Verify what the variable type is now by testing the behaviour with `*`",
      "execution_count": 11,
      "outputs": [
        {
          "name": "stdout",
          "output_type": "stream",
          "text": "2\n22222\n2.0\n22222\n"
        }
      ]
    },
    {
      "metadata": {
        "slideshow": {
          "slide_type": "subslide"
        }
      },
      "cell_type": "markdown",
      "source": "We see that this has not changed the type of the value stored in `my_variable`.  The commands only change the `type` of the value at that point in the code.  For example if we have the string `\"2\"`, running `int(\"2\")` does not change the fact that `\"2\"` is a string."
    },
    {
      "metadata": {
        "slideshow": {
          "slide_type": "slide"
        }
      },
      "cell_type": "markdown",
      "source": "If we want the conversion to be reflected in the value stored in a variable, we must reassign the variable:"
    },
    {
      "metadata": {
        "slideshow": {
          "slide_type": "slide"
        },
        "trusted": false
      },
      "cell_type": "code",
      "source": "my_variable = \"2\"                   # First we assign the value, string \"2\", to the variable my_variable\nprint(my_variable)                  # Print the variable\nprint(my_variable*5)                # Verify that the variable is a string but testing the behaviour with `*`\nprint( float(my_variable) )         # Convert the value in variable to a float and print it\nmy_variable = float(my_variable)    # Now we explicitly reassign the my_variable\nprint(my_variable*5)                # Verify what the variable type is now by testing the behaviour with `*`",
      "execution_count": 12,
      "outputs": [
        {
          "name": "stdout",
          "output_type": "stream",
          "text": "2\n22222\n2.0\n10.0\n"
        }
      ]
    },
    {
      "metadata": {
        "slideshow": {
          "slide_type": "subslide"
        }
      },
      "cell_type": "markdown",
      "source": "We can now see that the variable has been explicitly reassigned to the value converted to a float, and this has been verified by checking that `*` now performs the numerical operation we expect rather than the repeating the string multiple times."
    },
    {
      "metadata": {
        "slideshow": {
          "slide_type": "slide"
        }
      },
      "cell_type": "markdown",
      "source": "## Exercise: Decimals and fractions\n\nWhat type of values are the following and how can you find out?\n\n1. 3.4\n2. 1/3\n3. 4/4"
    },
    {
      "metadata": {
        "slideshow": {
          "slide_type": "slide"
        }
      },
      "cell_type": "markdown",
      "source": "## Solution: Decimals and fractions\n\n1.  `print(type(3.4))`<br>\n    `<class 'float'>`\n2.  `print(type(1/3))`<br>\n    `<class 'float'>`\n3.  `print(type(4/4))`<br>\n    `<class 'float'>`"
    },
    {
      "metadata": {
        "slideshow": {
          "slide_type": "slide"
        }
      },
      "cell_type": "markdown",
      "source": "## Exercise: Choose a Type\n\nWhat type of value (integer, floating point number, or character string) would you use to represent each of the following? Try to come up with more than one good answer for each problem. For example, in # 1, when would counting days with a floating point variable make more sense than using an integer?\n\n1. Number of days since the start of the year.\n2. Time elapsed from the start of the year until now in days.\n3. Serial number of a piece of lab equipment.\n4. A lab specimen’s age\n5. Current population of a city.\n6. Average population of a city over time."
    },
    {
      "metadata": {
        "slideshow": {
          "slide_type": "slide"
        }
      },
      "cell_type": "markdown",
      "source": "## Solution: Choose a Type\n\nPossible answers to the questions are:\n\n1. Integer, since the number of days would lie between 1 and 365.\n2. Floating point, since fractional days are required\n3. Character string if serial number contains letters and numbers, otherwise integer if the serial number consists only of numerals\n4. This will vary! How do you define a specimen’s age? whole days since collection (integer)? date and time (string)? Number of seconds since creation (integer/float)\n5. Choose floating point to represent population as large aggreates (eg millions), or integer to represent population in units of individuals.\n6. Floating point number, since an average is likely to have a fractional part."
    },
    {
      "metadata": {
        "slideshow": {
          "slide_type": "slide"
        }
      },
      "cell_type": "markdown",
      "source": "## Exercise: Values and types\n\nWhat will be the value and type resulting from the following.  Trying working them out first then try the for yourself.\n1. 3.25 + 4\n2. 4 + 3.25\n3. int(4/3)\n4. int(\"3.4\")\n5. int(float(\"3.4\"))\n6. int(3.99)\n7. float(\"Hello world!\")"
    },
    {
      "metadata": {
        "slideshow": {
          "slide_type": "slide"
        }
      },
      "cell_type": "markdown",
      "source": "## Solution: Values and types\n\n1. `7.25`, `float`\n2. `7.25`, `float`, (In Python 3 the whole calculation is treated as floating point irrespective of the order of the values)\n3. `1`, `int`, the calculation is performed as floating point (in Python 3) and then converted to an `integer`\n4. `ValueError: invalid literal for int() with base 10: '3.4'` <br>\n   Python is unable to convert from a `string` to `integer` unless the `string` is an 'integer'.\n5. `3`, `int` <br>\n   But it can convert first to a `float` and then to an `integer`.\n6. `3`, `int` <br>\n   When converting to an integer Python does not 'round the value to the nearest integer but effectively ignores the fractional/decimal part\n7. `ValueError: could not convert string to float: 'Hello World!'`"
    },
    {
      "metadata": {
        "slideshow": {
          "slide_type": "slide"
        }
      },
      "cell_type": "markdown",
      "source": "## Exercise: Calculating with variables with different types\n\nWhich of the following will print 2.0? Note: there may be more than one right answer.\n\n```python\nfirst = 1.0\nsecond = \"1\"\nthird = \"1.1\"\n```\n\n1. `first + float(second)`\n2. `float(second) + float(third)`\n3. `first + int(third)`\n4. `first + int(float(third))`\n5. `int(first) + int(float(third))`\n6. `2.0 * second`"
    },
    {
      "metadata": {
        "slideshow": {
          "slide_type": "slide"
        }
      },
      "cell_type": "markdown",
      "source": "## Solution: Calculating with variables with different types\n\n1 and 4 give the result 2.0.  The complete results should be:\n\n1. `2.0`\n2. `2.1`\n3. `ValueError: invalid literal for int() with base 10: '1.1'`\n4. `2.0`\n5. `2`\n6. `TypeError: can't multiply sequence by non-int of type 'float'`"
    },
    {
      "metadata": {
        "slideshow": {
          "slide_type": "slide"
        }
      },
      "cell_type": "markdown",
      "source": "## Pen: Division Types\n\nIn Python 3, we have seen how the `/` operator performs floating-point division, even if the values that it operates on are `integers`, these are first converted to `floats`. If we want to explicitly tell Python 3 to perform an integer calculation, the `//` operator performs integer (whole-number) floor division, and the `%` (or modulo) operator calculates and returns the remainder from integer division.  Try the following:\n\n```python\nprint('5 // 3:', 5//3)\nprint('5 / 3:', 5/3)\nprint('5 % 3:', 5%3)\n```\n\nOnce again try to work out what the result, and its type are likely to be before running the code."
    },
    {
      "metadata": {
        "slideshow": {
          "slide_type": "slide"
        }
      },
      "cell_type": "markdown",
      "source": "## Key Points\n- Every value has a type.\n- In Python you can use the built-in function `type` to find the type of a value.\n- The `type` controls what operations can be done on values.\n- Strings can be added and multiplied.\n- Must convert numbers to strings or vice versa when operating on them.\n- In Python you can mix integers and floats freely in operations.\n- Variables only change value when something is assigned to them."
    }
  ],
  "metadata": {
    "celltoolbar": "Slideshow",
    "kernelspec": {
      "name": "python3",
      "display_name": "Python 3",
      "language": "python"
    },
    "language_info": {
      "mimetype": "text/x-python",
      "nbconvert_exporter": "python",
      "name": "python",
      "pygments_lexer": "ipython3",
      "version": "3.5.4",
      "file_extension": ".py",
      "codemirror_mode": {
        "version": 3,
        "name": "ipython"
      }
    }
  },
  "nbformat": 4,
  "nbformat_minor": 2
}