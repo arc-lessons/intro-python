{
  "cells": [
    {
      "metadata": {},
      "cell_type": "markdown",
      "source": "# Jupyter Notebooks"
    },
    {
      "metadata": {},
      "cell_type": "markdown",
      "source": "## Overview\n- **Teaching:** 10 min\n- **Exercises:** 10 min\n\n**Questions**\n* What is a Jupyter notebook?\n* Why should I use one?\n\n**Objectives**\n* Create a Jupyter notebook\n* Enter code into the notebook\n* Augment the code with a description in markdown"
    },
    {
      "metadata": {},
      "cell_type": "markdown",
      "source": "You should have a Python 3 notebook open, if not take a look at the setup page (the previous page in the schedule)."
    },
    {
      "metadata": {},
      "cell_type": "markdown",
      "source": "## Info: Trying things out\nIn this lesson you can have a Python 3 jupyter notebook open to try out any of the commands you see here and reproduce the results."
    },
    {
      "metadata": {},
      "cell_type": "markdown",
      "source": "## Python in notebooks\n\nJupyter provides a nice web-based interface to Python. In the below cells you can type a line of Python. For example, here we type in\n\n```python\na = 5\n```\n\nWhen we press `SHIFT+Return` this Python line is interpreted interactively"
    },
    {
      "metadata": {
        "trusted": false
      },
      "cell_type": "code",
      "source": "a = 5",
      "execution_count": 1,
      "outputs": []
    },
    {
      "metadata": {},
      "cell_type": "markdown",
      "source": "To see that this has worked, let's print the value of `a`"
    },
    {
      "metadata": {
        "trusted": false
      },
      "cell_type": "code",
      "source": "print(a)",
      "execution_count": 2,
      "outputs": [
        {
          "name": "stdout",
          "output_type": "stream",
          "text": "5\n"
        }
      ]
    },
    {
      "metadata": {},
      "cell_type": "markdown",
      "source": "You can type whatever Python you want, and it will be evaluated interactively. For example..."
    },
    {
      "metadata": {
        "trusted": false
      },
      "cell_type": "code",
      "source": "b = 10",
      "execution_count": 3,
      "outputs": []
    },
    {
      "metadata": {
        "trusted": false
      },
      "cell_type": "code",
      "source": "print(a + b)",
      "execution_count": 4,
      "outputs": [
        {
          "name": "stdout",
          "output_type": "stream",
          "text": "15\n"
        }
      ]
    },
    {
      "metadata": {},
      "cell_type": "markdown",
      "source": "One of the cool things about a Jupyter Python notebook is that you can edit the above cells and re-execute them. For example, change the value of `b` above and re-execute the lines [3] and [4] (by selecting the cell and pressing `SHIFT+Return`."
    },
    {
      "metadata": {},
      "cell_type": "markdown",
      "source": "## Info: Out of order execution\nThe ability to go back and change only small snippets of code is very useful, but also very dangerous form a coding point of view. If you edit a code cell and don't run _all_ the code cells after it, then any cell that isn't re-executed is still using the old code. Jupyter allows you to keep track of this by numbering its input, `In [3]` for instance means this block was executed third.\n\nIf you get in a complete mess you can also clear all output, without removing the input and re-execute the code blocks in order.\n\nFor your learning we would recommend during this course that you never go back and change anything.  Just re-write the code in the next cell.  This way you will have a record of everything you have done, examples of common mistakes which you can refer back to in order to reinforce your learning."
    },
    {
      "metadata": {},
      "cell_type": "markdown",
      "source": "## Exercise: Hello Notebook!\n\nUse the cells in your notebook to type into the three Python lines\n\n```python\na = \"Hello\"\nb = \"Notebook!\"\nprint(a,b)\n```\n\nExecute the cells. This should print out `Hello Notebook!`.\n\nNow go back and change the values of `a` and `b` to `Goodbye` and `Everyone`. Re-execute your cells. This should now print out `Goodbye Everyone`."
    },
    {
      "metadata": {},
      "cell_type": "markdown",
      "source": "## Solution: Hello Notebook!\nType the lines of the exercise into the empty cells. Ensure that any cells you use are code cells and not markdown cells."
    },
    {
      "metadata": {},
      "cell_type": "markdown",
      "source": "## Markdown in notebooks\n\nAnother useful feature is that you can mix documentation into your notebook. Do this by selecting a **cell** from the menu bar and using the dropdown menu (on the toolbar at the top) to change the cell type to markdown. You can now add documentation, using [markdown](https://github.com/adam-p/markdown-here/wiki/Markdown-Cheatsheet) formatting. For example, use the hash symbol for headers.\n\nTyping\n\n```brainfuck\n# This is a big header\n\n## This is a subheading\n\n### This is a sub-sub-heading\n```\nand pressing `Shift + Return` results in:\n\n# This is a big header\n\n## This is a subheading\n\n### This is a sub-sub-heading"
    },
    {
      "metadata": {},
      "cell_type": "markdown",
      "source": "You can add in hyperlinks using square brackets and round brackets. For example\n\n```brainfuck\n[link to github](https://github.com)\n```\nproduces:\n\n[link to github](https://github.com)"
    },
    {
      "metadata": {},
      "cell_type": "markdown",
      "source": "## Exercise: Mastering markdown\n\nNow change the type of the cell in your notebook to markdown. Type in some markdown in the cell and experiment with adding in headings and hyperlinks. Take a look through the [markdown cheat sheet](https://github.com/adam-p/markdown-here/wiki/Markdown-Cheatsheet) and see if you can add bullet point lists, images, or code blocks to your cell."
    },
    {
      "metadata": {},
      "cell_type": "markdown",
      "source": "## Solution: Mastering markdown\nYou can achieve everything in the exercise with the following code:\n\n```brainfuck\n### Level 3 Heading\n[hyperlink](https://www.google.co.uk)\n\n* bullet\n* point\n* list\n\n![](./path/to/image.png)\n\ncode `keyword`\n```\n\n```python\n# block of code with python syntax highlighting\nfor k in range(10):\n    print(k, 'Hello World!')\n```\n\nThe final code block is displayed using three backticks ```` ``` ```` , but we use markdown to produce this material, so we can't show all the possible syntax here!"
    },
    {
      "metadata": {},
      "cell_type": "markdown",
      "source": "## Key Points\n* Jupyter notebooks allow you to write any Python code into a web interface.\n* Cell contents can be easily modified.\n* You need to be wary of out of order execution.\n* Markdown is useful for explaining what the code does and presenting your work."
    }
  ],
  "metadata": {
    "kernelspec": {
      "name": "python3",
      "display_name": "Python 3",
      "language": "python"
    },
    "language_info": {
      "mimetype": "text/x-python",
      "nbconvert_exporter": "python",
      "name": "python",
      "file_extension": ".py",
      "version": "3.5.4",
      "pygments_lexer": "ipython3",
      "codemirror_mode": {
        "version": 3,
        "name": "ipython"
      }
    }
  },
  "nbformat": 4,
  "nbformat_minor": 2
}