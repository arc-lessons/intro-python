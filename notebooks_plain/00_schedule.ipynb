{
  "cells": [
    {
      "metadata": {
        "slideshow": {
          "slide_type": "slide"
        }
      },
      "cell_type": "markdown",
      "source": "# Introduction to Python\n\nThe best way to learn how to program is to do something useful, so this introduction to Python is built around a common scientific task: data analysis.\n\nOur real goal isn’t to just to teach Python, but to teach you the basic concepts that all programming depends on. We use Python in our lessons because:\n\n- we have to use something for examples\n- it’s free, well-documented, and runs almost everywhere\n- it has a large (and growing) user base among scientists\n- experience shows that it’s easier for novices to pick up than most other languages.\n\nBut the two most important things are to use whatever language your colleagues are using, so that you can share your work with them easily, and to use that language well.\n"
    },
    {
      "metadata": {
        "slideshow": {
          "slide_type": "slide"
        }
      },
      "cell_type": "markdown",
      "source": "## Prerequisites\n\nIn order to complete the tutorial you should be familar with:\n- The linux command line"
    },
    {
      "metadata": {
        "slideshow": {
          "slide_type": "slide"
        }
      },
      "cell_type": "markdown",
      "source": "## Schedule\nApproximate timings for the lesson:\n\n| Time | Episode | Description |\n|---|---|---|\n| 0:00 | [Setup](./00_setup.ipynb) | Get set(up) |\n| 0:10 | [Getting Started with Python](./01_episode.ipynb) | Some first programs |\n| 0:30 | [Variables and Assignment](./02_episode.ipynb) | How do we store and access data? |\n| 0:50 | [Jupyter Notebooks](./02_jupyter.ipynb) | What's in a Jupyter notebook? |\n| 1:05 | [Datatypes and Conversion](./03_episode.ipynb) | How does python store data? |\n| 1:35 | [Lists](./04_episode.ipynb) | How can we store lists of data? |\n| 1:55 | [Looping](./05_episode.ipynb) | How do we efficiently access data stored in lists? |\n| 2:25 | [Making Choices](./06_episode.ipynb) | If then what or else |\n| 3:00 | [Creating Functions](./07_episode.ipynb) | Functions contain modular blocks of code for reuse |\n| 3:45 | [Libraries](./08_episode.ipynb) | Avoid reinventing the wheel |\n| 4:30 | [Reading Data](./09_episode.ipynb) | How do we read data into python? |\n| 5:10 | [Command-Line Programs](./10_episode.ipynb) | Combine all we've learnt to write a useful program |"
    }
  ],
  "metadata": {
    "celltoolbar": "Slideshow",
    "kernelspec": {
      "name": "python3",
      "display_name": "Python 3",
      "language": "python"
    },
    "language_info": {
      "mimetype": "text/x-python",
      "nbconvert_exporter": "python",
      "name": "python",
      "pygments_lexer": "ipython3",
      "version": "3.5.4",
      "file_extension": ".py",
      "codemirror_mode": {
        "version": 3,
        "name": "ipython"
      }
    }
  },
  "nbformat": 4,
  "nbformat_minor": 2
}