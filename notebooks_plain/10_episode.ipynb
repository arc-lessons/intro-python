{
  "cells": [
    {
      "metadata": {
        "slideshow": {
          "slide_type": "slide"
        }
      },
      "cell_type": "markdown",
      "source": "# Command-Line Programs"
    },
    {
      "metadata": {
        "slideshow": {
          "slide_type": "slide"
        }
      },
      "cell_type": "markdown",
      "source": "## Overview\n- **Teaching:** 15 min\n- **Exercises:** 5 min\n\n**Questions**\n- How can I write Python programs that will work like Unix command-line tools?\n\n**Objectives**\n- Use the values of command-line arguments in a program.\n- Handle flags and files separately in a command-line program.\n- Read data from standard input in a program so that it can be used in a pipeline."
    },
    {
      "metadata": {
        "slideshow": {
          "slide_type": "slide"
        }
      },
      "cell_type": "markdown",
      "source": "Interactive tools such as Jupyter notebooks and Ipython are great for prototyping code and exploring data, but sooner or later if we want to re-use our codes, or demonstrate reproducbile workflows, we will want to use our program in a pipeline or run it in a shell script to process thousands of data files. In order to do that, we need to make our programs work like other Unix command-line tools. For example, we may want a program that reads a dataset and prints the average inflammation per patient.\n\nYou have several ways to choose from to run this episode.  If you are comfortable using linux editors and the terminal you are welcome to do so.  Otherwise you can create a file directly in notebooks from the menu page where you create a new notebook, instead of selecting Python3.6 select **Text File**.  Once the new file has opened click on Untitled.txt and change it's name as you are instructed.  notebooks allows you to edit the file in a number of different modes replicating more advanced editors which you should explore if you want to use notebooks for regular development."
    },
    {
      "metadata": {
        "slideshow": {
          "slide_type": "subslide"
        }
      },
      "cell_type": "markdown",
      "source": "## Pin: Switching to Shell Commands\nIn this lesson we are switching from typing commands that comprise our program in a Python interpreter to typing commands in a program file or script.  We will the run the program from within a Jupyter notebook. When you see a `%run` in code cell this is loading and running a script through the Python interpreter."
    },
    {
      "metadata": {
        "slideshow": {
          "slide_type": "subslide"
        }
      },
      "cell_type": "markdown",
      "source": "As you might now expect our first task will be to produce a program that sends a greeting to the world.\n\nLet's start by creating a new **Text File** rename it `hello_world.py` and enter:\n\n```python\nprint(\"Hello world!\")\n```\n\nCreate a new notebook in the same folder as your program and run it with\n```python\n%run hello_world.py\n```\n\nVerify that this gives the output you would expect."
    },
    {
      "metadata": {
        "slideshow": {
          "slide_type": "subslide"
        }
      },
      "cell_type": "markdown",
      "source": "## Passing arguments from the command line\n\nOften we will want to pass information into the program from the command line.  Fortunately Python has a standard library that allows us to do this.  Copy your `hello_world.py` program to a new file `hello.py` and edit the file as follows:\n\n```python\nimport sys\n\nprint(\"Hello\",sys.argv)\n```\n\nIf we run our new program with the argument, `James` we should see the following output:\n```bash\n%run hello.py James\nHello ['./hello.py', 'James']\n```"
    },
    {
      "metadata": {
        "slideshow": {
          "slide_type": "slide"
        }
      },
      "cell_type": "markdown",
      "source": "`sys.argv` means system **arg**ument **v**alues.  The first argument is the name of the program and the full set of values are presented as a list, we don't want to say hello to the name of the program, and generally we will want to ignore this argument so let's modify our program to just consider the rest of the list:\n\n```python\nimport sys\n\nnames = sys.argv[1:]\n\nfor name in names:\n    print(\"Hello\",name)\n```\n\nMake sure that you understand what we have done here, and why, discuss with your neighbours to make sure eveyone is following."
    },
    {
      "metadata": {
        "slideshow": {
          "slide_type": "slide"
        }
      },
      "cell_type": "markdown",
      "source": "We can now re-run our new program with the same command as before:\n\n```bash\n%run hello.py James\nHello James\n```\n\nBecause we have generalised the program to operate on all arguments passed to it we can also run\n\n```bash\n%run hello.py Alan Bob Carl Dave\nHello Alan\nHello Bob\nHello Carl\nHello Dave\n```\n\nso we already have a way to generalise the script to perform the same task on a number of arguments."
    },
    {
      "metadata": {
        "slideshow": {
          "slide_type": "slide"
        }
      },
      "cell_type": "markdown",
      "source": "## Pin: What would the following do?\n\nThis exercise requires a working knowledge of bash/linux.\n\n```python\n%run hello.py ../*\n```\n\nRemember that in bash `*` represents the wildcard match any characters of any length."
    },
    {
      "metadata": {
        "slideshow": {
          "slide_type": "slide"
        }
      },
      "cell_type": "markdown",
      "source": "We will next make some small changes to our program to encapsulate the main part of the our program in its own function, and then tell Python that this is what it should run we the program is executed:\n\n```python\nimport sys\n\ndef main():\n    '''\n    We can also add a docstring to remind our future selves that this program:\n    \n    Takes a list of arguments and say hello to each of them.\n    '''\n    \n    names = sys.argv[1:]\n\n    for name in names:\n        print(\"Hello\",name)\n\nif __name__ == '__main__':\n   main()\n```\n\nRun your program with the same arguments as before to check that you have not change its behaviour.  Note that we can also add a 'docstring' to our `main` function to explain what it does."
    },
    {
      "metadata": {
        "slideshow": {
          "slide_type": "subslide"
        }
      },
      "cell_type": "markdown",
      "source": "## Information: Running versus Importing\n\nIf the program behaves in the same way, why have we changed it? The reason is that running a Python script in bash is very similar to importing that file in Python. The biggest difference is that we don’t expect anything to happen when we import a file, whereas when running a script, we expect to see some output printed to the console.\n\nIn order for a Python script to work as expected when imported or when run as a script, we typically put the part of the script that produces output in the following if statement:\n\n```python\nif __name__ == '__main__':\n    main()  # Or whatever function produces output\n```\n\nWhen you `import` a Python file, `__name__` is a special variable which holds the name of that file (e.g., when importing `readings.py`, `__name__` is `'readings'`). However, when running a script in bash, `__name__` is always set to `'__main__'` in that script so that you can determine if the file is being imported or run as a script.\n\nBy adopting the practice of encapsulating the script part of our code in a `main` function we are making sure that we can safely `import` our code in other programs to safely reuse the fantastic functions we write."
    },
    {
      "metadata": {
        "slideshow": {
          "slide_type": "subslide"
        }
      },
      "cell_type": "markdown",
      "source": "## Pen: The Right Way to Do It\nIf our programs can take complex parameters or multiple filenames, we shouldn’t handle `sys.argv` directly. Instead, we should use Python’s `argparse` library, which handles common cases in a systematic way, and also makes it easy for us to provide sensible error messages for our users. We will not cover this module in this lesson but you can go to Tshepang Lekhonkhobe’s [Argparse tutorial](http://docs.python.org/dev/howto/argparse.html) that is part of Python’s Official Documentation."
    },
    {
      "metadata": {
        "slideshow": {
          "slide_type": "slide"
        }
      },
      "cell_type": "markdown",
      "source": "The [Software Carpentry material](http://swcarpentry.github.io/python-novice-inflammation/10-cmdline/index.html) that this is episode is based on makes use of the 'code' files you downloaded at the beginning of the episode.  If you wish to explore these files further you are encouraged to do so as these also explore some of the functionality of the `numpy` library.  Note that they take a slightly different to run their programs from the way we have looked at.\n\n\nWe will instead explore an example that builds on what we did in the preceding episode more directly.\n\nFirst of all you will need to unzip files in the **data** folder, if you are comfortable using the terminal feek free to launch a terminal and extract the files.  Alternatively you can create a new notebook in data folder and un the following in a code cell\n\n```python\n!unzip python-novice-inflammation-data.zip\n```\n\nAs we was with **%** executing *magic* the **!** runs standard bash commands rather than Python.\n\nNow open the data folder that this command should create, ask a demonstrator if nothing happens.  You will need to move the programs you create and a notebook to run them in this folder."
    },
    {
      "metadata": {
        "slideshow": {
          "slide_type": "slide"
        }
      },
      "cell_type": "markdown",
      "source": "Let's say we want to find the mean inflamation of each of the patients in the inflammation data we read in during the previous lesson.\n\nFirst copy our template `hello.py` to `inflammation_mean.py`. Open `inflammation_mean.py` and edit it as follows:\n```python\nimport sys\n\ndef main():\n    '''\n    We can also add a docstring to remind our future selves that this program:\n    \n    Takes a list of files, and find and print the mean of each line of data:\n    '''\n    \n    filenames = sys.argv[1:]\n\n    for filename in filenames:\n        data = read_csv_to_floats(filename)\n        count=0\n        for line in data:\n            count += 1\n            print(\"File: \", filename, \"patient: \", count, \"average inflammation\", mean(line))\n\nif __name__ == '__main__':\n   main()\n```"
    },
    {
      "metadata": {
        "slideshow": {
          "slide_type": "slide"
        }
      },
      "cell_type": "markdown",
      "source": "We will now add the solution to the second exercise at the end of the last episode to our new program between `import sys` and `def main():`\n\n```python\ndef read_csv_to_floats(filename):\n    '''\n    Take string parameters as csv filename\n    Read in and process file, converting all elements to floats.\n\n    Return as 2D list (list of lists)\n    '''\n\n    with open(filename) as file:\n        data_string = file.readlines()\n    data_floats = []\n    for line in data_string:\n        tmp_floats = []\n        tmp_list = line.split(',')\n        for item in tmp_list:\n            tmp_floats.append( float(item) )\n        data_floats.append(tmp_floats)\n    return data_floats\n```"
    },
    {
      "metadata": {
        "slideshow": {
          "slide_type": "slide"
        }
      },
      "cell_type": "markdown",
      "source": "Now we need to add the `mean(sample)` function that we considered in episode 7, add this between `read_csv_to_floats()` and `main`:\n```python\ndef mean(sample):\n    '''\n    Takes a list of numbers, sample\n    \n    and returns the mean.\n    '''\n    sample_sum = 0\n    for value in sample:\n        sample_sum += value\n\n    sample_mean = sample_sum / len(sample)\n    return sample_mean\n```"
    },
    {
      "metadata": {
        "slideshow": {
          "slide_type": "subslide"
        }
      },
      "cell_type": "markdown",
      "source": "Now run your program with:\n\n```bash\n%run inflammation_mean.py inflammation-01.csv\n```\n\nYour output should look something like:\n\n```brainfuck\nFile:  ../inflammation-01.csv patient:  1 average inflammation 5.45\nFile:  ../inflammation-01.csv patient:  2 average inflammation 5.425\nFile:  ../inflammation-01.csv patient:  3 average inflammation 6.1\nFile:  ../inflammation-01.csv patient:  4 average inflammation 5.9\nFile:  ../inflammation-01.csv patient:  5 average inflammation 5.55\nFile:  ../inflammation-01.csv patient:  6 average inflammation 6.225\nFile:  ../inflammation-01.csv patient:  7 average inflammation 5.975\nFile:  ../inflammation-01.csv patient:  8 average inflammation 6.65\nFile:  ../inflammation-01.csv patient:  9 average inflammation 6.625\nFile:  ../inflammation-01.csv patient:  10 average inflammation 6.525\nFile:  ../inflammation-01.csv patient:  11 average inflammation 6.775\nFile:  ../inflammation-01.csv patient:  12 average inflammation 5.8\nFile:  ../inflammation-01.csv patient:  13 average inflammation 6.225\nFile:  ../inflammation-01.csv patient:  14 average inflammation 5.75\nFile:  ../inflammation-01.csv patient:  15 average inflammation 5.225\nFile:  ../inflammation-01.csv patient:  16 average inflammation 6.3\nFile:  ../inflammation-01.csv patient:  17 average inflammation 6.55\nFile:  ../inflammation-01.csv patient:  18 average inflammation 5.7\nFile:  ../inflammation-01.csv patient:  19 average inflammation 5.85\nFile:  ../inflammation-01.csv patient:  20 average inflammation 6.55\nFile:  ../inflammation-01.csv patient:  21 average inflammation 5.775\nFile:  ../inflammation-01.csv patient:  22 average inflammation 5.825\nFile:  ../inflammation-01.csv patient:  23 average inflammation 6.175\nFile:  ../inflammation-01.csv patient:  24 average inflammation 6.1\nFile:  ../inflammation-01.csv patient:  25 average inflammation 5.8\nFile:  ../inflammation-01.csv patient:  26 average inflammation 6.425\nFile:  ../inflammation-01.csv patient:  27 average inflammation 6.05\nFile:  ../inflammation-01.csv patient:  28 average inflammation 6.025\nFile:  ../inflammation-01.csv patient:  29 average inflammation 6.175\nFile:  ../inflammation-01.csv patient:  30 average inflammation 6.55\nFile:  ../inflammation-01.csv patient:  31 average inflammation 6.175\nFile:  ../inflammation-01.csv patient:  32 average inflammation 6.35\nFile:  ../inflammation-01.csv patient:  33 average inflammation 6.725\nFile:  ../inflammation-01.csv patient:  34 average inflammation 6.125\nFile:  ../inflammation-01.csv patient:  35 average inflammation 7.075\nFile:  ../inflammation-01.csv patient:  36 average inflammation 5.725\nFile:  ../inflammation-01.csv patient:  37 average inflammation 5.925\nFile:  ../inflammation-01.csv patient:  38 average inflammation 6.15\nFile:  ../inflammation-01.csv patient:  39 average inflammation 6.075\nFile:  ../inflammation-01.csv patient:  40 average inflammation 5.75\nFile:  ../inflammation-01.csv patient:  41 average inflammation 5.975\nFile:  ../inflammation-01.csv patient:  42 average inflammation 5.725\nFile:  ../inflammation-01.csv patient:  43 average inflammation 6.3\nFile:  ../inflammation-01.csv patient:  44 average inflammation 5.9\nFile:  ../inflammation-01.csv patient:  45 average inflammation 6.75\nFile:  ../inflammation-01.csv patient:  46 average inflammation 5.925\nFile:  ../inflammation-01.csv patient:  47 average inflammation 7.225\nFile:  ../inflammation-01.csv patient:  48 average inflammation 6.15\nFile:  ../inflammation-01.csv patient:  49 average inflammation 5.95\nFile:  ../inflammation-01.csv patient:  50 average inflammation 6.275\nFile:  ../inflammation-01.csv patient:  51 average inflammation 5.7\nFile:  ../inflammation-01.csv patient:  52 average inflammation 6.1\nFile:  ../inflammation-01.csv patient:  53 average inflammation 6.825\nFile:  ../inflammation-01.csv patient:  54 average inflammation 5.975\nFile:  ../inflammation-01.csv patient:  55 average inflammation 6.725\nFile:  ../inflammation-01.csv patient:  56 average inflammation 5.7\nFile:  ../inflammation-01.csv patient:  57 average inflammation 6.25\nFile:  ../inflammation-01.csv patient:  58 average inflammation 6.4\nFile:  ../inflammation-01.csv patient:  59 average inflammation 7.05\nFile:  ../inflammation-01.csv patient:  60 average inflammation 5.9\n```"
    },
    {
      "metadata": {
        "slideshow": {
          "slide_type": "slide"
        }
      },
      "cell_type": "markdown",
      "source": "We can also run our program with all the inflammation data:\n\n```bash\n%run inflammation_mean.py inflammation-*.csv\n```"
    },
    {
      "metadata": {
        "slideshow": {
          "slide_type": "subslide"
        }
      },
      "cell_type": "markdown",
      "source": "We may also want to output our data to a file.  In order to do this modify your `main` function as follows:\n```python\ndef main():\n    '''\n    We can also add a docstring to remind our future selves that this program:\n\n    Takes a list of files, and find and print the mean of each line of data:\n    '''\n\n    filenames = sys.argv[1:]\n\n    output_filename = \"my_data.txt\"\n\n    output_file = open(output_filename, 'w')\n\n    for filename in filenames:\n        data = read_csv_to_floats(filename)\n        count=0\n        for line in data:\n            count += 1\n            output_file.write(\"File: \"+filename+\"patient: \"+str(count)+\"average inflammation: \"+str(mean(line))+\"\\n\")\n    output_file.close()\n```\n"
    },
    {
      "metadata": {
        "slideshow": {
          "slide_type": "slide"
        }
      },
      "cell_type": "markdown",
      "source": "Note that we as with reading from files we have to `open` and `close` the file.  Also the function `file.write()` can only take a single str as its parameter, so the `write` line is a little different to our `print` statement before, we also have to add a explicit new line at the end of the line which is the reason for the `\"\\n\"`.\n\nRun your program and `cat` the file `my_data.txt` to verify that it has worked as intended."
    },
    {
      "metadata": {
        "slideshow": {
          "slide_type": "subslide"
        }
      },
      "cell_type": "markdown",
      "source": "## Exercise: Arithmetic on the Command Line\nWrite a python program that does addition and subtraction:\n```bash\n%run arith.py add 1 2\n3\n%run arith.py subtract 3 4\n-1\n```"
    },
    {
      "metadata": {
        "slideshow": {
          "slide_type": "subslide"
        }
      },
      "cell_type": "markdown",
      "source": "## Solution: Arithmetic on the Command Line\n\n```python\nimport sys\n\n\ndef do_arithmetic(operand1, operator, operand2):\n\n    if operator == 'add':\n        value = operand1 + operand2\n    elif operator == 'subtract':\n        value = operand1 - operand2\n    elif operator == 'multiply':\n        value = operand1 * operand2\n    elif operator == 'divide':\n        value = operand1 / operand2\n    print(value)\n\ndef main():\n    assert len(sys.argv) == 4, 'Need exactly 3 arguments'\n\n    operator = sys.argv[1]\n    assert operator in ['add', 'subtract', 'multiply', 'divide'], \\\n        'Operator is not one of add, subtract, multiply, or divide: bailing out'\n    try:\n        operand1, operand2 = float(sys.argv[2]), float(sys.argv[3])\n    except ValueError:\n        print('cannot convert input to a number: bailing out')\n        return\n\n    do_arithmetic(operand1, operator, operand2)\n\nif __name__ == '__main__':\n   main()\n```\n\nCheck that your solution works by trying the different componenets and a few different values."
    },
    {
      "metadata": {
        "slideshow": {
          "slide_type": "subslide"
        }
      },
      "cell_type": "markdown",
      "source": "## Exercise: Counting Lines\n\nBy modifying `inflammation_mean.py` or otherwise, write a program called `line_count.py` that counts the number of lines in files that are passed as arguments and at the end the total number of lines in all the files added together, for those familiar with bash it works like the Unix `wc` command.  Your program should:\n\n1. If no filenames are given inform the user to provide a filename(s).\n2. If one or more filenames are given, it reports the number of lines in each, followed by the total number of lines."
    },
    {
      "metadata": {},
      "cell_type": "markdown",
      "source": "## Solution: Couting Lines\n\n```python\n#!/usr/bin/env python3\nimport sys\n\ndef main():\n    '''print each input filename and the number of lines in it,\n       and print the sum of the number of lines'''\n    filenames = sys.argv[1:]\n    sum_nlines = 0 #initialize counting variable\n\n    if len(filenames) == 0: # no filenames, advise usage\n        print(\"Please provide filenames in order to count number of lines\")\n    else:\n        for f in filenames:\n            n = count_file(f)\n            print('%s %d' % (f, n))\n            sum_nlines += n\n        print('total: %d' % sum_nlines)\n\ndef count_file(filename):\n    '''count the number of lines in a file'''\n    f = open(filename,'r')\n    nlines = len(f.readlines())\n    f.close()\n    return(nlines)\n\nif __name__ == '__main__':\n   main()\n```\nIf you have used inflammatio_mean.py as the basis for this program then you will have a very different solution."
    },
    {
      "metadata": {
        "slideshow": {
          "slide_type": "slide"
        }
      },
      "cell_type": "markdown",
      "source": "## Key Points\n- The `sys` library connects a Python program to the system it is running on.\n- The list `sys.argv` contains the command-line arguments that a program was run with.\n- Avoid silent failures, try to inform your user what is going on."
    }
  ],
  "metadata": {
    "celltoolbar": "Slideshow",
    "kernelspec": {
      "name": "python3",
      "display_name": "Python 3",
      "language": "python"
    },
    "language_info": {
      "mimetype": "text/x-python",
      "nbconvert_exporter": "python",
      "name": "python",
      "pygments_lexer": "ipython3",
      "version": "3.5.4",
      "file_extension": ".py",
      "codemirror_mode": {
        "version": 3,
        "name": "ipython"
      }
    }
  },
  "nbformat": 4,
  "nbformat_minor": 2
}