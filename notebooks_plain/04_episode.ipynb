{
  "cells": [
    {
      "metadata": {
        "slideshow": {
          "slide_type": "slide"
        }
      },
      "cell_type": "markdown",
      "source": "# Lists"
    },
    {
      "metadata": {
        "slideshow": {
          "slide_type": "slide"
        }
      },
      "cell_type": "markdown",
      "source": "## Overview\n- **Teaching:** 15 min\n- **Exercises:** 10 min\n\n**Questions**\n- How can I store and access multiple values?\n\n**Objectives**\n- Explain why we need collections of values\n- Write programs that `create`, `index`, `slice` and modify them?"
    },
    {
      "metadata": {
        "slideshow": {
          "slide_type": "slide"
        }
      },
      "cell_type": "markdown",
      "source": "## What is a list?\n\nA list in Python stores many values in a single structure.  We have seen how variables can store a single value but if we have a dataset, e.g. the pressure in our experiment sampled every minute we could use variables:\n\n`pressure_000`, `pressure_001`, `pressure_002`, ..\n\nbut writing these out by hand would be slow and not much fun, especially if we have tens, thousands, or even millions of values in our dataset.  A `list` is the name of Python's solution to the problem (other languages have `arrays` or `vectors` to do the same sort of thing.  Typically lists will be used to store related values as in the example of our experimental pressures.\n\nStructure of a list:\n- Values are contained within square brackets `[`, `]`\n- Values must be separated by commas, `,`\n\nLet's create a list of pressures we described above:"
    },
    {
      "metadata": {
        "slideshow": {
          "slide_type": "slide"
        },
        "trusted": false
      },
      "cell_type": "code",
      "source": "pressures = [0.273, 0.275, 0.277, 0.275, 0.276]\nprint('pressures:', pressures)",
      "execution_count": 1,
      "outputs": [
        {
          "name": "stdout",
          "output_type": "stream",
          "text": "pressures: [0.273, 0.275, 0.277, 0.275, 0.276]\n"
        }
      ]
    },
    {
      "metadata": {
        "slideshow": {
          "slide_type": "subslide"
        }
      },
      "cell_type": "markdown",
      "source": "As with variables containing a single value until now we assign the list to a variable, and give it a meaningful name `pressures`.  When we print the variable that has been used to store the list Python displays the entire list, including all  of values that have been assigned and the square brackets which we used to create the list.\n\nWe can confirm the `type` of what is in our variable as we did in the previous episode:"
    },
    {
      "metadata": {
        "slideshow": {
          "slide_type": "subslide"
        },
        "trusted": false
      },
      "cell_type": "code",
      "source": "print(type(pressures))",
      "execution_count": 2,
      "outputs": [
        {
          "name": "stdout",
          "output_type": "stream",
          "text": "<class 'list'>\n"
        }
      ]
    },
    {
      "metadata": {
        "slideshow": {
          "slide_type": "subslide"
        }
      },
      "cell_type": "markdown",
      "source": "and confirm that it is a `'list'`.  We can also use a built-in function `len()` to find out how many values are in the list:"
    },
    {
      "metadata": {
        "slideshow": {
          "slide_type": "subslide"
        },
        "trusted": false
      },
      "cell_type": "code",
      "source": "print(len(pressures))",
      "execution_count": 3,
      "outputs": [
        {
          "name": "stdout",
          "output_type": "stream",
          "text": "5\n"
        }
      ]
    },
    {
      "metadata": {
        "slideshow": {
          "slide_type": "slide"
        }
      },
      "cell_type": "markdown",
      "source": "## Using indexes to fetch values from a list"
    },
    {
      "metadata": {
        "slideshow": {
          "slide_type": "subslide"
        }
      },
      "cell_type": "markdown",
      "source": "What makes lists useful however is being able to retrieve individual values.  We do this by indexing paricular values in the list, as follows:"
    },
    {
      "metadata": {
        "slideshow": {
          "slide_type": "subslide"
        },
        "trusted": false
      },
      "cell_type": "code",
      "source": "print('zeroth item of pressures:', pressures[0])\nprint('fourth item of pressures:', pressures[4])",
      "execution_count": 4,
      "outputs": [
        {
          "name": "stdout",
          "output_type": "stream",
          "text": "zeroth item of pressures: 0.273\nfourth item of pressures: 0.276\n"
        }
      ]
    },
    {
      "metadata": {
        "slideshow": {
          "slide_type": "slide"
        }
      },
      "cell_type": "markdown",
      "source": "Notice that in Python the 'first item' in the list has the index `0`, while there are reasons for this which we will not go into today, we just need to remember this.  If we forget and try to reference the value in index `5` of our list of pressures we will get a message like this:"
    },
    {
      "metadata": {
        "slideshow": {
          "slide_type": "subslide"
        },
        "trusted": false
      },
      "cell_type": "code",
      "source": "print('fifth item of pressures:', pressures[5])",
      "execution_count": 5,
      "outputs": [
        {
          "ename": "IndexError",
          "evalue": "list index out of range",
          "output_type": "error",
          "traceback": [
            "\u001b[0;31m---------------------------------------------------------------------------\u001b[0m",
            "\u001b[0;31mIndexError\u001b[0m                                Traceback (most recent call last)",
            "\u001b[0;32m<ipython-input-5-b20f9a50fe9a>\u001b[0m in \u001b[0;36m<module>\u001b[0;34m\u001b[0m\n\u001b[0;32m----> 1\u001b[0;31m \u001b[0mprint\u001b[0m\u001b[0;34m(\u001b[0m\u001b[0;34m'fifth item of pressures:'\u001b[0m\u001b[0;34m,\u001b[0m \u001b[0mpressures\u001b[0m\u001b[0;34m[\u001b[0m\u001b[0;36m5\u001b[0m\u001b[0;34m]\u001b[0m\u001b[0;34m)\u001b[0m\u001b[0;34m\u001b[0m\u001b[0m\n\u001b[0m",
            "\u001b[0;31mIndexError\u001b[0m: list index out of range"
          ]
        }
      ]
    },
    {
      "metadata": {
        "slideshow": {
          "slide_type": "subslide"
        }
      },
      "cell_type": "markdown",
      "source": "We find that code causes an error, and if we examine it, starting from the bottom of the message we find that Pyhton has provided the following message `IndexError: list index out of range`.  This is quite informative and if we look at the line above we find that it has given an indication of the line where the error happened, helping us to identify what the problem is likely to be."
    },
    {
      "metadata": {
        "slideshow": {
          "slide_type": "slide"
        }
      },
      "cell_type": "markdown",
      "source": "## Modifying items in a list\n\nValues stored in a list can be changed by assigning a new value to that index:"
    },
    {
      "metadata": {
        "slideshow": {
          "slide_type": "subslide"
        },
        "trusted": false
      },
      "cell_type": "code",
      "source": "pressures[0] = 0.265\nprint('pressures is now:', pressures)",
      "execution_count": 6,
      "outputs": [
        {
          "name": "stdout",
          "output_type": "stream",
          "text": "pressures is now: [0.265, 0.275, 0.277, 0.275, 0.276]\n"
        }
      ]
    },
    {
      "metadata": {
        "slideshow": {
          "slide_type": "subslide"
        }
      },
      "cell_type": "markdown",
      "source": "We can see that the first, or rather `zeroth` item in the list has been changed, but all other values are unaffected."
    },
    {
      "metadata": {
        "slideshow": {
          "slide_type": "slide"
        }
      },
      "cell_type": "markdown",
      "source": "## Appending items to a list\n\nOften rather than changing one value stored in a list we may want to add new items.  For instance let's start by creating a new list containing the names the patients on a medical trial:"
    },
    {
      "metadata": {
        "slideshow": {
          "slide_type": "subslide"
        },
        "trusted": false
      },
      "cell_type": "code",
      "source": "patients = [\"Alan\", \"Ben\", \"Charlie\", \"Derick\"]\nprint(\"patients:\", patients)",
      "execution_count": 7,
      "outputs": [
        {
          "name": "stdout",
          "output_type": "stream",
          "text": "patients: ['Alan', 'Ben', 'Charlie', 'Derick']\n"
        }
      ]
    },
    {
      "metadata": {
        "slideshow": {
          "slide_type": "slide"
        }
      },
      "cell_type": "markdown",
      "source": "To add, or `append` items to the list we use the following syntax:\n\n`list_name.append(new_value)`.\n\nIn the case of our example of the list of patients we would write: \n\n`patients.append(\"Edward\")`.\n\nLet's experiment with this with the following:"
    },
    {
      "metadata": {
        "slideshow": {
          "slide_type": "subslide"
        },
        "trusted": false
      },
      "cell_type": "code",
      "source": "print(\"Initial patients:\", patients)\nprint(\"Initial number of patients:\", len(patients))\npatients.append(\"Edward\")\npatients.append(\"Frank\")\nprint(\"Current patients:\", patients)\nprint(\"Current number of patients:\", len(patients))",
      "execution_count": 8,
      "outputs": [
        {
          "name": "stdout",
          "output_type": "stream",
          "text": "Initial patients: ['Alan', 'Ben', 'Charlie', 'Derick']\nInitial number of patients: 4\nCurrent patients: ['Alan', 'Ben', 'Charlie', 'Derick', 'Edward', 'Frank']\nCurrent number of patients: 6\n"
        }
      ]
    },
    {
      "metadata": {
        "slideshow": {
          "slide_type": "slide"
        }
      },
      "cell_type": "markdown",
      "source": "## Combining lists\n\nAs well as adding patients to the list we might want to combine to lists.  For instance my colleague might have a second list of patients that they have been treating that I want to add to my list.  Python allows us to combine one list with another using the `extend` function:\n\n`list_1.extend(list_2)`\n\nwhich adds the whole of list 2 to the end of list 1.\n\nIn our example we first need to create the new list then add it to our existing list of patients:"
    },
    {
      "metadata": {
        "slideshow": {
          "slide_type": "subslide"
        },
        "trusted": false
      },
      "cell_type": "code",
      "source": "patients_2 = [\"Greg\", \"Henry\", \"Ian\", \"Jeff\"]\nprint(\"First list of patients:\", patients)\nprint(\"Second list of patients:\", patients_2)\npatients.extend(patients_2)\nprint(\"Combined list of patients:\", patients)",
      "execution_count": 9,
      "outputs": [
        {
          "name": "stdout",
          "output_type": "stream",
          "text": "First list of patients: ['Alan', 'Ben', 'Charlie', 'Derick', 'Edward', 'Frank']\nSecond list of patients: ['Greg', 'Henry', 'Ian', 'Jeff']\nCombined list of patients: ['Alan', 'Ben', 'Charlie', 'Derick', 'Edward', 'Frank', 'Greg', 'Henry', 'Ian', 'Jeff']\n"
        }
      ]
    },
    {
      "metadata": {
        "slideshow": {
          "slide_type": "slide"
        }
      },
      "cell_type": "markdown",
      "source": "## Types of values in lists, indexing and deleting\n\nSo far we have only had the same type of values in the lists we have created, and typically when working with datasets this will be the case.  However in Python lists do not have to contain a single type of values, including having a list as an item in another list.\n\nWe have a third colleague with their own set of patients in the trial which we will now create.  But by mistake instead of using `extend` to combine the lists we will see what happens if we `append` the new list:"
    },
    {
      "metadata": {
        "slideshow": {
          "slide_type": "subslide"
        },
        "trusted": false
      },
      "cell_type": "code",
      "source": "patients_3=[\"Keiran\", \"Luke\", \"Mike\", \"Nigel\"]\npatients.append(patients_3)\nprint(\"Combined list of patients:\", patients)",
      "execution_count": 10,
      "outputs": [
        {
          "name": "stdout",
          "output_type": "stream",
          "text": "Combined list of patients: ['Alan', 'Ben', 'Charlie', 'Derick', 'Edward', 'Frank', 'Greg', 'Henry', 'Ian', 'Jeff', ['Keiran', 'Luke', 'Mike', 'Nigel']]\n"
        }
      ]
    },
    {
      "metadata": {
        "slideshow": {
          "slide_type": "slide"
        }
      },
      "cell_type": "markdown",
      "source": "If you examine this carefully you will see that instead of adding the new patients separately to the end of the list.  In order to see this more clearly let's examine the last item in the list `patients`.  We could see how long the list is now with `len(patients)` however Python provides a convenient way of indexing from the end of the list beginning with `list_name[-1]`.  Let's print this last element and the one before to see what has been stored in `patients`:"
    },
    {
      "metadata": {
        "slideshow": {
          "slide_type": "subslide"
        },
        "trusted": false
      },
      "cell_type": "code",
      "source": "print(\"The last item in patients:\", patients[-1])\nprint(\"The penultimate item in patients:\", patients[-2])",
      "execution_count": 11,
      "outputs": [
        {
          "name": "stdout",
          "output_type": "stream",
          "text": "The last item in patients: ['Keiran', 'Luke', 'Mike', 'Nigel']\nThe penultimate item in patients: Jeff\n"
        }
      ]
    },
    {
      "metadata": {
        "slideshow": {
          "slide_type": "slide"
        }
      },
      "cell_type": "markdown",
      "source": "We can see  now that rather than combining the lists as we'd intended we have appended `patients_3` as a single item in `patients`.  In order to correct this we need to delete the final item in the list, and combine the new list correctly:"
    },
    {
      "metadata": {
        "slideshow": {
          "slide_type": "subslide"
        },
        "trusted": false
      },
      "cell_type": "code",
      "source": "print(\"The last item in patients:\", patients[-1])\ndel patients[-1]\nprint(\"The last item in patients:\", patients[-1])\npatients.extend(patients_3)\nprint(\"The last item in patients:\", patients[-1])",
      "execution_count": 12,
      "outputs": [
        {
          "name": "stdout",
          "output_type": "stream",
          "text": "The last item in patients: ['Keiran', 'Luke', 'Mike', 'Nigel']\nThe last item in patients: Jeff\nThe last item in patients: Nigel\n"
        }
      ]
    },
    {
      "metadata": {
        "slideshow": {
          "slide_type": "slide"
        }
      },
      "cell_type": "markdown",
      "source": "## Slicing lists\n\nHaving finally combined our lists of patients correctly we would like to split them up for the two doctors Alice, and Beth who will be treating them next.  So far we have accessed a single item in an list by specifying a single index.  We can produce `slices` of lists by giving a range of indexes as follows:"
    },
    {
      "metadata": {
        "slideshow": {
          "slide_type": "subslide"
        },
        "trusted": false
      },
      "cell_type": "code",
      "source": "patients_alice = patients[0:6]\npatients_beth = patients[6:14]\nprint(\"Alice will be treating:\", patients_alice)\nprint(\"Beth will be treating:\", patients_beth)",
      "execution_count": 13,
      "outputs": [
        {
          "name": "stdout",
          "output_type": "stream",
          "text": "Alice will be treating: ['Alan', 'Ben', 'Charlie', 'Derick', 'Edward', 'Frank']\nBeth will be treating: ['Greg', 'Henry', 'Ian', 'Jeff', 'Keiran', 'Luke', 'Mike', 'Nigel']\n"
        }
      ]
    },
    {
      "metadata": {
        "slideshow": {
          "slide_type": "subslide"
        }
      },
      "cell_type": "markdown",
      "source": "When we create a slice such as `list_slice = list[low:high]`, `low` is the index of the item in `list` that will be the first index in `list_slice`, while `high` is the first index in `list` that will **not** be in `list_slice`.\n\nIf we are indexing from the beginning or end we can omit `low`, or `high` respectively from our slice and they will be inferred by python:"
    },
    {
      "metadata": {
        "trusted": false
      },
      "cell_type": "code",
      "source": "patients_alice = patients[:7]\npatients_beth = patients[7:]\nprint(\"Alice will be treating:\", patients_alice)\nprint(\"Beth will be treating:\", patients_beth)",
      "execution_count": 14,
      "outputs": [
        {
          "name": "stdout",
          "output_type": "stream",
          "text": "Alice will be treating: ['Alan', 'Ben', 'Charlie', 'Derick', 'Edward', 'Frank', 'Greg']\nBeth will be treating: ['Henry', 'Ian', 'Jeff', 'Keiran', 'Luke', 'Mike', 'Nigel']\n"
        }
      ]
    },
    {
      "metadata": {
        "slideshow": {
          "slide_type": "slide"
        }
      },
      "cell_type": "markdown",
      "source": "## Empty lists\n\nSometimes we want to create an empty list ready to add items, or other lists, values to.  In order to do this we can use square brackets with nothing in side them `[]`."
    },
    {
      "metadata": {
        "slideshow": {
          "slide_type": "subslide"
        },
        "trusted": false
      },
      "cell_type": "code",
      "source": "empty_list = []\nprint(\"An empty list:\", empty_list, \"contains\", len(empty_list), \"items.\")",
      "execution_count": 15,
      "outputs": [
        {
          "name": "stdout",
          "output_type": "stream",
          "text": "An empty list: [] contains 0 items.\n"
        }
      ]
    },
    {
      "metadata": {
        "slideshow": {
          "slide_type": "slide"
        }
      },
      "cell_type": "markdown",
      "source": "## Strings are like lists\n\nIn the previous episodes we have seen that `strings` are sets of characters.  These can be indexed in a similar way to lists where each `index` refers to a different character in the string. "
    },
    {
      "metadata": {
        "slideshow": {
          "slide_type": "subslide"
        },
        "trusted": false
      },
      "cell_type": "code",
      "source": "element = 'carbon'\nprint('zeroth character:', element[0])\nprint('third character:', element[3])",
      "execution_count": 16,
      "outputs": [
        {
          "name": "stdout",
          "output_type": "stream",
          "text": "zeroth character: c\nthird character: b\n"
        }
      ]
    },
    {
      "metadata": {
        "slideshow": {
          "slide_type": "subslide"
        }
      },
      "cell_type": "markdown",
      "source": "There are subtle difference however between the way that Python considers strings and lists:\n- once a `string` has been created it cannot be changed\n- Python considers the string to be a single value with parts, not a collection of values\n\nPractically this means that you cannot reassign an element of a string, only access it, and you cannot `append` or `extend` one string with another."
    },
    {
      "metadata": {},
      "cell_type": "markdown",
      "source": "## Exercise: List re-order \n\nRe-order the following lines of code to produce the output below\n\n```python\nvalues.append(3)\nvalues.append(5)\nprint(\"second time:\", values)\nvalues = []\nvalue.append(1)\nprint(\"first time:\", values)\n```\n\n```brainfuck\nfirst time: [1, 3, 5]\nsecond time: [3, 5]\n```\n\nOnce you think you have the correct order copy and paste each line into the Ipython shell to check you obtain the correct result."
    },
    {
      "metadata": {},
      "cell_type": "markdown",
      "source": "## Solution: List re-order\n\n```python\nvalues = []\nvalues.append(1)\nvalues.append(3)\nvalues.append(5)\nprint('first time:', values)\nvalues = values[1:]\nprint('second time:', values)\n```\n\nWill produce the required results."
    },
    {
      "metadata": {},
      "cell_type": "markdown",
      "source": "## Exercise: How Large is a Slice?\nIf `low` and `high` are both non-negative integers, how long is the list `values[low:high]`?"
    },
    {
      "metadata": {},
      "cell_type": "markdown",
      "source": "## Solution: How Large is a Slice?\nThe `list values[low:high]` has `high - low` elements. For example, `values[1:4]` has the 3 elements `values[1]`, `values[2]`, and `values[3]`. Note that the expression will only work if `high` is less than the total length of the list `values`."
    },
    {
      "metadata": {},
      "cell_type": "markdown",
      "source": "## Exercise: Working With the End\n\n1. What does the following program print?\n```python\nelement = 'helium'\nprint(element[-1])\n```\n2. How does Python interpret a negative index?\n3. If a list or string has `N` elements, what is the most negative index that can safely be used with it, and what location does that index represent?\n4. If values is a list, what does `del values[-N]` do?\n5. How can you display all elements but the last one? (Hint: you will need to combine slicing and negative indexing.)"
    },
    {
      "metadata": {},
      "cell_type": "markdown",
      "source": "## Solution: Working With the End\n\n1. The program prints `m`.\n2. Python interprets a negative index as starting from the end (as opposed to starting from the beginning). The last element is `-1`.\n3. The last index that can safely be used with a list of N elements is element `-N`, which represents the first element.\n4. `del values[-N]` removes the first (zeroth) element from the list.\n5. `values[:-1]`"
    },
    {
      "metadata": {
        "slideshow": {
          "slide_type": "slide"
        }
      },
      "cell_type": "markdown",
      "source": "## Exercise: Slice Bounds\nWhat does the following program print:\n```python\nelement = 'lithium'\nprint(element[0:20])\nprint(element[-1:3])\n```\nand why?"
    },
    {
      "metadata": {
        "slideshow": {
          "slide_type": "slide"
        }
      },
      "cell_type": "markdown",
      "source": "## Solution: Slice Bounds\n\n```brainfuck\nlithium\n\n```\n1. First we assign the string `lithium` to the variable `element`.  Which displays nothing.\n2. When we ask to `print` the slice `lithium[0:20]` Python returns `lithium` which is `element[1:]` and `element[-1:20]` which is just an empty slice, there is nothing else to display.\n3. When we ask to print `element[-1:3]` nothing is printed because the `low` value `-1` is bigger, *as an index* than the `high` value `3`.  So the slice is empty"
    },
    {
      "metadata": {
        "slideshow": {
          "slide_type": "slide"
        }
      },
      "cell_type": "markdown",
      "source": "## Key Points\n- A list stores many values in a single structure.\n- Use an item’s index to fetch it from a list.\n- Python lists start indexing at `0`.\n- Lists’ values can be replaced by assigning to them.\n- Appending items to a list lengthens it.\n- Use `del` to remove items from a list entirely.\n- The empty list contains no values.\n- Lists may contain values of different types.\n- Character strings can be indexed like lists.\n- BUT Character strings are immutable.\n- Indexing beyond the end of the collection is an error.\n- Slices beyond the end of a list are empty.\n- The `low` value of a list must be *lower* than the `high` value to return a valid slice.  \n- If negative indxing is used, then the should be interpreted as the implied i.e. if you have 10 items in a list then the index `-1`, is `9`.\n- **Python lists start indexing at `0`.**"
    }
  ],
  "metadata": {
    "celltoolbar": "Slideshow",
    "kernelspec": {
      "name": "python3",
      "display_name": "Python 3",
      "language": "python"
    },
    "language_info": {
      "mimetype": "text/x-python",
      "nbconvert_exporter": "python",
      "name": "python",
      "pygments_lexer": "ipython3",
      "version": "3.5.4",
      "file_extension": ".py",
      "codemirror_mode": {
        "version": 3,
        "name": "ipython"
      }
    }
  },
  "nbformat": 4,
  "nbformat_minor": 2
}