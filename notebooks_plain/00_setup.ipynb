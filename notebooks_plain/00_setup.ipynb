{
  "cells": [
    {
      "metadata": {
        "slideshow": {
          "slide_type": "slide"
        }
      },
      "cell_type": "markdown",
      "source": "# Setup\n\nWe will be using [notebooks.azure.com](https://notebooks.azure.com) for this lesson.  Log-in with your University email account and clone the [library](https://notebooks.azure.com/jgrant/projects/intro-python) we will need:\n\n![Clone python library](../images/notebooks_clone_python.png)"
    },
    {
      "metadata": {
        "slideshow": {
          "slide_type": "slide"
        }
      },
      "cell_type": "markdown",
      "source": "If you see 'Sign In' in the top right corner you have not yet logged in and won't be able to clone.  Once you have successfully cloned the library you need to start a session:\n\n![Start server](../images/notebooks_launch_python.png)"
    },
    {
      "metadata": {
        "slideshow": {
          "slide_type": "slide"
        }
      },
      "cell_type": "markdown",
      "source": "Now you are ready to launch a notebook.  notebooks.azure.com has several different **kernels** you can choose from depending on what language you want to run.  We will be using **Python 3.6**:\n\n![Launch notebook](../images/notebooks_launch_notebook.png)"
    },
    {
      "metadata": {},
      "cell_type": "markdown",
      "source": "You are now ready to begin the lesson proper.  Scroll down to the bottom of the page and click **Next**."
    },
    {
      "metadata": {
        "slideshow": {
          "slide_type": "slide"
        }
      },
      "cell_type": "markdown",
      "source": "## Alternative Setup\n\nIf you don't want to use notebooks.azure.com you need to do a little bit more preparation for this lesson, you will need to download two zipped files and place them in the specified folder.  The following instructions are intended for use on the `linux.bath`, if you are running on your own computer use your home directory in place of the `H-drive`.\n\nMake a new folder in your working directory, the `H-drive`, called `python-novice-inflammation`.\n\nDownload [python-novice-inflammation-data.zip](../data/python-novice-inflammation-data.zip) and move the file to this folder.\n\nAlso download [python-novice-inflammation-code.zip](../data/python-novice-inflammation-code.zip) and move it to the same folder.\n\nThese files need to be unzipped, we will do this through linux. Open `linux.bath.ac.uk` through xming:\n\n- ‘Start’ → All Programs → Xming → linux\n\nnavigate to the directory containing the files you downloaded and unzip them using the following commands:\n```bash\n% cd python-novice-inflammation/\n% unzip python-novice-inflammation-data.zip\n% unzip python-novice-inflammation-code.zip\n```\n\nYou should end up with two new folders called data and code.\n\nTo get started, go into the data folder from the Unix shell with:\n\n```bash\n% cd data\n```\nWe will be using the IPython interpreter for this lesson, on linux.bath.ac.uk this is launched by typing the command:\n```bash\n% ipython3\n```\nNote the `3`, this refers to a specific version of Python, changes in its behaviour mean that you will observe different results in certain exercises.  This Python interpreter can be installed on your own computer using this link [install Anaconda](https://www.anaconda.com/distribution/). This also includes the Jupyter notebook functionality an exciting way of producing reproducible data analysis."
    }
  ],
  "metadata": {
    "celltoolbar": "Slideshow",
    "kernelspec": {
      "name": "python3",
      "display_name": "Python 3",
      "language": "python"
    },
    "language_info": {
      "mimetype": "text/x-python",
      "nbconvert_exporter": "python",
      "name": "python",
      "pygments_lexer": "ipython3",
      "version": "3.5.4",
      "file_extension": ".py",
      "codemirror_mode": {
        "version": 3,
        "name": "ipython"
      }
    }
  },
  "nbformat": 4,
  "nbformat_minor": 2
}