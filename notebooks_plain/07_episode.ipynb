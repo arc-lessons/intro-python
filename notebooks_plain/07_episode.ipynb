{
  "cells": [
    {
      "metadata": {
        "slideshow": {
          "slide_type": "slide"
        }
      },
      "cell_type": "markdown",
      "source": "# Creating Functions"
    },
    {
      "metadata": {
        "slideshow": {
          "slide_type": "slide"
        }
      },
      "cell_type": "markdown",
      "source": "## Overview\n- **Teaching:** 10 min\n- **Exercises:** 5 min\n\n**Questions**\n- What is a function?\n- How can I define new functions?\n- What’s the difference between defining and calling a function?\n- What happens when I call a function?\n\n**Objectives**\n- Define a function that takes parameters.\n- Return a value from a function.\n- Test and debug a function.\n- Set default values for function parameters.\n- Explain why we should divide programs into small, single-purpose functions."
    },
    {
      "metadata": {
        "slideshow": {
          "slide_type": "slide"
        }
      },
      "cell_type": "markdown",
      "source": "So far we have looked how to use variables to perform calculations, loops and conditionals the basic building blocks of programming.  But what we would like to do is get to the stage where we can write blocks of functional code to perform a specific task, since cutting and pasting it is going to make our code very long and very repetitive, very quickly. We’d like a way to package our code so that it is easier to re-use, and Python provides for this by letting us define things called 'functions'  a shorthand way of re-executing longer pieces of code. Let’s start by defining a function that does what all good first examples should do, display \"Hello World!\"."
    },
    {
      "metadata": {
        "slideshow": {
          "slide_type": "subslide"
        },
        "trusted": false
      },
      "cell_type": "code",
      "source": "def print_greeting():\n    print('Hello World!')",
      "execution_count": 1,
      "outputs": []
    },
    {
      "metadata": {
        "slideshow": {
          "slide_type": "slide"
        }
      },
      "cell_type": "markdown",
      "source": "When we create a function and \"run\" it, nothing happens.  This is sensible because what we want to do is create the function once, and then run it when we want to execute the code.  We do this by **calling** the function:"
    },
    {
      "metadata": {
        "slideshow": {
          "slide_type": "subslide"
        },
        "trusted": false
      },
      "cell_type": "code",
      "source": "print_greeting()",
      "execution_count": 2,
      "outputs": [
        {
          "name": "stdout",
          "output_type": "stream",
          "text": "Hello World!\n"
        }
      ]
    },
    {
      "metadata": {
        "slideshow": {
          "slide_type": "slide"
        }
      },
      "cell_type": "markdown",
      "source": "This is all very well but it's unlikely that this is a function that we are going to have much use for.  Let's write a function `fahr_to_celsius` that converts temperatures from Fahrenheit to Celsius, and then we'll examine its structure:"
    },
    {
      "metadata": {
        "slideshow": {
          "slide_type": "subslide"
        },
        "trusted": false
      },
      "cell_type": "code",
      "source": "def fahr_to_celsius(temp):\n    return ((temp - 32) * (5/9))",
      "execution_count": 3,
      "outputs": []
    },
    {
      "metadata": {
        "slideshow": {
          "slide_type": "slide"
        }
      },
      "cell_type": "markdown",
      "source": "Let's examine the different parts of our function:\n\n![Anatomy of a python function](../images/python-function.png)\n\nThe function definition opens with the keyword `def` followed by the name of the function `fahr_to_celsius` and a parenthesized list of parameter names `temp`. The **body** of the function - the statements that are executed when it runs - is indented below the definition line. The body concludes with the keyword `return` followed by the value the function calculates.\n\nWhen we call the function, the values we pass to it are assigned to those variables so that we can use them inside the function. Inside the function, we use a return statement to send a result back to whoever asked for it."
    },
    {
      "metadata": {
        "slideshow": {
          "slide_type": "slide"
        }
      },
      "cell_type": "markdown",
      "source": "Let's try running the function:"
    },
    {
      "metadata": {
        "slideshow": {
          "slide_type": "subslide"
        },
        "trusted": false
      },
      "cell_type": "code",
      "source": "fahr_to_celsius(32)",
      "execution_count": 4,
      "outputs": [
        {
          "data": {
            "text/plain": "0.0"
          },
          "execution_count": 4,
          "metadata": {},
          "output_type": "execute_result"
        }
      ]
    },
    {
      "metadata": {
        "slideshow": {
          "slide_type": "slide"
        }
      },
      "cell_type": "markdown",
      "source": "This command should call our function, using “32” as the input and return the function value.\n\nIn fact, calling our own function is no different from calling any other function.  Throughout this lesson we have been using built-in functions like `print()`, `type()`, `int()`, `str()`, `range()`, etc.  Our new function is no different except that we have defined it ourselves."
    },
    {
      "metadata": {
        "slideshow": {
          "slide_type": "subslide"
        },
        "trusted": false
      },
      "cell_type": "code",
      "source": "print('freezing point of water:', fahr_to_celsius(32), 'C')\nprint('boiling point of water:', fahr_to_celsius(212), 'C')",
      "execution_count": 5,
      "outputs": [
        {
          "name": "stdout",
          "output_type": "stream",
          "text": "freezing point of water: 0.0 C\nboiling point of water: 100.0 C\n"
        }
      ]
    },
    {
      "metadata": {
        "slideshow": {
          "slide_type": "subslide"
        }
      },
      "cell_type": "markdown",
      "source": "We’ve successfully called the function that we defined, and we have access to the value that we returned."
    },
    {
      "metadata": {
        "slideshow": {
          "slide_type": "slide"
        }
      },
      "cell_type": "markdown",
      "source": "## Composing Functions\nNow that we’ve seen how to turn Fahrenheit into Celsius, we can also write the function to turn Celsius into Kelvin:"
    },
    {
      "metadata": {
        "slideshow": {
          "slide_type": "subslide"
        },
        "trusted": false
      },
      "cell_type": "code",
      "source": "def celsius_to_kelvin(temp_c):\n    return temp_c + 273.15",
      "execution_count": 6,
      "outputs": []
    },
    {
      "metadata": {
        "slideshow": {
          "slide_type": "subslide"
        }
      },
      "cell_type": "markdown",
      "source": "We can run the function as we did before:"
    },
    {
      "metadata": {
        "slideshow": {
          "slide_type": "subslide"
        },
        "trusted": false
      },
      "cell_type": "code",
      "source": "print('freezing point of water in Kelvin:', celsius_to_kelvin(0.))",
      "execution_count": 7,
      "outputs": [
        {
          "name": "stdout",
          "output_type": "stream",
          "text": "freezing point of water in Kelvin: 273.15\n"
        }
      ]
    },
    {
      "metadata": {
        "slideshow": {
          "slide_type": "slide"
        }
      },
      "cell_type": "markdown",
      "source": "What about converting Fahrenheit to Kelvin? We could write out the formula from scratch, but we don’t need to. Instead, we can compose the two functions we have already created and test it:"
    },
    {
      "metadata": {
        "slideshow": {
          "slide_type": "subslide"
        },
        "trusted": false
      },
      "cell_type": "code",
      "source": "def fahr_to_kelvin(temp_f):\n    temp_c = fahr_to_celsius(temp_f)\n    temp_k = celsius_to_kelvin(temp_c)\n    return temp_k",
      "execution_count": 8,
      "outputs": []
    },
    {
      "metadata": {
        "slideshow": {
          "slide_type": "subslide"
        },
        "trusted": false
      },
      "cell_type": "code",
      "source": "print('boiling point of water in Kelvin:', fahr_to_kelvin(212.0))",
      "execution_count": 9,
      "outputs": [
        {
          "name": "stdout",
          "output_type": "stream",
          "text": "boiling point of water in Kelvin: 373.15\n"
        }
      ]
    },
    {
      "metadata": {
        "slideshow": {
          "slide_type": "subslide"
        }
      },
      "cell_type": "markdown",
      "source": "This is our first taste of how larger programs are built: we define basic operations, then combine them in ever-large chunks to get the effect we want. Real-life functions will usually be larger than the ones shown here - typically half a dozen to a few dozen lines - but they shouldn’t ever be much longer than that.  Otherwise the next person who reads it (likely to be our future selves!) won’t be able to understand what’s going on."
    },
    {
      "metadata": {
        "slideshow": {
          "slide_type": "slide"
        }
      },
      "cell_type": "markdown",
      "source": "## Defining Defaults\n\nWe have also already seen that it is possible to define `default` values.  If you recall, when we used `range(10)`, `10` is the `stop` value of the function, but the function had default values, `start = 0` and `step = 1`.  We can do the same in our own functions and will consider the following example:"
    },
    {
      "metadata": {
        "slideshow": {
          "slide_type": "subslide"
        },
        "trusted": false
      },
      "cell_type": "code",
      "source": "def display(a=1, b=2, c=3):\n    print('a:', a, 'b:', b, 'c:', c)",
      "execution_count": 10,
      "outputs": []
    },
    {
      "metadata": {
        "slideshow": {
          "slide_type": "subslide"
        }
      },
      "cell_type": "markdown",
      "source": "We first run the function with no parameters:"
    },
    {
      "metadata": {
        "slideshow": {
          "slide_type": "subslide"
        },
        "trusted": false
      },
      "cell_type": "code",
      "source": "print('no parameters:')\ndisplay()",
      "execution_count": 11,
      "outputs": [
        {
          "name": "stdout",
          "output_type": "stream",
          "text": "no parameters:\na: 1 b: 2 c: 3\n"
        }
      ]
    },
    {
      "metadata": {
        "slideshow": {
          "slide_type": "slide"
        }
      },
      "cell_type": "markdown",
      "source": "If we instead call the function with one, two or three values, these are used as the parameters of the function:"
    },
    {
      "metadata": {
        "slideshow": {
          "slide_type": "subslide"
        },
        "trusted": false
      },
      "cell_type": "code",
      "source": "print('one parameter:')\ndisplay(55)\nprint('two parameters:')\ndisplay(55, 66)\nprint('three parameters')\ndisplay(55,66,77)",
      "execution_count": 12,
      "outputs": [
        {
          "name": "stdout",
          "output_type": "stream",
          "text": "one parameter:\na: 55 b: 2 c: 3\ntwo parameters:\na: 55 b: 66 c: 3\nthree parameters\na: 55 b: 66 c: 77\n"
        }
      ]
    },
    {
      "metadata": {
        "slideshow": {
          "slide_type": "subslide"
        }
      },
      "cell_type": "markdown",
      "source": "This example shows that parameters are matched up from left to right, and any that haven’t been given a value explicitly get their default value."
    },
    {
      "metadata": {
        "slideshow": {
          "slide_type": "slide"
        }
      },
      "cell_type": "markdown",
      "source": "We can override this behavior by assigning the value we pass in to a specific parameter in our function:"
    },
    {
      "metadata": {
        "slideshow": {
          "slide_type": "subslide"
        },
        "trusted": false
      },
      "cell_type": "code",
      "source": "print('only setting the value of c')\ndisplay(c=77)",
      "execution_count": 13,
      "outputs": [
        {
          "name": "stdout",
          "output_type": "stream",
          "text": "only setting the value of c\na: 1 b: 2 c: 77\n"
        }
      ]
    },
    {
      "metadata": {
        "slideshow": {
          "slide_type": "slide"
        }
      },
      "cell_type": "markdown",
      "source": "## Readable Functions\n\nAs we suggested earlier it is best to write the functions so that they are readable so that we can more easily understand when we return to them in the future.  Consider the following:"
    },
    {
      "metadata": {
        "slideshow": {
          "slide_type": "subslide"
        },
        "trusted": false
      },
      "cell_type": "code",
      "source": "def m(p):\n    a = 0\n    for v in p:\n        a += v\n    m = a / len(p)\n    return m",
      "execution_count": 14,
      "outputs": []
    },
    {
      "metadata": {
        "slideshow": {
          "slide_type": "subslide"
        },
        "trusted": false
      },
      "cell_type": "code",
      "source": "def mean(sample):\n    sample_sum = 0\n    for value in sample:\n        sample_sum += value\n\n    sample_mean = sample_sum / len(sample)\n    return sample_mean",
      "execution_count": 15,
      "outputs": []
    },
    {
      "metadata": {
        "slideshow": {
          "slide_type": "slide"
        }
      },
      "cell_type": "markdown",
      "source": "The functions `m` and `mean` are computationally equivalent (they both calculate the sample `mean`), but to a human reader, they look very different. You probably found `mean` much easier to read and understand than `m`.\n\nAs this example illustrates, both documentation and a programmer’s coding style combine to determine how easy it is for others to read and understand the programmer’s code. Choosing meaningful variable names and using blank spaces to break the code into logical “chunks” are helpful techniques for producing readable code. This is useful not only for sharing code with others, but also for the original programmer. If you need to revisit code that you wrote months ago and haven’t thought about since then, you will appreciate the value of readable code!"
    },
    {
      "metadata": {
        "slideshow": {
          "slide_type": "slide"
        }
      },
      "cell_type": "markdown",
      "source": "## Document your functions\n\nYou can also add documentation to your function using a docstring, to inform users what the code does and aid readability:"
    },
    {
      "metadata": {
        "slideshow": {
          "slide_type": "subslide"
        },
        "trusted": false
      },
      "cell_type": "code",
      "source": "def mean(sample):\n    '''\n    Takes a list of numbers, sample\n    \n    and returns the mean.\n    '''\n    sample_sum = 0\n    for value in sample:\n        sample_sum += value\n\n    sample_mean = sample_sum / len(sample)\n    return sample_mean",
      "execution_count": 5,
      "outputs": []
    },
    {
      "metadata": {
        "slideshow": {
          "slide_type": "slide"
        }
      },
      "cell_type": "markdown",
      "source": "You can then get information about your function with `help`:"
    },
    {
      "metadata": {
        "trusted": false
      },
      "cell_type": "code",
      "source": "help(mean)",
      "execution_count": 6,
      "outputs": [
        {
          "name": "stdout",
          "output_type": "stream",
          "text": "Help on function mean in module __main__:\n\nmean(sample)\n    Takes a list of numbers, sample\n    \n    and returns the mean.\n\n"
        }
      ]
    },
    {
      "metadata": {
        "slideshow": {
          "slide_type": "slide"
        }
      },
      "cell_type": "markdown",
      "source": "## Exercise: Combining Strings\n\nWe have seen how we can “add” two strings to produce their concatenation: 'a' + 'b' is 'ab'. Write a function called fence that takes two parameters called original and wrapper and returns a new string that has the wrapper character at the beginning and end of the original. A call to your function should look like this:\n```python\nprint(fence('name', '*'))\n*name*\n```\nBefore you write your function think about what it will need to look like and write this out in natural language using **pseudocode** or a flow chart."
    },
    {
      "metadata": {
        "slideshow": {
          "slide_type": "slide"
        }
      },
      "cell_type": "markdown",
      "source": "## Solution: Combining Strings\n\n```python\ndef fence(original, wrapper):\n    new_string = wrapper + original + wrapper\n    return new_string\n```\n\nYour pseudocode might look like:\n\n1. Define function with two parameters original and wrapper\n2. Combine the parameters into a new string the order: wrapper, original\n3. Return the new string"
    },
    {
      "metadata": {
        "slideshow": {
          "slide_type": "slide"
        }
      },
      "cell_type": "markdown",
      "source": "## Exercise: Return versus print\n\nNote that `return` and `print` are not interchangeable. `print` is a Python function that prints data to the screen. It enables us, users, to see the data. The `return` statement, on the other hand, passes data back to the program that called the function. Let’s have a look at the following function:\n\n```python\ndef add(a, b):\n    print(a + b)\n```\nIf we run the follwing commands: \n```python\nA = add(7, 3)\nprint(A)\n```\nwhat will be displayed?"
    },
    {
      "metadata": {
        "slideshow": {
          "slide_type": "slide"
        }
      },
      "cell_type": "markdown",
      "source": "## Solution: Return versus print\n\nPython will first execute the function add with `a = 7` and `b = 3`, and, therefore, print `10`. However, because function add does not have a line that starts with `return` (no return “statement”), it will, by default, return nothing which, in Python world, is called `None`. Therefore, `A` will be assigned `None` and the last line (`print(A)`) will print `None`. As a result, we will see:\n```brainfuck\n10\nNone\n```\nIf we want to return the value rather than print it we must replace `print` in our **function** with `return`."
    },
    {
      "metadata": {
        "slideshow": {
          "slide_type": "slide"
        }
      },
      "cell_type": "markdown",
      "source": "## Exercise: Calling by name\n\nLet's write a function that takes three parameters, `year`, `month` and `day` and prints them in a nice format:\n```python\ndef print_date(year, month, day):\n    joined = str(year) + '/' + str(month) + '/' + str(day)\n    print(joined)\n```\n\nEarlier we saw that we can call the function using named arguments, like this:\n```python\nprint_date(day=1, month=2, year=2003)\n```\n1. What does `print_date(day=1, month=2, year=2003)` print?\n2. What about `print_date(month=11, year=2018, day=21)`?\n3. When and why is it useful to call functions this way?"
    },
    {
      "metadata": {
        "slideshow": {
          "slide_type": "slide"
        }
      },
      "cell_type": "markdown",
      "source": "## Solution: Calling by name\n\n1. `2003/2/1`\n2. `2018/11/21`\n3. Using named arguments can make code more readable since one can see from the function call what name the different arguments have inside the function. It can also reduce the chances of passing arguments in the wrong order, since by using named arguments the order doesn’t matter."
    },
    {
      "metadata": {
        "slideshow": {
          "slide_type": "slide"
        }
      },
      "cell_type": "markdown",
      "source": "## Exercise:  The Old Switcheroo\n\nConsider this code:\n```python\na = 3\nb = 7\n\ndef swap(a, b):\n    temp = a\n    a = b\n    b = temp\n\nswap(a, b)\n\nprint(a, b)\n```\nWhich of the following would be printed if you were to run this code?\n```python\n7 3\n3 7\n3 3\n7 7\n```\nWhy did you pick this answer?"
    },
    {
      "metadata": {
        "slideshow": {
          "slide_type": "slide"
        }
      },
      "cell_type": "markdown",
      "source": "## Solution: The Old Switcheroo\n\n`3 7` is the correct answer. Initially, `a` has a value of `3` and `b` has a value of `7`. When the `swap` function is called, it creates local variables (also called `a` and `b` in this case) and trades their values. The function does not return any values and does not alter `a` or `b` outside of its local copy. Therefore the original values of `a` and `b` remain unchanged.\n\nIf we want to swap two values in Python we need to use something like the following\n\n```python\na = 3\nb = 7\n\ndef swap(a, b):\n    return b, a\n\na, b = swap(a, b)\n\nprint(a, b)\n```\n\nThis reverses the order of the parameters when they are returned and does swap the two values."
    },
    {
      "metadata": {
        "slideshow": {
          "slide_type": "slide"
        }
      },
      "cell_type": "markdown",
      "source": "## Exercise: Find the First\nNow let's try combining all the components we have used so far. See if you can fill in the blanks to create a function that takes a list of numbers as an argument and returns the first negative value in the list. What does your function do if the list is empty?\n```python\ndef first_negative(values):\n    for v in ____:\n        if ____:\n            return ____\n```\n\nOnce you have a function that you think will work, test it by creating a list of numbers and checking the result."
    },
    {
      "metadata": {},
      "cell_type": "markdown",
      "source": "## Solution: Find the First\n\nYour function should look something like:\n\n```python\ndef first_negative(values):\n    for v in values:\n        if v<0:\n            return v\n```\nWhat happens if you pass an empty list is passed to this function?  What happens if all the values are positive?"
    },
    {
      "metadata": {
        "slideshow": {
          "slide_type": "slide"
        }
      },
      "cell_type": "markdown",
      "source": "## Key Points\n- Define a function using `def function_name(parameter)`.\n- The body of a function must be indented.\n- Call a function using `function_name(value)`.\n- Variables defined within a function can only be seen and used within the body of the function.\n- If a variable is not defined within the function it is used, Python looks for a definition before the function call.\n- Use `help(thing)` to view help for something.\n- Put docstrings in functions to provide help for that function.\n- Specify default values for parameters when defining a function using `name=value` in the parameter list.\n- Parameters can be passed by matching based on name, by position, or by omitting them (in which case the default value is used).\n- Put code whose parameters change frequently in a function, then call it with different parameter values to customize its behavior."
    }
  ],
  "metadata": {
    "celltoolbar": "Slideshow",
    "kernelspec": {
      "name": "python3",
      "display_name": "Python 3",
      "language": "python"
    },
    "language_info": {
      "mimetype": "text/x-python",
      "nbconvert_exporter": "python",
      "name": "python",
      "pygments_lexer": "ipython3",
      "version": "3.5.4",
      "file_extension": ".py",
      "codemirror_mode": {
        "version": 3,
        "name": "ipython"
      }
    }
  },
  "nbformat": 4,
  "nbformat_minor": 2
}