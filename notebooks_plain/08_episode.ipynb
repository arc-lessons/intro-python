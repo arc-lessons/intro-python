{
  "cells": [
    {
      "metadata": {
        "slideshow": {
          "slide_type": "slide"
        }
      },
      "cell_type": "markdown",
      "source": "# Libraries"
    },
    {
      "metadata": {
        "slideshow": {
          "slide_type": "slide"
        }
      },
      "cell_type": "markdown",
      "source": "##### Overview\n- **Teaching:** 5 min\n- **Exercises:** 5 min\n\n**Questions**\n- How can I use software that other people have written?\n- How can I find out what that software does?\n\n**Objectives**\n- Explain what software libraries are and why programmers create and use them.\n- Write programs that import and use libraries from Python’s standard library.\n- Find and read documentation for standard libraries interactively (in the interpreter) and online."
    },
    {
      "metadata": {
        "slideshow": {
          "slide_type": "slide"
        }
      },
      "cell_type": "markdown",
      "source": "## Why re-invent the wheel?\n\nUntil now we have made extensive use of Python's built-in libraries.  But what if the functionality we want is not natively available?  We must make use of libraries, which is where most of the power of a programming language lies:\n- A library is a collection of files (called modules) that contains functions for use by other programs.\n- May also contain data values (e.g. numerical constants) and other things.\n- Library’s contents are supposed to be related, but there’s no way to enforce that.\n- The Python standard library is an extensive suite of modules that comes with Python itself.\n- Many additional libraries are available from PyPI (the Python Package Index).\n- The Anaconda package also contains or can help install many useful scientific libraries"
    },
    {
      "metadata": {
        "slideshow": {
          "slide_type": "subslide"
        }
      },
      "cell_type": "markdown",
      "source": "## Pin: Libraries and modules\nA library is a collection of modules, but the terms are often used interchangeably, especially since many libraries only consist of a single module, so don’t worry if you mix them."
    },
    {
      "metadata": {
        "slideshow": {
          "slide_type": "slide"
        }
      },
      "cell_type": "markdown",
      "source": "## Importing libraries\n\nA program must import a library module before using it.\n- Use `import` to load a library module into a program’s memory.\n- Then refer to things from the module as `module_name.thing_name`.\n- Python uses `.` to mean “part of”.\n\nWe will illustrate how to do this with `math`, one of the modules in the standard library:"
    },
    {
      "metadata": {
        "slideshow": {
          "slide_type": "subslide"
        },
        "trusted": false
      },
      "cell_type": "code",
      "source": "import math\n\nprint('pi is', math.pi)\nprint('cos(pi) is', math.cos(math.pi))",
      "execution_count": 1,
      "outputs": [
        {
          "name": "stdout",
          "output_type": "stream",
          "text": "pi is 3.141592653589793\ncos(pi) is -1.0\n"
        }
      ]
    },
    {
      "metadata": {
        "slideshow": {
          "slide_type": "slide"
        }
      },
      "cell_type": "markdown",
      "source": "Notice that we have to refer to each item with the module’s name.\n`math.cos(pi)` won’t work, the reference to pi doesn’t somehow “inherit” the function’s reference to `math.`.  We have to write `math.cos(math.pi)` referencing the math library for the constant `math.pi` and the function `math.cos()`"
    },
    {
      "metadata": {
        "slideshow": {
          "slide_type": "slide"
        }
      },
      "cell_type": "markdown",
      "source": "## Information: Help!\n\n- You can use `help(module_name)` to learn about the contents of a library module.    \n- You can also use `help(function_name)` to get help on how to use an individual function."
    },
    {
      "metadata": {
        "slideshow": {
          "slide_type": "subslide"
        },
        "trusted": false
      },
      "cell_type": "code",
      "source": "help(math)",
      "execution_count": 2,
      "outputs": [
        {
          "name": "stdout",
          "output_type": "stream",
          "text": "Help on module math:\n\nNAME\n    math\n\nMODULE REFERENCE\n    https://docs.python.org/3.6/library/math\n    \n    The following documentation is automatically generated from the Python\n    source files.  It may be incomplete, incorrect or include features that\n    are considered implementation detail and may vary between Python\n    implementations.  When in doubt, consult the module reference at the\n    location listed above.\n\nDESCRIPTION\n    This module is always available.  It provides access to the\n    mathematical functions defined by the C standard.\n\nFUNCTIONS\n    acos(...)\n        acos(x)\n        \n        Return the arc cosine (measured in radians) of x.\n    \n    acosh(...)\n        acosh(x)\n        \n        Return the inverse hyperbolic cosine of x.\n    \n    asin(...)\n        asin(x)\n        \n        Return the arc sine (measured in radians) of x.\n    \n    asinh(...)\n        asinh(x)\n        \n        Return the inverse hyperbolic sine of x.\n    \n    atan(...)\n        atan(x)\n        \n        Return the arc tangent (measured in radians) of x.\n    \n    atan2(...)\n        atan2(y, x)\n        \n        Return the arc tangent (measured in radians) of y/x.\n        Unlike atan(y/x), the signs of both x and y are considered.\n    \n    atanh(...)\n        atanh(x)\n        \n        Return the inverse hyperbolic tangent of x.\n    \n    ceil(...)\n        ceil(x)\n        \n        Return the ceiling of x as an Integral.\n        This is the smallest integer >= x.\n    \n    copysign(...)\n        copysign(x, y)\n        \n        Return a float with the magnitude (absolute value) of x but the sign \n        of y. On platforms that support signed zeros, copysign(1.0, -0.0) \n        returns -1.0.\n    \n    cos(...)\n        cos(x)\n        \n        Return the cosine of x (measured in radians).\n    \n    cosh(...)\n        cosh(x)\n        \n        Return the hyperbolic cosine of x.\n    \n    degrees(...)\n        degrees(x)\n        \n        Convert angle x from radians to degrees.\n    \n    erf(...)\n        erf(x)\n        \n        Error function at x.\n    \n    erfc(...)\n        erfc(x)\n        \n        Complementary error function at x.\n    \n    exp(...)\n        exp(x)\n        \n        Return e raised to the power of x.\n    \n    expm1(...)\n        expm1(x)\n        \n        Return exp(x)-1.\n        This function avoids the loss of precision involved in the direct evaluation of exp(x)-1 for small x.\n    \n    fabs(...)\n        fabs(x)\n        \n        Return the absolute value of the float x.\n    \n    factorial(...)\n        factorial(x) -> Integral\n        \n        Find x!. Raise a ValueError if x is negative or non-integral.\n    \n    floor(...)\n        floor(x)\n        \n        Return the floor of x as an Integral.\n        This is the largest integer <= x.\n    \n    fmod(...)\n        fmod(x, y)\n        \n        Return fmod(x, y), according to platform C.  x % y may differ.\n    \n    frexp(...)\n        frexp(x)\n        \n        Return the mantissa and exponent of x, as pair (m, e).\n        m is a float and e is an int, such that x = m * 2.**e.\n        If x is 0, m and e are both 0.  Else 0.5 <= abs(m) < 1.0.\n    \n    fsum(...)\n        fsum(iterable)\n        \n        Return an accurate floating point sum of values in the iterable.\n        Assumes IEEE-754 floating point arithmetic.\n    \n    gamma(...)\n        gamma(x)\n        \n        Gamma function at x.\n    \n    gcd(...)\n        gcd(x, y) -> int\n        greatest common divisor of x and y\n    \n    hypot(...)\n        hypot(x, y)\n        \n        Return the Euclidean distance, sqrt(x*x + y*y).\n    \n    isclose(...)\n        isclose(a, b, *, rel_tol=1e-09, abs_tol=0.0) -> bool\n        \n        Determine whether two floating point numbers are close in value.\n        \n           rel_tol\n               maximum difference for being considered \"close\", relative to the\n               magnitude of the input values\n            abs_tol\n               maximum difference for being considered \"close\", regardless of the\n               magnitude of the input values\n        \n        Return True if a is close in value to b, and False otherwise.\n        \n        For the values to be considered close, the difference between them\n        must be smaller than at least one of the tolerances.\n        \n        -inf, inf and NaN behave similarly to the IEEE 754 Standard.  That\n        is, NaN is not close to anything, even itself.  inf and -inf are\n        only close to themselves.\n    \n    isfinite(...)\n        isfinite(x) -> bool\n        \n        Return True if x is neither an infinity nor a NaN, and False otherwise.\n    \n    isinf(...)\n        isinf(x) -> bool\n        \n        Return True if x is a positive or negative infinity, and False otherwise.\n    \n    isnan(...)\n        isnan(x) -> bool\n        \n        Return True if x is a NaN (not a number), and False otherwise.\n    \n    ldexp(...)\n        ldexp(x, i)\n        \n        Return x * (2**i).\n    \n    lgamma(...)\n        lgamma(x)\n        \n        Natural logarithm of absolute value of Gamma function at x.\n    \n    log(...)\n        log(x[, base])\n        \n        Return the logarithm of x to the given base.\n        If the base not specified, returns the natural logarithm (base e) of x.\n    \n    log10(...)\n        log10(x)\n        \n        Return the base 10 logarithm of x.\n    \n    log1p(...)\n        log1p(x)\n        \n        Return the natural logarithm of 1+x (base e).\n        The result is computed in a way which is accurate for x near zero.\n    \n    log2(...)\n        log2(x)\n        \n        Return the base 2 logarithm of x.\n    \n    modf(...)\n        modf(x)\n        \n        Return the fractional and integer parts of x.  Both results carry the sign\n        of x and are floats.\n    \n    pow(...)\n        pow(x, y)\n        \n        Return x**y (x to the power of y).\n    \n    radians(...)\n        radians(x)\n        \n        Convert angle x from degrees to radians.\n    \n    sin(...)\n        sin(x)\n        \n        Return the sine of x (measured in radians).\n    \n    sinh(...)\n        sinh(x)\n        \n        Return the hyperbolic sine of x.\n    \n    sqrt(...)\n        sqrt(x)\n        \n        Return the square root of x.\n    \n    tan(...)\n        tan(x)\n        \n        Return the tangent of x (measured in radians).\n    \n    tanh(...)\n        tanh(x)\n        \n        Return the hyperbolic tangent of x.\n    \n    trunc(...)\n        trunc(x:Real) -> Integral\n        \n        Truncates x to the nearest Integral toward 0. Uses the __trunc__ magic method.\n\nDATA\n    e = 2.718281828459045\n    inf = inf\n    nan = nan\n    pi = 3.141592653589793\n    tau = 6.283185307179586\n\nFILE\n    /home/rjg20/anaconda3/envs/arc-training-bs/lib/python3.6/lib-dynload/math.cpython-36m-x86_64-linux-gnu.so\n\n\n"
        }
      ]
    },
    {
      "metadata": {
        "slideshow": {
          "slide_type": "slide"
        }
      },
      "cell_type": "markdown",
      "source": "## Import items from a module\n\nUsing the syntax `from ... import ...` you can load spcific items from a library module to shorten your programs.\nBy doing this you can refer to the without having to specify the library prefix:"
    },
    {
      "metadata": {
        "slideshow": {
          "slide_type": "subslide"
        },
        "trusted": false
      },
      "cell_type": "code",
      "source": "from math import cos, pi\n\nprint('cos(pi) is', cos(pi))",
      "execution_count": 3,
      "outputs": [
        {
          "name": "stdout",
          "output_type": "stream",
          "text": "cos(pi) is -1.0\n"
        }
      ]
    },
    {
      "metadata": {
        "slideshow": {
          "slide_type": "subslide"
        }
      },
      "cell_type": "markdown",
      "source": "## Import under an alias\n\nAnother useful feature is to use an alias.  If we do this we do need to reference the module but we can use an **alias** to refer to the module:"
    },
    {
      "metadata": {
        "slideshow": {
          "slide_type": "subslide"
        },
        "trusted": false
      },
      "cell_type": "code",
      "source": "import math as m\n\nprint('cos(pi) is', m.cos(m.pi))",
      "execution_count": 4,
      "outputs": [
        {
          "name": "stdout",
          "output_type": "stream",
          "text": "cos(pi) is -1.0\n"
        }
      ]
    },
    {
      "metadata": {
        "slideshow": {
          "slide_type": "subslide"
        }
      },
      "cell_type": "markdown",
      "source": "## Exercise: Exploring the Math Module\nWhat function from the `math` module can you use to calculate a square root without using `sqrt`?\nSince the library contains this function, why does `sqrt` exist?"
    },
    {
      "metadata": {
        "slideshow": {
          "slide_type": "slide"
        }
      },
      "cell_type": "markdown",
      "source": "## Solution: Exploring the Math Module\n\n1. Using `help(math)` we see that we’ve got `pow(x,y)` in addition to `sqrt(x)`, so we could use `pow(x, 0.5)` to find a square root.\n2. The `sqrt(x)` function is arguably more readable than `pow(x, 0.5)` when implementing equations. Readability is a cornerstone of good programming, so it makes sense to provide a special function for this specific common case.\n\nAlso the `math` libraries are likely to be written in an optimsed way.  Using the specific function `sqrt` is therefore likely to be more efficient that `pow`."
    },
    {
      "metadata": {
        "slideshow": {
          "slide_type": "slide"
        }
      },
      "cell_type": "markdown",
      "source": "## Exercise: Locating the Right Module\n\nYou want to select a random character from a string:\n\n`bases = 'ACTTGCTTGAC'`\nWhich [standard library](https://docs.python.org/3/library/) module could help you?\nWhich function would you select from that module? Are there alternatives?\nTry to write a program that uses the function."
    },
    {
      "metadata": {
        "slideshow": {
          "slide_type": "slide"
        }
      },
      "cell_type": "markdown",
      "source": "## Solution: Locating the Right Module\n\nThe [random module](https://docs.python.org/2/library/random.html) seems like it could help you.\n\nThe string has 11 characters, each having a positional index from 0 to 10. You could use `random.randrange` function (or the alias `random.randint` if you find that easier to remember) to get a random integer between `0` and `10`, and then pick out the character at that position:\n```python\nfrom random import randrange\n\nrandom_index = randrange(len(bases))\nprint(bases[random_index])\n```\nor more compactly:\n```python\nfrom random import randrange\n\nprint(bases[randrange(len(bases))])\n```\nPerhaps you found the random.sample function? It allows for slightly less typing:\n```python\nfrom random import sample\n\nprint(sample(bases, 1)[0])\n```\nNote that this function returns a list of values.\n\nThere are also other functions you could use, but with more convoluted code as a result."
    },
    {
      "metadata": {
        "slideshow": {
          "slide_type": "slide"
        }
      },
      "cell_type": "markdown",
      "source": "## Exercise: Jigsaw Puzzle (Parson’s Problem) Programming Example\nRearrange the following statements so that a random DNA base is printed and its index in the string. Not all statements may be needed. Feel free to use/add intermediate variables.\n```python\nbases=\"ACTTGCTTGAC\"\nimport math\nimport random\n___ = random.randrange(n_bases)\n___ = len(bases)\nprint(\"random base \", bases[___], \"base index\", ___)\n```"
    },
    {
      "metadata": {
        "slideshow": {
          "slide_type": "subslide"
        }
      },
      "cell_type": "markdown",
      "source": "## Solution: Jigsaw Puzzle (Parson’s Problem) Programming Example\n\n```python\nimport math \nimport random\nbases = \"ACTTGCTTGAC\" \nn_bases = len(bases)\nidx = random.randrange(n_bases)\nprint(\"random base\", bases[idx], \"base index\", idx)\n```\nYou may have used different variable names in your successful solution!"
    },
    {
      "metadata": {
        "slideshow": {
          "slide_type": "slide"
        }
      },
      "cell_type": "markdown",
      "source": "## Exercise: When Is Help Available?\n\nWhen a colleague of yours types help(math), Python reports an error:\n```brainfuck\nNameError: name 'math' is not defined\nWhat has your colleague forgotten to do?\n\nSolution\nImporting the math module (import math)\n```\nWhat have they forgotten?"
    },
    {
      "metadata": {
        "slideshow": {
          "slide_type": "subslide"
        }
      },
      "cell_type": "markdown",
      "source": "## Solution: When Is Help Available?\nThey have forgotten to import the module `import math`."
    },
    {
      "metadata": {
        "slideshow": {
          "slide_type": "subslide"
        }
      },
      "cell_type": "markdown",
      "source": "## Exercise: Importing Specific Items\n\nFill in the blanks so that the program below prints 90.0.\n\n```python\n____ math import ____, ____\nangle = degrees(pi / 2)\nprint(angle)\n```\nDo you find this version easier to read than preceding ones?\nWhy wouldn’t programmers always use this form of import?"
    },
    {
      "metadata": {
        "slideshow": {
          "slide_type": "subslide"
        }
      },
      "cell_type": "markdown",
      "source": "## Solution: Importing Specific Items\n\n```python\nfrom math import degrees, pi\nangle = degrees(pi / 2)\nprint(angle)\n```\nMost likely you find this version easier to read since it’s less dense. The main reason not to use this form of `import` is to avoid name clashes. For instance, you wouldn’t `import degrees` this way if you also wanted to use the name `degrees` for a variable or function of your own. Or if you were to also `import` a function named `degrees` from another library"
    },
    {
      "metadata": {
        "slideshow": {
          "slide_type": "slide"
        }
      },
      "cell_type": "markdown",
      "source": "## Key Points\n- Much of the power of a programming language is in its libraries.\n- A program must import a library module in order to use it.\n- Use `help` to learn about the contents of a library module.\n- Import specific items from a library to shorten programs.\n- Create an alias for a library when importing it to shorten programs."
    }
  ],
  "metadata": {
    "celltoolbar": "Slideshow",
    "kernelspec": {
      "name": "python3",
      "display_name": "Python 3",
      "language": "python"
    },
    "language_info": {
      "mimetype": "text/x-python",
      "nbconvert_exporter": "python",
      "name": "python",
      "pygments_lexer": "ipython3",
      "version": "3.5.4",
      "file_extension": ".py",
      "codemirror_mode": {
        "version": 3,
        "name": "ipython"
      }
    }
  },
  "nbformat": 4,
  "nbformat_minor": 2
}